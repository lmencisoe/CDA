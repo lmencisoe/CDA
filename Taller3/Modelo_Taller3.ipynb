{
  "nbformat": 4,
  "nbformat_minor": 0,
  "metadata": {
    "colab": {
      "provenance": [],
      "authorship_tag": "ABX9TyMMX4J9H/u2QFmw+GQV+CU7",
      "include_colab_link": true
    },
    "kernelspec": {
      "name": "python3",
      "display_name": "Python 3"
    },
    "language_info": {
      "name": "python"
    },
    "accelerator": "GPU",
    "gpuClass": "standard"
  },
  "cells": [
    {
      "cell_type": "markdown",
      "metadata": {
        "id": "view-in-github",
        "colab_type": "text"
      },
      "source": [
        "<a href=\"https://colab.research.google.com/github/lmencisoe/CDA/blob/main/Taller3/Modelo_Taller3.ipynb\" target=\"_parent\"><img src=\"https://colab.research.google.com/assets/colab-badge.svg\" alt=\"Open In Colab\"/></a>"
      ]
    },
    {
      "cell_type": "code",
      "source": [
        "!pip install --upgrade pandas-profiling"
      ],
      "metadata": {
        "id": "yu5F5ha9UDt8",
        "colab": {
          "base_uri": "https://localhost:8080/"
        },
        "outputId": "55e30ce3-8740-427e-d087-f9a56f4c4130"
      },
      "execution_count": 2,
      "outputs": [
        {
          "output_type": "stream",
          "name": "stdout",
          "text": [
            "Looking in indexes: https://pypi.org/simple, https://us-python.pkg.dev/colab-wheels/public/simple/\n",
            "Requirement already satisfied: pandas-profiling in /usr/local/lib/python3.7/dist-packages (1.4.1)\n",
            "Collecting pandas-profiling\n",
            "  Downloading pandas_profiling-3.4.0-py2.py3-none-any.whl (315 kB)\n",
            "\u001b[K     |████████████████████████████████| 315 kB 5.7 MB/s \n",
            "\u001b[?25hCollecting phik<0.13,>=0.11.1\n",
            "  Downloading phik-0.12.2-cp37-cp37m-manylinux_2_17_x86_64.manylinux2014_x86_64.whl (690 kB)\n",
            "\u001b[K     |████████████████████████████████| 690 kB 15.1 MB/s \n",
            "\u001b[?25hRequirement already satisfied: pydantic<1.11,>=1.8.1 in /usr/local/lib/python3.7/dist-packages (from pandas-profiling) (1.10.2)\n",
            "Requirement already satisfied: tqdm<4.65,>=4.48.2 in /usr/local/lib/python3.7/dist-packages (from pandas-profiling) (4.64.1)\n",
            "Requirement already satisfied: PyYAML<6.1,>=5.0.0 in /usr/local/lib/python3.7/dist-packages (from pandas-profiling) (6.0)\n",
            "Requirement already satisfied: matplotlib<3.6,>=3.2 in /usr/local/lib/python3.7/dist-packages (from pandas-profiling) (3.2.2)\n",
            "Requirement already satisfied: scipy<1.10,>=1.4.1 in /usr/local/lib/python3.7/dist-packages (from pandas-profiling) (1.7.3)\n",
            "Collecting visions[type_image_path]==0.7.5\n",
            "  Downloading visions-0.7.5-py3-none-any.whl (102 kB)\n",
            "\u001b[K     |████████████████████████████████| 102 kB 15.9 MB/s \n",
            "\u001b[?25hCollecting requests<2.29,>=2.24.0\n",
            "  Downloading requests-2.28.1-py3-none-any.whl (62 kB)\n",
            "\u001b[K     |████████████████████████████████| 62 kB 1.2 MB/s \n",
            "\u001b[?25hRequirement already satisfied: missingno<0.6,>=0.4.2 in /usr/local/lib/python3.7/dist-packages (from pandas-profiling) (0.5.1)\n",
            "Requirement already satisfied: pandas!=1.4.0,<1.6,>1.1 in /usr/local/lib/python3.7/dist-packages (from pandas-profiling) (1.3.5)\n",
            "Collecting htmlmin==0.1.12\n",
            "  Downloading htmlmin-0.1.12.tar.gz (19 kB)\n",
            "Collecting multimethod<1.10,>=1.4\n",
            "  Downloading multimethod-1.9-py3-none-any.whl (10 kB)\n",
            "Requirement already satisfied: jinja2<3.2,>=2.11.1 in /usr/local/lib/python3.7/dist-packages (from pandas-profiling) (2.11.3)\n",
            "Requirement already satisfied: numpy<1.24,>=1.16.0 in /usr/local/lib/python3.7/dist-packages (from pandas-profiling) (1.21.6)\n",
            "Collecting statsmodels<0.14,>=0.13.2\n",
            "  Downloading statsmodels-0.13.5-cp37-cp37m-manylinux_2_17_x86_64.manylinux2014_x86_64.whl (9.9 MB)\n",
            "\u001b[K     |████████████████████████████████| 9.9 MB 42.1 MB/s \n",
            "\u001b[?25hRequirement already satisfied: seaborn<0.13,>=0.10.1 in /usr/local/lib/python3.7/dist-packages (from pandas-profiling) (0.11.2)\n",
            "Requirement already satisfied: networkx>=2.4 in /usr/local/lib/python3.7/dist-packages (from visions[type_image_path]==0.7.5->pandas-profiling) (2.6.3)\n",
            "Collecting tangled-up-in-unicode>=0.0.4\n",
            "  Downloading tangled_up_in_unicode-0.2.0-py3-none-any.whl (4.7 MB)\n",
            "\u001b[K     |████████████████████████████████| 4.7 MB 40.6 MB/s \n",
            "\u001b[?25hRequirement already satisfied: attrs>=19.3.0 in /usr/local/lib/python3.7/dist-packages (from visions[type_image_path]==0.7.5->pandas-profiling) (22.1.0)\n",
            "Collecting imagehash\n",
            "  Downloading ImageHash-4.3.1-py2.py3-none-any.whl (296 kB)\n",
            "\u001b[K     |████████████████████████████████| 296 kB 42.4 MB/s \n",
            "\u001b[?25hRequirement already satisfied: Pillow in /usr/local/lib/python3.7/dist-packages (from visions[type_image_path]==0.7.5->pandas-profiling) (7.1.2)\n",
            "Requirement already satisfied: MarkupSafe>=0.23 in /usr/local/lib/python3.7/dist-packages (from jinja2<3.2,>=2.11.1->pandas-profiling) (2.0.1)\n",
            "Requirement already satisfied: python-dateutil>=2.1 in /usr/local/lib/python3.7/dist-packages (from matplotlib<3.6,>=3.2->pandas-profiling) (2.8.2)\n",
            "Requirement already satisfied: pyparsing!=2.0.4,!=2.1.2,!=2.1.6,>=2.0.1 in /usr/local/lib/python3.7/dist-packages (from matplotlib<3.6,>=3.2->pandas-profiling) (3.0.9)\n",
            "Requirement already satisfied: kiwisolver>=1.0.1 in /usr/local/lib/python3.7/dist-packages (from matplotlib<3.6,>=3.2->pandas-profiling) (1.4.4)\n",
            "Requirement already satisfied: cycler>=0.10 in /usr/local/lib/python3.7/dist-packages (from matplotlib<3.6,>=3.2->pandas-profiling) (0.11.0)\n",
            "Requirement already satisfied: typing-extensions in /usr/local/lib/python3.7/dist-packages (from kiwisolver>=1.0.1->matplotlib<3.6,>=3.2->pandas-profiling) (4.1.1)\n",
            "Requirement already satisfied: pytz>=2017.3 in /usr/local/lib/python3.7/dist-packages (from pandas!=1.4.0,<1.6,>1.1->pandas-profiling) (2022.6)\n",
            "Requirement already satisfied: joblib>=0.14.1 in /usr/local/lib/python3.7/dist-packages (from phik<0.13,>=0.11.1->pandas-profiling) (1.2.0)\n",
            "Requirement already satisfied: six>=1.5 in /usr/local/lib/python3.7/dist-packages (from python-dateutil>=2.1->matplotlib<3.6,>=3.2->pandas-profiling) (1.15.0)\n",
            "Requirement already satisfied: certifi>=2017.4.17 in /usr/local/lib/python3.7/dist-packages (from requests<2.29,>=2.24.0->pandas-profiling) (2022.9.24)\n",
            "Requirement already satisfied: urllib3<1.27,>=1.21.1 in /usr/local/lib/python3.7/dist-packages (from requests<2.29,>=2.24.0->pandas-profiling) (1.24.3)\n",
            "Requirement already satisfied: charset-normalizer<3,>=2 in /usr/local/lib/python3.7/dist-packages (from requests<2.29,>=2.24.0->pandas-profiling) (2.1.1)\n",
            "Requirement already satisfied: idna<4,>=2.5 in /usr/local/lib/python3.7/dist-packages (from requests<2.29,>=2.24.0->pandas-profiling) (2.10)\n",
            "Requirement already satisfied: patsy>=0.5.2 in /usr/local/lib/python3.7/dist-packages (from statsmodels<0.14,>=0.13.2->pandas-profiling) (0.5.3)\n",
            "Requirement already satisfied: packaging>=21.3 in /usr/local/lib/python3.7/dist-packages (from statsmodels<0.14,>=0.13.2->pandas-profiling) (21.3)\n",
            "Requirement already satisfied: PyWavelets in /usr/local/lib/python3.7/dist-packages (from imagehash->visions[type_image_path]==0.7.5->pandas-profiling) (1.3.0)\n",
            "Building wheels for collected packages: htmlmin\n",
            "  Building wheel for htmlmin (setup.py) ... \u001b[?25l\u001b[?25hdone\n",
            "  Created wheel for htmlmin: filename=htmlmin-0.1.12-py3-none-any.whl size=27098 sha256=e2050b8d989cb64bffe989ecc8642422dc555154ba1a1f60d0a11f14029bd635\n",
            "  Stored in directory: /root/.cache/pip/wheels/70/e1/52/5b14d250ba868768823940c3229e9950d201a26d0bd3ee8655\n",
            "Successfully built htmlmin\n",
            "Installing collected packages: tangled-up-in-unicode, multimethod, visions, imagehash, statsmodels, requests, phik, htmlmin, pandas-profiling\n",
            "  Attempting uninstall: statsmodels\n",
            "    Found existing installation: statsmodels 0.12.2\n",
            "    Uninstalling statsmodels-0.12.2:\n",
            "      Successfully uninstalled statsmodels-0.12.2\n",
            "  Attempting uninstall: requests\n",
            "    Found existing installation: requests 2.23.0\n",
            "    Uninstalling requests-2.23.0:\n",
            "      Successfully uninstalled requests-2.23.0\n",
            "  Attempting uninstall: pandas-profiling\n",
            "    Found existing installation: pandas-profiling 1.4.1\n",
            "    Uninstalling pandas-profiling-1.4.1:\n",
            "      Successfully uninstalled pandas-profiling-1.4.1\n",
            "Successfully installed htmlmin-0.1.12 imagehash-4.3.1 multimethod-1.9 pandas-profiling-3.4.0 phik-0.12.2 requests-2.28.1 statsmodels-0.13.5 tangled-up-in-unicode-0.2.0 visions-0.7.5\n"
          ]
        }
      ]
    },
    {
      "cell_type": "code",
      "source": [
        "!pip install shap"
      ],
      "metadata": {
        "id": "tcL-ixISSvFD",
        "colab": {
          "base_uri": "https://localhost:8080/"
        },
        "outputId": "bb47ded6-da68-4add-8a88-25b91db14263"
      },
      "execution_count": 3,
      "outputs": [
        {
          "output_type": "stream",
          "name": "stdout",
          "text": [
            "Looking in indexes: https://pypi.org/simple, https://us-python.pkg.dev/colab-wheels/public/simple/\n",
            "Collecting shap\n",
            "  Downloading shap-0.41.0-cp37-cp37m-manylinux_2_12_x86_64.manylinux2010_x86_64.whl (569 kB)\n",
            "\u001b[K     |████████████████████████████████| 569 kB 5.7 MB/s \n",
            "\u001b[?25hRequirement already satisfied: numba in /usr/local/lib/python3.7/dist-packages (from shap) (0.56.4)\n",
            "Collecting slicer==0.0.7\n",
            "  Downloading slicer-0.0.7-py3-none-any.whl (14 kB)\n",
            "Requirement already satisfied: packaging>20.9 in /usr/local/lib/python3.7/dist-packages (from shap) (21.3)\n",
            "Requirement already satisfied: pandas in /usr/local/lib/python3.7/dist-packages (from shap) (1.3.5)\n",
            "Requirement already satisfied: scikit-learn in /usr/local/lib/python3.7/dist-packages (from shap) (1.0.2)\n",
            "Requirement already satisfied: numpy in /usr/local/lib/python3.7/dist-packages (from shap) (1.21.6)\n",
            "Requirement already satisfied: tqdm>4.25.0 in /usr/local/lib/python3.7/dist-packages (from shap) (4.64.1)\n",
            "Requirement already satisfied: cloudpickle in /usr/local/lib/python3.7/dist-packages (from shap) (1.5.0)\n",
            "Requirement already satisfied: scipy in /usr/local/lib/python3.7/dist-packages (from shap) (1.7.3)\n",
            "Requirement already satisfied: pyparsing!=3.0.5,>=2.0.2 in /usr/local/lib/python3.7/dist-packages (from packaging>20.9->shap) (3.0.9)\n",
            "Requirement already satisfied: setuptools in /usr/local/lib/python3.7/dist-packages (from numba->shap) (57.4.0)\n",
            "Requirement already satisfied: importlib-metadata in /usr/local/lib/python3.7/dist-packages (from numba->shap) (4.13.0)\n",
            "Requirement already satisfied: llvmlite<0.40,>=0.39.0dev0 in /usr/local/lib/python3.7/dist-packages (from numba->shap) (0.39.1)\n",
            "Requirement already satisfied: typing-extensions>=3.6.4 in /usr/local/lib/python3.7/dist-packages (from importlib-metadata->numba->shap) (4.1.1)\n",
            "Requirement already satisfied: zipp>=0.5 in /usr/local/lib/python3.7/dist-packages (from importlib-metadata->numba->shap) (3.10.0)\n",
            "Requirement already satisfied: python-dateutil>=2.7.3 in /usr/local/lib/python3.7/dist-packages (from pandas->shap) (2.8.2)\n",
            "Requirement already satisfied: pytz>=2017.3 in /usr/local/lib/python3.7/dist-packages (from pandas->shap) (2022.6)\n",
            "Requirement already satisfied: six>=1.5 in /usr/local/lib/python3.7/dist-packages (from python-dateutil>=2.7.3->pandas->shap) (1.15.0)\n",
            "Requirement already satisfied: threadpoolctl>=2.0.0 in /usr/local/lib/python3.7/dist-packages (from scikit-learn->shap) (3.1.0)\n",
            "Requirement already satisfied: joblib>=0.11 in /usr/local/lib/python3.7/dist-packages (from scikit-learn->shap) (1.2.0)\n",
            "Installing collected packages: slicer, shap\n",
            "Successfully installed shap-0.41.0 slicer-0.0.7\n"
          ]
        }
      ]
    },
    {
      "cell_type": "code",
      "execution_count": 4,
      "metadata": {
        "id": "Fhk7Dw51S3nK",
        "colab": {
          "base_uri": "https://localhost:8080/"
        },
        "outputId": "f9b6650d-1a41-4a37-c971-b7d48212dd4d"
      },
      "outputs": [
        {
          "output_type": "stream",
          "name": "stdout",
          "text": [
            "Mounted at /content/drive\n"
          ]
        }
      ],
      "source": [
        "import pandas as pd\n",
        "import numpy as np\n",
        "from google.colab import drive\n",
        "drive.mount('/content/drive')\n",
        "import xgboost as xgb\n",
        "import pandas as pd\n",
        "import matplotlib.pyplot as plt\n",
        "%matplotlib inline\n",
        "from sklearn.decomposition import PCA\n",
        "from pandas_profiling import ProfileReport\n",
        "import tensorflow as tf\n",
        "from sklearn.feature_extraction import DictVectorizer\n",
        "from sklearn.datasets import make_blobs\n",
        "from sklearn.cluster import KMeans\n",
        "from sklearn.metrics import silhouette_score\n",
        "from sklearn import preprocessing\n",
        "from sklearn.linear_model import LogisticRegression\n",
        "from keras.models import Sequential\n",
        "from xgboost import plot_importance\n",
        "from keras.layers import Dropout, Flatten, Dense, Input, Rescaling, Lambda, MaxPooling2D, Conv2D, AveragePooling2D\n",
        "from sklearn.neural_network import MLPClassifier\n",
        "from sklearn.svm import SVC\n",
        "from sklearn.ensemble import RandomForestClassifier\n",
        "from sklearn.metrics import accuracy_score\n",
        "from sklearn.metrics import ConfusionMatrixDisplay, precision_score, recall_score, f1_score\n",
        "from sklearn.preprocessing import StandardScaler\n",
        "from sklearn.metrics import classification_report, confusion_matrix\n",
        "from sklearn.model_selection import train_test_split\n",
        "from sklearn.tree import DecisionTreeClassifier, plot_tree\n",
        "from sklearn.model_selection  import GridSearchCV\n",
        "from matplotlib import pyplot\n",
        "import seaborn as sns\n",
        "import shap\n",
        "import warnings\n",
        "import re\n",
        "warnings.filterwarnings('ignore')"
      ]
    },
    {
      "cell_type": "code",
      "source": [
        "df=pd.read_csv(\"/content/drive/MyDrive/Taller3_CDA/Data_Taller_3_modelo.csv\",sep=\";\")"
      ],
      "metadata": {
        "id": "3Bb9P7cgTK6g"
      },
      "execution_count": 5,
      "outputs": []
    },
    {
      "cell_type": "code",
      "source": [
        "df2 = df.copy()\n",
        "df2 = df2[df2['NewEmployee']==0]"
      ],
      "metadata": {
        "id": "kAtPoOf-JwWU"
      },
      "execution_count": 6,
      "outputs": []
    },
    {
      "cell_type": "code",
      "source": [
        "df.info()"
      ],
      "metadata": {
        "id": "l1P4MLggegCO",
        "colab": {
          "base_uri": "https://localhost:8080/"
        },
        "outputId": "9fc162b0-d45c-40f3-f587-c15adb4d5807"
      },
      "execution_count": 7,
      "outputs": [
        {
          "output_type": "stream",
          "name": "stdout",
          "text": [
            "<class 'pandas.core.frame.DataFrame'>\n",
            "RangeIndex: 1506 entries, 0 to 1505\n",
            "Data columns (total 46 columns):\n",
            " #   Column                                Non-Null Count  Dtype  \n",
            "---  ------                                --------------  -----  \n",
            " 0   JobSatisfaction                       1494 non-null   float64\n",
            " 1   Age                                   1506 non-null   float64\n",
            " 2   Attrition                             1506 non-null   int64  \n",
            " 3   DailyRate                             1506 non-null   float64\n",
            " 4   DistanceFromHome                      1506 non-null   float64\n",
            " 5   HourlyRate                            1506 non-null   float64\n",
            " 6   MonthlyIncome                         1506 non-null   float64\n",
            " 7   MonthlyRate                           1506 non-null   float64\n",
            " 8   NumCompaniesWorked                    1506 non-null   float64\n",
            " 9   OverTime                              1506 non-null   int64  \n",
            " 10  PercentSalaryHike                     1506 non-null   float64\n",
            " 11  TrainingTimesLastYear                 1506 non-null   float64\n",
            " 12  YearsSinceLastPromotion               1506 non-null   float64\n",
            " 13  NewEmployee                           1506 non-null   int64  \n",
            " 14  BusinessTravel_g__Travel_Frequently   1506 non-null   int64  \n",
            " 15  BusinessTravel_g__Travel_No           1506 non-null   int64  \n",
            " 16  BusinessTravel_g__Travel_Rarely       1506 non-null   int64  \n",
            " 17  Department_g__Human Resources         1506 non-null   int64  \n",
            " 18  Department_g__Research & Development  1506 non-null   int64  \n",
            " 19  Department_g__Sales                   1506 non-null   int64  \n",
            " 20  Education_g__1                        1506 non-null   int64  \n",
            " 21  Education_g__2                        1506 non-null   int64  \n",
            " 22  Education_g__3                        1506 non-null   int64  \n",
            " 23  Education_g__4                        1506 non-null   int64  \n",
            " 24  Education_g__5                        1506 non-null   int64  \n",
            " 25  EnvironmentSatisfaction_g__1          1506 non-null   int64  \n",
            " 26  EnvironmentSatisfaction_g__2          1506 non-null   int64  \n",
            " 27  EnvironmentSatisfaction_g__3          1506 non-null   int64  \n",
            " 28  EnvironmentSatisfaction_g__4          1506 non-null   int64  \n",
            " 29  Gender_g__Female                      1506 non-null   int64  \n",
            " 30  Gender_g__Male                        1506 non-null   int64  \n",
            " 31  JobInvolvement_g__1                   1506 non-null   int64  \n",
            " 32  JobInvolvement_g__2                   1506 non-null   int64  \n",
            " 33  JobInvolvement_g__3                   1506 non-null   int64  \n",
            " 34  JobInvolvement_g__4                   1506 non-null   int64  \n",
            " 35  MaritalStatus_g__Divorced             1506 non-null   int64  \n",
            " 36  MaritalStatus_g__Married              1506 non-null   int64  \n",
            " 37  MaritalStatus_g__Single               1506 non-null   int64  \n",
            " 38  RelationshipSatisfaction_g__1         1506 non-null   int64  \n",
            " 39  RelationshipSatisfaction_g__2         1506 non-null   int64  \n",
            " 40  RelationshipSatisfaction_g__3         1506 non-null   int64  \n",
            " 41  RelationshipSatisfaction_g__4         1506 non-null   int64  \n",
            " 42  WorkLifeBalance_g__1                  1506 non-null   int64  \n",
            " 43  WorkLifeBalance_g__2                  1506 non-null   int64  \n",
            " 44  WorkLifeBalance_g__3                  1506 non-null   int64  \n",
            " 45  WorkLifeBalance_g__4                  1506 non-null   int64  \n",
            "dtypes: float64(11), int64(35)\n",
            "memory usage: 541.3 KB\n"
          ]
        }
      ]
    },
    {
      "cell_type": "code",
      "source": [
        "X_total = df2.drop(['JobSatisfaction'], axis=1)\n",
        "Y_total = df2['JobSatisfaction']"
      ],
      "metadata": {
        "id": "skviZXbfibr8"
      },
      "execution_count": 8,
      "outputs": []
    },
    {
      "cell_type": "code",
      "source": [
        "#multi:softprob"
      ],
      "metadata": {
        "id": "bw36fgrKpCa2"
      },
      "execution_count": 9,
      "outputs": []
    },
    {
      "cell_type": "markdown",
      "source": [
        "#*Entrena modelo base para selección de mejores variables (XgBoost)*"
      ],
      "metadata": {
        "id": "HW0uWRd018xD"
      }
    },
    {
      "cell_type": "code",
      "source": [
        "xgb_base = xgb.XGBClassifier(objective='multi:softprob',\n",
        "         seed = 2022)\n",
        "\n",
        "xgb_base.fit(X_total,\n",
        "         Y_total,  \n",
        "         eval_metric=\"merror\")"
      ],
      "metadata": {
        "id": "Ub8PcSn518EO",
        "colab": {
          "base_uri": "https://localhost:8080/"
        },
        "outputId": "637cb0f0-1043-4207-85c5-32774ae98f9b"
      },
      "execution_count": 10,
      "outputs": [
        {
          "output_type": "execute_result",
          "data": {
            "text/plain": [
              "XGBClassifier(objective='multi:softprob', seed=2022)"
            ]
          },
          "metadata": {},
          "execution_count": 10
        }
      ]
    },
    {
      "cell_type": "code",
      "source": [
        "plot_importance(xgb_base, height = 1, max_num_features = 15)\n",
        "pyplot.show()"
      ],
      "metadata": {
        "id": "zncOTa4I2ZcS",
        "colab": {
          "base_uri": "https://localhost:8080/",
          "height": 295
        },
        "outputId": "f6accac4-d7d7-45f2-a4d1-485fdee870cc"
      },
      "execution_count": 11,
      "outputs": [
        {
          "output_type": "display_data",
          "data": {
            "text/plain": [
              "<Figure size 432x288 with 1 Axes>"
            ],
            "image/png": "[encoded data removed]"
          },
          "metadata": {
            "needs_background": "light"
          }
        }
      ]
    },
    {
      "cell_type": "markdown",
      "source": [
        "# *Se decide dejar las variables: MonhtlyIncome, MonthlyRate, DailyRate, HourlyRate, Age, DistanceFromHome, PercentSalaryHike y YearsSinceLastPromotion*\\\\\n",
        "*Con las demás se decide construir kmeans y grupos para reducir dimensionalidad*"
      ],
      "metadata": {
        "id": "mEW5fK_k2czd"
      }
    },
    {
      "cell_type": "code",
      "source": [
        "df3 = df.copy()\n",
        "df3.shape"
      ],
      "metadata": {
        "id": "j2woC_yIKFv_",
        "colab": {
          "base_uri": "https://localhost:8080/"
        },
        "outputId": "1757e19a-eef9-4fb9-af9f-36901d5208d2"
      },
      "execution_count": 12,
      "outputs": [
        {
          "output_type": "execute_result",
          "data": {
            "text/plain": [
              "(1506, 46)"
            ]
          },
          "metadata": {},
          "execution_count": 12
        }
      ]
    },
    {
      "cell_type": "code",
      "source": [
        "X_total = df3.drop(['JobSatisfaction'], axis=1)"
      ],
      "metadata": {
        "id": "RZAJ-kd5KbsJ"
      },
      "execution_count": 13,
      "outputs": []
    },
    {
      "cell_type": "code",
      "source": [
        "X_base = X_total[['MonthlyIncome','MonthlyRate', 'DailyRate', 'HourlyRate', 'Age', 'DistanceFromHome', 'PercentSalaryHike', 'YearsSinceLastPromotion','NewEmployee']]\n",
        "X_resto = X_total.drop(['MonthlyIncome','MonthlyRate', 'DailyRate', 'HourlyRate', 'Age', 'DistanceFromHome', 'PercentSalaryHike', 'YearsSinceLastPromotion'], axis=1)"
      ],
      "metadata": {
        "id": "ha76-J4H3t1S"
      },
      "execution_count": 14,
      "outputs": []
    },
    {
      "cell_type": "markdown",
      "source": [
        "# **Se construye un PCA con las demás variables (Esto hace parte del bono)**"
      ],
      "metadata": {
        "id": "kRCbj2LZ3qFf"
      }
    },
    {
      "cell_type": "code",
      "source": [
        "pca = PCA(n_components=10)\n",
        "principalComponents = pca.fit_transform(X_resto)\n",
        "principalDf = pd.DataFrame(data = principalComponents\n",
        "             , columns = ['pc1', 'pc2','pc3', 'pc4','pc5', 'pc6','pc7', 'pc8','pc9', 'pc10'])"
      ],
      "metadata": {
        "id": "BdpGrZ9n3Twm"
      },
      "execution_count": 15,
      "outputs": []
    },
    {
      "cell_type": "markdown",
      "source": [
        "# Se usa un kmeans y método del codo para seleccionar 5 grupos, con el fin de resumir las variables restantes en estos 5 grupos y que sean features del nuevo modelo."
      ],
      "metadata": {
        "id": "YWS9QFZLYRxa"
      }
    },
    {
      "cell_type": "code",
      "source": [
        "kmeans_kwargs = {\n",
        "    \"init\": \"random\",\n",
        "    \"n_init\": 10,\n",
        "    \"max_iter\": 300,\n",
        "    \"random_state\": 42,\n",
        "}\n",
        "\n",
        "# A list holds the SSE values for each k\n",
        "sse = []\n",
        "for k in range(1, 11):\n",
        "    kmeans = KMeans(n_clusters=k, **kmeans_kwargs)\n",
        "    kmeans.fit(principalDf)\n",
        "    sse.append(kmeans.inertia_)"
      ],
      "metadata": {
        "id": "gVYyU6rr5IWh"
      },
      "execution_count": 16,
      "outputs": []
    },
    {
      "cell_type": "code",
      "source": [
        "plt.style.use(\"fivethirtyeight\")\n",
        "plt.plot(range(1, 11), sse)\n",
        "plt.xticks(range(1, 11))\n",
        "plt.xlabel(\"Number of Clusters\")\n",
        "plt.ylabel(\"SSE\")\n",
        "plt.show()"
      ],
      "metadata": {
        "id": "3RBI-LvW5XbQ",
        "colab": {
          "base_uri": "https://localhost:8080/",
          "height": 304
        },
        "outputId": "b1b9d1c3-afcd-4d84-c45a-6ff59fc26c1b"
      },
      "execution_count": 17,
      "outputs": [
        {
          "output_type": "display_data",
          "data": {
            "text/plain": [
              "<Figure size 432x288 with 1 Axes>"
            ],
            "image/png": "[encoded data removed]"
          },
          "metadata": {}
        }
      ]
    },
    {
      "cell_type": "code",
      "source": [
        "kmeans = KMeans(\n",
        "     init=\"random\",\n",
        "     n_clusters=5,\n",
        "     n_init=10,\n",
        "     max_iter=300,\n",
        "     random_state=42)\n",
        "kmeans.fit(principalDf)\n",
        "kmeans.labels_[:5]"
      ],
      "metadata": {
        "id": "JBTcI5QS3n_Z",
        "colab": {
          "base_uri": "https://localhost:8080/"
        },
        "outputId": "636bbf4a-612e-4892-ab7c-5318b92e6084"
      },
      "execution_count": 18,
      "outputs": [
        {
          "output_type": "execute_result",
          "data": {
            "text/plain": [
              "array([0, 4, 0, 1, 0], dtype=int32)"
            ]
          },
          "metadata": {},
          "execution_count": 18
        }
      ]
    },
    {
      "cell_type": "code",
      "source": [
        "X_base['new'] = kmeans.labels_"
      ],
      "metadata": {
        "id": "ATiqdbK75hpg"
      },
      "execution_count": 19,
      "outputs": []
    },
    {
      "cell_type": "code",
      "source": [
        "dummies_1 = pd.get_dummies(X_base['new'], prefix='cluster_g_').reset_index(drop=True)\n",
        "X_base = pd.concat([X_base.reset_index(drop=True), dummies_1], axis=1)"
      ],
      "metadata": {
        "id": "gOK6lkew6WPS"
      },
      "execution_count": 20,
      "outputs": []
    },
    {
      "cell_type": "code",
      "source": [
        "X_base = X_base.drop(columns=['new'])"
      ],
      "metadata": {
        "id": "vn77ItNy6hVS"
      },
      "execution_count": 21,
      "outputs": []
    },
    {
      "cell_type": "markdown",
      "source": [
        "Nuevas X con las variables seleccionadas y los grupos del kmeans con la reducción de dimensionalidad:"
      ],
      "metadata": {
        "id": "npf89ZHFYd1N"
      }
    },
    {
      "cell_type": "code",
      "source": [
        "X_base"
      ],
      "metadata": {
        "id": "vv7auO7L6vbB",
        "colab": {
          "base_uri": "https://localhost:8080/",
          "height": 423
        },
        "outputId": "00b2f834-5cce-456e-f9ba-e3415e535730"
      },
      "execution_count": 22,
      "outputs": [
        {
          "output_type": "execute_result",
          "data": {
            "text/plain": [
              "      MonthlyIncome  MonthlyRate  DailyRate  HourlyRate       Age  \\\n",
              "0         -0.099794     0.736982   0.737990    1.343204  0.446668   \n",
              "1         -0.283062     1.501137  -1.300005   -0.248844  1.318864   \n",
              "2         -0.928641    -1.667968   1.409068    1.246716  0.010569   \n",
              "3         -0.754717     1.255053   1.456117   -0.490063 -0.425529   \n",
              "4         -0.636007     0.336180  -0.527399   -1.261965 -1.406750   \n",
              "...             ...          ...        ...         ...       ...   \n",
              "1501       0.040365     0.145282   0.101581   -1.020745 -0.098455   \n",
              "1502       1.413707    -0.332949  -1.560017   -0.490063  1.318864   \n",
              "1503      -0.509014     0.288033   1.233250    0.040620 -1.079676   \n",
              "1504      -0.875126    -0.443743  -0.928560    1.584423  0.773742   \n",
              "1505      -0.882558     0.030405   0.403690    0.909009 -0.316504   \n",
              "\n",
              "      DistanceFromHome  PercentSalaryHike  YearsSinceLastPromotion  \\\n",
              "0            -1.011882          -1.147041                -0.679156   \n",
              "1            -0.151133           2.136553                -0.366179   \n",
              "2            -0.888918          -0.052510                -0.679156   \n",
              "3            -0.765954          -1.147041                 0.259775   \n",
              "4            -0.888918          -0.873408                -0.053202   \n",
              "...                ...                ...                      ...   \n",
              "1501         -1.011882          -0.052510                -0.679156   \n",
              "1502         -0.151133           0.494756                -0.053202   \n",
              "1503          1.201472          -1.147041                -0.679156   \n",
              "1504         -1.011882          -0.873408                -0.053202   \n",
              "1505          0.832580           2.136553                 0.259775   \n",
              "\n",
              "      NewEmployee  cluster_g__0  cluster_g__1  cluster_g__2  cluster_g__3  \\\n",
              "0               0             1             0             0             0   \n",
              "1               0             0             0             0             0   \n",
              "2               0             1             0             0             0   \n",
              "3               0             0             1             0             0   \n",
              "4               0             1             0             0             0   \n",
              "...           ...           ...           ...           ...           ...   \n",
              "1501            0             0             0             1             0   \n",
              "1502            0             1             0             0             0   \n",
              "1503            0             0             0             0             0   \n",
              "1504            0             0             0             0             0   \n",
              "1505            0             0             0             0             0   \n",
              "\n",
              "      cluster_g__4  \n",
              "0                0  \n",
              "1                1  \n",
              "2                0  \n",
              "3                0  \n",
              "4                0  \n",
              "...            ...  \n",
              "1501             0  \n",
              "1502             0  \n",
              "1503             1  \n",
              "1504             1  \n",
              "1505             1  \n",
              "\n",
              "[1506 rows x 14 columns]"
            ],
            "text/html": [
              "\n",
              "  <div id=\"df-32b49b18-9e94-4d46-898e-0cd0e2a986fa\">\n",
              "    <div class=\"colab-df-container\">\n",
              "      <div>\n",
              "<style scoped>\n",
              "    .dataframe tbody tr th:only-of-type {\n",
              "        vertical-align: middle;\n",
              "    }\n",
              "\n",
              "    .dataframe tbody tr th {\n",
              "        vertical-align: top;\n",
              "    }\n",
              "\n",
              "    .dataframe thead th {\n",
              "        text-align: right;\n",
              "    }\n",
              "</style>\n",
              "<table border=\"1\" class=\"dataframe\">\n",
              "  <thead>\n",
              "    <tr style=\"text-align: right;\">\n",
              "      <th></th>\n",
              "      <th>MonthlyIncome</th>\n",
              "      <th>MonthlyRate</th>\n",
              "      <th>DailyRate</th>\n",
              "      <th>HourlyRate</th>\n",
              "      <th>Age</th>\n",
              "      <th>DistanceFromHome</th>\n",
              "      <th>PercentSalaryHike</th>\n",
              "      <th>YearsSinceLastPromotion</th>\n",
              "      <th>NewEmployee</th>\n",
              "      <th>cluster_g__0</th>\n",
              "      <th>cluster_g__1</th>\n",
              "      <th>cluster_g__2</th>\n",
              "      <th>cluster_g__3</th>\n",
              "      <th>cluster_g__4</th>\n",
              "    </tr>\n",
              "  </thead>\n",
              "  <tbody>\n",
              "    <tr>\n",
              "      <th>0</th>\n",
              "      <td>-0.099794</td>\n",
              "      <td>0.736982</td>\n",
              "      <td>0.737990</td>\n",
              "      <td>1.343204</td>\n",
              "      <td>0.446668</td>\n",
              "      <td>-1.011882</td>\n",
              "      <td>-1.147041</td>\n",
              "      <td>-0.679156</td>\n",
              "      <td>0</td>\n",
              "      <td>1</td>\n",
              "      <td>0</td>\n",
              "      <td>0</td>\n",
              "      <td>0</td>\n",
              "      <td>0</td>\n",
              "    </tr>\n",
              "    <tr>\n",
              "      <th>1</th>\n",
              "      <td>-0.283062</td>\n",
              "      <td>1.501137</td>\n",
              "      <td>-1.300005</td>\n",
              "      <td>-0.248844</td>\n",
              "      <td>1.318864</td>\n",
              "      <td>-0.151133</td>\n",
              "      <td>2.136553</td>\n",
              "      <td>-0.366179</td>\n",
              "      <td>0</td>\n",
              "      <td>0</td>\n",
              "      <td>0</td>\n",
              "      <td>0</td>\n",
              "      <td>0</td>\n",
              "      <td>1</td>\n",
              "    </tr>\n",
              "    <tr>\n",
              "      <th>2</th>\n",
              "      <td>-0.928641</td>\n",
              "      <td>-1.667968</td>\n",
              "      <td>1.409068</td>\n",
              "      <td>1.246716</td>\n",
              "      <td>0.010569</td>\n",
              "      <td>-0.888918</td>\n",
              "      <td>-0.052510</td>\n",
              "      <td>-0.679156</td>\n",
              "      <td>0</td>\n",
              "      <td>1</td>\n",
              "      <td>0</td>\n",
              "      <td>0</td>\n",
              "      <td>0</td>\n",
              "      <td>0</td>\n",
              "    </tr>\n",
              "    <tr>\n",
              "      <th>3</th>\n",
              "      <td>-0.754717</td>\n",
              "      <td>1.255053</td>\n",
              "      <td>1.456117</td>\n",
              "      <td>-0.490063</td>\n",
              "      <td>-0.425529</td>\n",
              "      <td>-0.765954</td>\n",
              "      <td>-1.147041</td>\n",
              "      <td>0.259775</td>\n",
              "      <td>0</td>\n",
              "      <td>0</td>\n",
              "      <td>1</td>\n",
              "      <td>0</td>\n",
              "      <td>0</td>\n",
              "      <td>0</td>\n",
              "    </tr>\n",
              "    <tr>\n",
              "      <th>4</th>\n",
              "      <td>-0.636007</td>\n",
              "      <td>0.336180</td>\n",
              "      <td>-0.527399</td>\n",
              "      <td>-1.261965</td>\n",
              "      <td>-1.406750</td>\n",
              "      <td>-0.888918</td>\n",
              "      <td>-0.873408</td>\n",
              "      <td>-0.053202</td>\n",
              "      <td>0</td>\n",
              "      <td>1</td>\n",
              "      <td>0</td>\n",
              "      <td>0</td>\n",
              "      <td>0</td>\n",
              "      <td>0</td>\n",
              "    </tr>\n",
              "    <tr>\n",
              "      <th>...</th>\n",
              "      <td>...</td>\n",
              "      <td>...</td>\n",
              "      <td>...</td>\n",
              "      <td>...</td>\n",
              "      <td>...</td>\n",
              "      <td>...</td>\n",
              "      <td>...</td>\n",
              "      <td>...</td>\n",
              "      <td>...</td>\n",
              "      <td>...</td>\n",
              "      <td>...</td>\n",
              "      <td>...</td>\n",
              "      <td>...</td>\n",
              "      <td>...</td>\n",
              "    </tr>\n",
              "    <tr>\n",
              "      <th>1501</th>\n",
              "      <td>0.040365</td>\n",
              "      <td>0.145282</td>\n",
              "      <td>0.101581</td>\n",
              "      <td>-1.020745</td>\n",
              "      <td>-0.098455</td>\n",
              "      <td>-1.011882</td>\n",
              "      <td>-0.052510</td>\n",
              "      <td>-0.679156</td>\n",
              "      <td>0</td>\n",
              "      <td>0</td>\n",
              "      <td>0</td>\n",
              "      <td>1</td>\n",
              "      <td>0</td>\n",
              "      <td>0</td>\n",
              "    </tr>\n",
              "    <tr>\n",
              "      <th>1502</th>\n",
              "      <td>1.413707</td>\n",
              "      <td>-0.332949</td>\n",
              "      <td>-1.560017</td>\n",
              "      <td>-0.490063</td>\n",
              "      <td>1.318864</td>\n",
              "      <td>-0.151133</td>\n",
              "      <td>0.494756</td>\n",
              "      <td>-0.053202</td>\n",
              "      <td>0</td>\n",
              "      <td>1</td>\n",
              "      <td>0</td>\n",
              "      <td>0</td>\n",
              "      <td>0</td>\n",
              "      <td>0</td>\n",
              "    </tr>\n",
              "    <tr>\n",
              "      <th>1503</th>\n",
              "      <td>-0.509014</td>\n",
              "      <td>0.288033</td>\n",
              "      <td>1.233250</td>\n",
              "      <td>0.040620</td>\n",
              "      <td>-1.079676</td>\n",
              "      <td>1.201472</td>\n",
              "      <td>-1.147041</td>\n",
              "      <td>-0.679156</td>\n",
              "      <td>0</td>\n",
              "      <td>0</td>\n",
              "      <td>0</td>\n",
              "      <td>0</td>\n",
              "      <td>0</td>\n",
              "      <td>1</td>\n",
              "    </tr>\n",
              "    <tr>\n",
              "      <th>1504</th>\n",
              "      <td>-0.875126</td>\n",
              "      <td>-0.443743</td>\n",
              "      <td>-0.928560</td>\n",
              "      <td>1.584423</td>\n",
              "      <td>0.773742</td>\n",
              "      <td>-1.011882</td>\n",
              "      <td>-0.873408</td>\n",
              "      <td>-0.053202</td>\n",
              "      <td>0</td>\n",
              "      <td>0</td>\n",
              "      <td>0</td>\n",
              "      <td>0</td>\n",
              "      <td>0</td>\n",
              "      <td>1</td>\n",
              "    </tr>\n",
              "    <tr>\n",
              "      <th>1505</th>\n",
              "      <td>-0.882558</td>\n",
              "      <td>0.030405</td>\n",
              "      <td>0.403690</td>\n",
              "      <td>0.909009</td>\n",
              "      <td>-0.316504</td>\n",
              "      <td>0.832580</td>\n",
              "      <td>2.136553</td>\n",
              "      <td>0.259775</td>\n",
              "      <td>0</td>\n",
              "      <td>0</td>\n",
              "      <td>0</td>\n",
              "      <td>0</td>\n",
              "      <td>0</td>\n",
              "      <td>1</td>\n",
              "    </tr>\n",
              "  </tbody>\n",
              "</table>\n",
              "<p>1506 rows × 14 columns</p>\n",
              "</div>\n",
              "      <button class=\"colab-df-convert\" onclick=\"convertToInteractive('df-32b49b18-9e94-4d46-898e-0cd0e2a986fa')\"\n",
              "              title=\"Convert this dataframe to an interactive table.\"\n",
              "              style=\"display:none;\">\n",
              "        \n",
              "  <svg xmlns=\"http://www.w3.org/2000/svg\" height=\"24px\"viewBox=\"0 0 24 24\"\n",
              "       width=\"24px\">\n",
              "    <path d=\"M0 0h24v24H0V0z\" fill=\"none\"/>\n",
              "    <path d=\"M18.56 5.44l.94 2.06.94-2.06 2.06-.94-2.06-.94-.94-2.06-.94 2.06-2.06.94zm-11 1L8.5 8.5l.94-2.06 2.06-.94-2.06-.94L8.5 2.5l-.94 2.06-2.06.94zm10 10l.94 2.06.94-2.06 2.06-.94-2.06-.94-.94-2.06-.94 2.06-2.06.94z\"/><path d=\"M17.41 7.96l-1.37-1.37c-.4-.4-.92-.59-1.43-.59-.52 0-1.04.2-1.43.59L10.3 9.45l-7.72 7.72c-.78.78-.78 2.05 0 2.83L4 21.41c.39.39.9.59 1.41.59.51 0 1.02-.2 1.41-.59l7.78-7.78 2.81-2.81c.8-.78.8-2.07 0-2.86zM5.41 20L4 18.59l7.72-7.72 1.47 1.35L5.41 20z\"/>\n",
              "  </svg>\n",
              "      </button>\n",
              "      \n",
              "  <style>\n",
              "    .colab-df-container {\n",
              "      display:flex;\n",
              "      flex-wrap:wrap;\n",
              "      gap: 12px;\n",
              "    }\n",
              "\n",
              "    .colab-df-convert {\n",
              "      background-color: #E8F0FE;\n",
              "      border: none;\n",
              "      border-radius: 50%;\n",
              "      cursor: pointer;\n",
              "      display: none;\n",
              "      fill: #1967D2;\n",
              "      height: 32px;\n",
              "      padding: 0 0 0 0;\n",
              "      width: 32px;\n",
              "    }\n",
              "\n",
              "    .colab-df-convert:hover {\n",
              "      background-color: #E2EBFA;\n",
              "      box-shadow: 0px 1px 2px rgba(60, 64, 67, 0.3), 0px 1px 3px 1px rgba(60, 64, 67, 0.15);\n",
              "      fill: #174EA6;\n",
              "    }\n",
              "\n",
              "    [theme=dark] .colab-df-convert {\n",
              "      background-color: #3B4455;\n",
              "      fill: #D2E3FC;\n",
              "    }\n",
              "\n",
              "    [theme=dark] .colab-df-convert:hover {\n",
              "      background-color: #434B5C;\n",
              "      box-shadow: 0px 1px 3px 1px rgba(0, 0, 0, 0.15);\n",
              "      filter: drop-shadow(0px 1px 2px rgba(0, 0, 0, 0.3));\n",
              "      fill: #FFFFFF;\n",
              "    }\n",
              "  </style>\n",
              "\n",
              "      <script>\n",
              "        const buttonEl =\n",
              "          document.querySelector('#df-32b49b18-9e94-4d46-898e-0cd0e2a986fa button.colab-df-convert');\n",
              "        buttonEl.style.display =\n",
              "          google.colab.kernel.accessAllowed ? 'block' : 'none';\n",
              "\n",
              "        async function convertToInteractive(key) {\n",
              "          const element = document.querySelector('#df-32b49b18-9e94-4d46-898e-0cd0e2a986fa');\n",
              "          const dataTable =\n",
              "            await google.colab.kernel.invokeFunction('convertToInteractive',\n",
              "                                                     [key], {});\n",
              "          if (!dataTable) return;\n",
              "\n",
              "          const docLinkHtml = 'Like what you see? Visit the ' +\n",
              "            '<a target=\"_blank\" href=https://colab.research.google.com/notebooks/data_table.ipynb>data table notebook</a>'\n",
              "            + ' to learn more about interactive tables.';\n",
              "          element.innerHTML = '';\n",
              "          dataTable['output_type'] = 'display_data';\n",
              "          await google.colab.output.renderOutput(dataTable, element);\n",
              "          const docLink = document.createElement('div');\n",
              "          docLink.innerHTML = docLinkHtml;\n",
              "          element.appendChild(docLink);\n",
              "        }\n",
              "      </script>\n",
              "    </div>\n",
              "  </div>\n",
              "  "
            ]
          },
          "metadata": {},
          "execution_count": 22
        }
      ]
    },
    {
      "cell_type": "code",
      "source": [
        "X_base_model = X_base[X_base['NewEmployee'] == 0]\n",
        "X_base_model = X_base_model.drop(columns=['NewEmployee'])\n",
        "Y_model = df2[df2['NewEmployee']==0]['JobSatisfaction']\n",
        "Y_model"
      ],
      "metadata": {
        "id": "3BhXJDlGB1Yi",
        "colab": {
          "base_uri": "https://localhost:8080/"
        },
        "outputId": "a6ba0359-b384-40bf-8772-6c32e191cb44"
      },
      "execution_count": 23,
      "outputs": [
        {
          "output_type": "execute_result",
          "data": {
            "text/plain": [
              "0       4.0\n",
              "1       2.0\n",
              "2       3.0\n",
              "3       3.0\n",
              "4       2.0\n",
              "       ... \n",
              "1501    4.0\n",
              "1502    2.0\n",
              "1503    1.0\n",
              "1504    2.0\n",
              "1505    1.0\n",
              "Name: JobSatisfaction, Length: 1494, dtype: float64"
            ]
          },
          "metadata": {},
          "execution_count": 23
        }
      ]
    },
    {
      "cell_type": "code",
      "source": [
        "X_base_model"
      ],
      "metadata": {
        "id": "R1Knw_NVPu99",
        "colab": {
          "base_uri": "https://localhost:8080/",
          "height": 423
        },
        "outputId": "74f0f585-cd76-43dc-a5a2-0e05eed1a13d"
      },
      "execution_count": 24,
      "outputs": [
        {
          "output_type": "execute_result",
          "data": {
            "text/plain": [
              "      MonthlyIncome  MonthlyRate  DailyRate  HourlyRate       Age  \\\n",
              "0         -0.099794     0.736982   0.737990    1.343204  0.446668   \n",
              "1         -0.283062     1.501137  -1.300005   -0.248844  1.318864   \n",
              "2         -0.928641    -1.667968   1.409068    1.246716  0.010569   \n",
              "3         -0.754717     1.255053   1.456117   -0.490063 -0.425529   \n",
              "4         -0.636007     0.336180  -0.527399   -1.261965 -1.406750   \n",
              "...             ...          ...        ...         ...       ...   \n",
              "1501       0.040365     0.145282   0.101581   -1.020745 -0.098455   \n",
              "1502       1.413707    -0.332949  -1.560017   -0.490063  1.318864   \n",
              "1503      -0.509014     0.288033   1.233250    0.040620 -1.079676   \n",
              "1504      -0.875126    -0.443743  -0.928560    1.584423  0.773742   \n",
              "1505      -0.882558     0.030405   0.403690    0.909009 -0.316504   \n",
              "\n",
              "      DistanceFromHome  PercentSalaryHike  YearsSinceLastPromotion  \\\n",
              "0            -1.011882          -1.147041                -0.679156   \n",
              "1            -0.151133           2.136553                -0.366179   \n",
              "2            -0.888918          -0.052510                -0.679156   \n",
              "3            -0.765954          -1.147041                 0.259775   \n",
              "4            -0.888918          -0.873408                -0.053202   \n",
              "...                ...                ...                      ...   \n",
              "1501         -1.011882          -0.052510                -0.679156   \n",
              "1502         -0.151133           0.494756                -0.053202   \n",
              "1503          1.201472          -1.147041                -0.679156   \n",
              "1504         -1.011882          -0.873408                -0.053202   \n",
              "1505          0.832580           2.136553                 0.259775   \n",
              "\n",
              "      cluster_g__0  cluster_g__1  cluster_g__2  cluster_g__3  cluster_g__4  \n",
              "0                1             0             0             0             0  \n",
              "1                0             0             0             0             1  \n",
              "2                1             0             0             0             0  \n",
              "3                0             1             0             0             0  \n",
              "4                1             0             0             0             0  \n",
              "...            ...           ...           ...           ...           ...  \n",
              "1501             0             0             1             0             0  \n",
              "1502             1             0             0             0             0  \n",
              "1503             0             0             0             0             1  \n",
              "1504             0             0             0             0             1  \n",
              "1505             0             0             0             0             1  \n",
              "\n",
              "[1494 rows x 13 columns]"
            ],
            "text/html": [
              "\n",
              "  <div id=\"df-81574eee-6307-4a8a-ab0b-7ff646c5afef\">\n",
              "    <div class=\"colab-df-container\">\n",
              "      <div>\n",
              "<style scoped>\n",
              "    .dataframe tbody tr th:only-of-type {\n",
              "        vertical-align: middle;\n",
              "    }\n",
              "\n",
              "    .dataframe tbody tr th {\n",
              "        vertical-align: top;\n",
              "    }\n",
              "\n",
              "    .dataframe thead th {\n",
              "        text-align: right;\n",
              "    }\n",
              "</style>\n",
              "<table border=\"1\" class=\"dataframe\">\n",
              "  <thead>\n",
              "    <tr style=\"text-align: right;\">\n",
              "      <th></th>\n",
              "      <th>MonthlyIncome</th>\n",
              "      <th>MonthlyRate</th>\n",
              "      <th>DailyRate</th>\n",
              "      <th>HourlyRate</th>\n",
              "      <th>Age</th>\n",
              "      <th>DistanceFromHome</th>\n",
              "      <th>PercentSalaryHike</th>\n",
              "      <th>YearsSinceLastPromotion</th>\n",
              "      <th>cluster_g__0</th>\n",
              "      <th>cluster_g__1</th>\n",
              "      <th>cluster_g__2</th>\n",
              "      <th>cluster_g__3</th>\n",
              "      <th>cluster_g__4</th>\n",
              "    </tr>\n",
              "  </thead>\n",
              "  <tbody>\n",
              "    <tr>\n",
              "      <th>0</th>\n",
              "      <td>-0.099794</td>\n",
              "      <td>0.736982</td>\n",
              "      <td>0.737990</td>\n",
              "      <td>1.343204</td>\n",
              "      <td>0.446668</td>\n",
              "      <td>-1.011882</td>\n",
              "      <td>-1.147041</td>\n",
              "      <td>-0.679156</td>\n",
              "      <td>1</td>\n",
              "      <td>0</td>\n",
              "      <td>0</td>\n",
              "      <td>0</td>\n",
              "      <td>0</td>\n",
              "    </tr>\n",
              "    <tr>\n",
              "      <th>1</th>\n",
              "      <td>-0.283062</td>\n",
              "      <td>1.501137</td>\n",
              "      <td>-1.300005</td>\n",
              "      <td>-0.248844</td>\n",
              "      <td>1.318864</td>\n",
              "      <td>-0.151133</td>\n",
              "      <td>2.136553</td>\n",
              "      <td>-0.366179</td>\n",
              "      <td>0</td>\n",
              "      <td>0</td>\n",
              "      <td>0</td>\n",
              "      <td>0</td>\n",
              "      <td>1</td>\n",
              "    </tr>\n",
              "    <tr>\n",
              "      <th>2</th>\n",
              "      <td>-0.928641</td>\n",
              "      <td>-1.667968</td>\n",
              "      <td>1.409068</td>\n",
              "      <td>1.246716</td>\n",
              "      <td>0.010569</td>\n",
              "      <td>-0.888918</td>\n",
              "      <td>-0.052510</td>\n",
              "      <td>-0.679156</td>\n",
              "      <td>1</td>\n",
              "      <td>0</td>\n",
              "      <td>0</td>\n",
              "      <td>0</td>\n",
              "      <td>0</td>\n",
              "    </tr>\n",
              "    <tr>\n",
              "      <th>3</th>\n",
              "      <td>-0.754717</td>\n",
              "      <td>1.255053</td>\n",
              "      <td>1.456117</td>\n",
              "      <td>-0.490063</td>\n",
              "      <td>-0.425529</td>\n",
              "      <td>-0.765954</td>\n",
              "      <td>-1.147041</td>\n",
              "      <td>0.259775</td>\n",
              "      <td>0</td>\n",
              "      <td>1</td>\n",
              "      <td>0</td>\n",
              "      <td>0</td>\n",
              "      <td>0</td>\n",
              "    </tr>\n",
              "    <tr>\n",
              "      <th>4</th>\n",
              "      <td>-0.636007</td>\n",
              "      <td>0.336180</td>\n",
              "      <td>-0.527399</td>\n",
              "      <td>-1.261965</td>\n",
              "      <td>-1.406750</td>\n",
              "      <td>-0.888918</td>\n",
              "      <td>-0.873408</td>\n",
              "      <td>-0.053202</td>\n",
              "      <td>1</td>\n",
              "      <td>0</td>\n",
              "      <td>0</td>\n",
              "      <td>0</td>\n",
              "      <td>0</td>\n",
              "    </tr>\n",
              "    <tr>\n",
              "      <th>...</th>\n",
              "      <td>...</td>\n",
              "      <td>...</td>\n",
              "      <td>...</td>\n",
              "      <td>...</td>\n",
              "      <td>...</td>\n",
              "      <td>...</td>\n",
              "      <td>...</td>\n",
              "      <td>...</td>\n",
              "      <td>...</td>\n",
              "      <td>...</td>\n",
              "      <td>...</td>\n",
              "      <td>...</td>\n",
              "      <td>...</td>\n",
              "    </tr>\n",
              "    <tr>\n",
              "      <th>1501</th>\n",
              "      <td>0.040365</td>\n",
              "      <td>0.145282</td>\n",
              "      <td>0.101581</td>\n",
              "      <td>-1.020745</td>\n",
              "      <td>-0.098455</td>\n",
              "      <td>-1.011882</td>\n",
              "      <td>-0.052510</td>\n",
              "      <td>-0.679156</td>\n",
              "      <td>0</td>\n",
              "      <td>0</td>\n",
              "      <td>1</td>\n",
              "      <td>0</td>\n",
              "      <td>0</td>\n",
              "    </tr>\n",
              "    <tr>\n",
              "      <th>1502</th>\n",
              "      <td>1.413707</td>\n",
              "      <td>-0.332949</td>\n",
              "      <td>-1.560017</td>\n",
              "      <td>-0.490063</td>\n",
              "      <td>1.318864</td>\n",
              "      <td>-0.151133</td>\n",
              "      <td>0.494756</td>\n",
              "      <td>-0.053202</td>\n",
              "      <td>1</td>\n",
              "      <td>0</td>\n",
              "      <td>0</td>\n",
              "      <td>0</td>\n",
              "      <td>0</td>\n",
              "    </tr>\n",
              "    <tr>\n",
              "      <th>1503</th>\n",
              "      <td>-0.509014</td>\n",
              "      <td>0.288033</td>\n",
              "      <td>1.233250</td>\n",
              "      <td>0.040620</td>\n",
              "      <td>-1.079676</td>\n",
              "      <td>1.201472</td>\n",
              "      <td>-1.147041</td>\n",
              "      <td>-0.679156</td>\n",
              "      <td>0</td>\n",
              "      <td>0</td>\n",
              "      <td>0</td>\n",
              "      <td>0</td>\n",
              "      <td>1</td>\n",
              "    </tr>\n",
              "    <tr>\n",
              "      <th>1504</th>\n",
              "      <td>-0.875126</td>\n",
              "      <td>-0.443743</td>\n",
              "      <td>-0.928560</td>\n",
              "      <td>1.584423</td>\n",
              "      <td>0.773742</td>\n",
              "      <td>-1.011882</td>\n",
              "      <td>-0.873408</td>\n",
              "      <td>-0.053202</td>\n",
              "      <td>0</td>\n",
              "      <td>0</td>\n",
              "      <td>0</td>\n",
              "      <td>0</td>\n",
              "      <td>1</td>\n",
              "    </tr>\n",
              "    <tr>\n",
              "      <th>1505</th>\n",
              "      <td>-0.882558</td>\n",
              "      <td>0.030405</td>\n",
              "      <td>0.403690</td>\n",
              "      <td>0.909009</td>\n",
              "      <td>-0.316504</td>\n",
              "      <td>0.832580</td>\n",
              "      <td>2.136553</td>\n",
              "      <td>0.259775</td>\n",
              "      <td>0</td>\n",
              "      <td>0</td>\n",
              "      <td>0</td>\n",
              "      <td>0</td>\n",
              "      <td>1</td>\n",
              "    </tr>\n",
              "  </tbody>\n",
              "</table>\n",
              "<p>1494 rows × 13 columns</p>\n",
              "</div>\n",
              "      <button class=\"colab-df-convert\" onclick=\"convertToInteractive('df-81574eee-6307-4a8a-ab0b-7ff646c5afef')\"\n",
              "              title=\"Convert this dataframe to an interactive table.\"\n",
              "              style=\"display:none;\">\n",
              "        \n",
              "  <svg xmlns=\"http://www.w3.org/2000/svg\" height=\"24px\"viewBox=\"0 0 24 24\"\n",
              "       width=\"24px\">\n",
              "    <path d=\"M0 0h24v24H0V0z\" fill=\"none\"/>\n",
              "    <path d=\"M18.56 5.44l.94 2.06.94-2.06 2.06-.94-2.06-.94-.94-2.06-.94 2.06-2.06.94zm-11 1L8.5 8.5l.94-2.06 2.06-.94-2.06-.94L8.5 2.5l-.94 2.06-2.06.94zm10 10l.94 2.06.94-2.06 2.06-.94-2.06-.94-.94-2.06-.94 2.06-2.06.94z\"/><path d=\"M17.41 7.96l-1.37-1.37c-.4-.4-.92-.59-1.43-.59-.52 0-1.04.2-1.43.59L10.3 9.45l-7.72 7.72c-.78.78-.78 2.05 0 2.83L4 21.41c.39.39.9.59 1.41.59.51 0 1.02-.2 1.41-.59l7.78-7.78 2.81-2.81c.8-.78.8-2.07 0-2.86zM5.41 20L4 18.59l7.72-7.72 1.47 1.35L5.41 20z\"/>\n",
              "  </svg>\n",
              "      </button>\n",
              "      \n",
              "  <style>\n",
              "    .colab-df-container {\n",
              "      display:flex;\n",
              "      flex-wrap:wrap;\n",
              "      gap: 12px;\n",
              "    }\n",
              "\n",
              "    .colab-df-convert {\n",
              "      background-color: #E8F0FE;\n",
              "      border: none;\n",
              "      border-radius: 50%;\n",
              "      cursor: pointer;\n",
              "      display: none;\n",
              "      fill: #1967D2;\n",
              "      height: 32px;\n",
              "      padding: 0 0 0 0;\n",
              "      width: 32px;\n",
              "    }\n",
              "\n",
              "    .colab-df-convert:hover {\n",
              "      background-color: #E2EBFA;\n",
              "      box-shadow: 0px 1px 2px rgba(60, 64, 67, 0.3), 0px 1px 3px 1px rgba(60, 64, 67, 0.15);\n",
              "      fill: #174EA6;\n",
              "    }\n",
              "\n",
              "    [theme=dark] .colab-df-convert {\n",
              "      background-color: #3B4455;\n",
              "      fill: #D2E3FC;\n",
              "    }\n",
              "\n",
              "    [theme=dark] .colab-df-convert:hover {\n",
              "      background-color: #434B5C;\n",
              "      box-shadow: 0px 1px 3px 1px rgba(0, 0, 0, 0.15);\n",
              "      filter: drop-shadow(0px 1px 2px rgba(0, 0, 0, 0.3));\n",
              "      fill: #FFFFFF;\n",
              "    }\n",
              "  </style>\n",
              "\n",
              "      <script>\n",
              "        const buttonEl =\n",
              "          document.querySelector('#df-81574eee-6307-4a8a-ab0b-7ff646c5afef button.colab-df-convert');\n",
              "        buttonEl.style.display =\n",
              "          google.colab.kernel.accessAllowed ? 'block' : 'none';\n",
              "\n",
              "        async function convertToInteractive(key) {\n",
              "          const element = document.querySelector('#df-81574eee-6307-4a8a-ab0b-7ff646c5afef');\n",
              "          const dataTable =\n",
              "            await google.colab.kernel.invokeFunction('convertToInteractive',\n",
              "                                                     [key], {});\n",
              "          if (!dataTable) return;\n",
              "\n",
              "          const docLinkHtml = 'Like what you see? Visit the ' +\n",
              "            '<a target=\"_blank\" href=https://colab.research.google.com/notebooks/data_table.ipynb>data table notebook</a>'\n",
              "            + ' to learn more about interactive tables.';\n",
              "          element.innerHTML = '';\n",
              "          dataTable['output_type'] = 'display_data';\n",
              "          await google.colab.output.renderOutput(dataTable, element);\n",
              "          const docLink = document.createElement('div');\n",
              "          docLink.innerHTML = docLinkHtml;\n",
              "          element.appendChild(docLink);\n",
              "        }\n",
              "      </script>\n",
              "    </div>\n",
              "  </div>\n",
              "  "
            ]
          },
          "metadata": {},
          "execution_count": 24
        }
      ]
    },
    {
      "cell_type": "code",
      "source": [
        "Y_model = Y_model.apply(int)\n",
        "Y_model"
      ],
      "metadata": {
        "id": "W_TC318kLS0R",
        "colab": {
          "base_uri": "https://localhost:8080/"
        },
        "outputId": "68b03ae6-abdf-4eef-97b5-915acef7bd1e"
      },
      "execution_count": 25,
      "outputs": [
        {
          "output_type": "execute_result",
          "data": {
            "text/plain": [
              "0       4\n",
              "1       2\n",
              "2       3\n",
              "3       3\n",
              "4       2\n",
              "       ..\n",
              "1501    4\n",
              "1502    2\n",
              "1503    1\n",
              "1504    2\n",
              "1505    1\n",
              "Name: JobSatisfaction, Length: 1494, dtype: int64"
            ]
          },
          "metadata": {},
          "execution_count": 25
        }
      ]
    },
    {
      "cell_type": "code",
      "source": [
        "X_train, X_test, y_train, y_test = train_test_split(X_base_model, Y_model, test_size=0.33, random_state=2022)"
      ],
      "metadata": {
        "id": "5_KmZmmn5rNk"
      },
      "execution_count": 26,
      "outputs": []
    },
    {
      "cell_type": "markdown",
      "source": [
        "# **Tunning de hiperparámetros del XGBoost (Esto hace parte del bono)**"
      ],
      "metadata": {
        "id": "PloOs52qUqHI"
      }
    },
    {
      "cell_type": "code",
      "source": [
        "xgb_model = xgb.XGBClassifier()\n",
        "\n",
        "parameters = {'nthread':[3], #when use hyperthread, xgboost may become slower\n",
        "              'objective':['multi:softprob'],\n",
        "              'learning_rate': [0.01,0.05,0.1], #so called `eta` value\n",
        "              'max_depth': [2,4,6],\n",
        "              'subsample': [0.1,0.15],\n",
        "              'colsample_bytree': [0.1,0.15],\n",
        "              'n_estimators': [40,80], #number of trees, change it to 1000 for better results\n",
        "              'seed': [2022]}\n",
        "\n",
        "\n",
        "xgb_grid = GridSearchCV(xgb_model,\n",
        "                        parameters,\n",
        "                        cv = 3,\n",
        "                        n_jobs = 3,\n",
        "                        verbose=True)"
      ],
      "metadata": {
        "id": "YoIuyBimpO3K"
      },
      "execution_count": 27,
      "outputs": []
    },
    {
      "cell_type": "code",
      "source": [
        "with tf.device('/device:GPU:0'): \n",
        "    xgb_grid.fit(X_train, \n",
        "                 y_train,\n",
        "                 eval_metric=\"merror\",\n",
        "                 early_stopping_rounds=20,\n",
        "                 eval_set = [(X_train, y_train),(X_test, y_test)])    "
      ],
      "metadata": {
        "id": "-oCfgj3Qseh0",
        "colab": {
          "base_uri": "https://localhost:8080/"
        },
        "outputId": "9cb9ccac-cd87-4014-f726-a88bd4ccb5aa"
      },
      "execution_count": 28,
      "outputs": [
        {
          "output_type": "stream",
          "name": "stdout",
          "text": [
            "Fitting 3 folds for each of 72 candidates, totalling 216 fits\n",
            "[0]\tvalidation_0-merror:0.67\tvalidation_1-merror:0.712551\n",
            "Multiple eval metrics have been passed: 'validation_1-merror' will be used for early stopping.\n",
            "\n",
            "Will train until validation_1-merror hasn't improved in 20 rounds.\n",
            "[1]\tvalidation_0-merror:0.671\tvalidation_1-merror:0.680162\n",
            "[2]\tvalidation_0-merror:0.641\tvalidation_1-merror:0.706478\n",
            "[3]\tvalidation_0-merror:0.639\tvalidation_1-merror:0.698381\n",
            "[4]\tvalidation_0-merror:0.63\tvalidation_1-merror:0.700405\n",
            "[5]\tvalidation_0-merror:0.639\tvalidation_1-merror:0.694332\n",
            "[6]\tvalidation_0-merror:0.653\tvalidation_1-merror:0.665992\n",
            "[7]\tvalidation_0-merror:0.651\tvalidation_1-merror:0.678138\n",
            "[8]\tvalidation_0-merror:0.663\tvalidation_1-merror:0.688259\n",
            "[9]\tvalidation_0-merror:0.664\tvalidation_1-merror:0.686235\n",
            "[10]\tvalidation_0-merror:0.663\tvalidation_1-merror:0.690283\n",
            "[11]\tvalidation_0-merror:0.658\tvalidation_1-merror:0.694332\n",
            "[12]\tvalidation_0-merror:0.648\tvalidation_1-merror:0.694332\n",
            "[13]\tvalidation_0-merror:0.648\tvalidation_1-merror:0.698381\n",
            "[14]\tvalidation_0-merror:0.642\tvalidation_1-merror:0.700405\n",
            "[15]\tvalidation_0-merror:0.643\tvalidation_1-merror:0.694332\n",
            "[16]\tvalidation_0-merror:0.645\tvalidation_1-merror:0.706478\n",
            "[17]\tvalidation_0-merror:0.654\tvalidation_1-merror:0.700405\n",
            "[18]\tvalidation_0-merror:0.647\tvalidation_1-merror:0.694332\n",
            "[19]\tvalidation_0-merror:0.65\tvalidation_1-merror:0.702429\n",
            "[20]\tvalidation_0-merror:0.654\tvalidation_1-merror:0.702429\n",
            "[21]\tvalidation_0-merror:0.654\tvalidation_1-merror:0.686235\n",
            "[22]\tvalidation_0-merror:0.655\tvalidation_1-merror:0.708502\n",
            "[23]\tvalidation_0-merror:0.644\tvalidation_1-merror:0.698381\n",
            "[24]\tvalidation_0-merror:0.652\tvalidation_1-merror:0.710526\n",
            "[25]\tvalidation_0-merror:0.646\tvalidation_1-merror:0.690283\n",
            "[26]\tvalidation_0-merror:0.642\tvalidation_1-merror:0.694332\n",
            "Stopping. Best iteration:\n",
            "[6]\tvalidation_0-merror:0.653\tvalidation_1-merror:0.665992\n",
            "\n"
          ]
        }
      ]
    },
    {
      "cell_type": "code",
      "source": [
        "print(xgb_grid.best_score_)\n",
        "print(xgb_grid.best_params_)"
      ],
      "metadata": {
        "id": "VjG2U956vN4K",
        "colab": {
          "base_uri": "https://localhost:8080/"
        },
        "outputId": "cee1559c-cd28-46d4-dfa8-8148481db62a"
      },
      "execution_count": 29,
      "outputs": [
        {
          "output_type": "stream",
          "name": "stdout",
          "text": [
            "0.3289846732960506\n",
            "{'colsample_bytree': 0.1, 'learning_rate': 0.05, 'max_depth': 4, 'n_estimators': 40, 'nthread': 3, 'objective': 'multi:softprob', 'seed': 2022, 'subsample': 0.1}\n"
          ]
        }
      ]
    },
    {
      "cell_type": "markdown",
      "source": [
        "Mejor modelo del XGBoost:"
      ],
      "metadata": {
        "id": "Nl35GQe6Yp1z"
      }
    },
    {
      "cell_type": "code",
      "source": [
        "xgb_selecc = xgb.XGBClassifier(nthread=3, #when use hyperthread, xgboost may become slower\n",
        "         objective='multi:softprob',\n",
        "         learning_rate= 0.05, #so called `eta` value\n",
        "         max_depth= 4,\n",
        "         n_estimators = 40,\n",
        "         subsample= 0.1,\n",
        "         colsample_bytree= 0.1,\n",
        "         seed = 2022)\n",
        "\n",
        "xgb_selecc.fit(X_train,\n",
        "         y_train,  \n",
        "         eval_metric=\"merror\",\n",
        "         early_stopping_rounds=20,\n",
        "         eval_set = [(X_train, y_train),(X_test, y_test)])"
      ],
      "metadata": {
        "id": "7A7myy3yvt32",
        "colab": {
          "base_uri": "https://localhost:8080/"
        },
        "outputId": "9b242549-97a8-43cc-a2d9-d8b4fde79718"
      },
      "execution_count": 30,
      "outputs": [
        {
          "output_type": "stream",
          "name": "stdout",
          "text": [
            "[0]\tvalidation_0-merror:0.67\tvalidation_1-merror:0.712551\n",
            "Multiple eval metrics have been passed: 'validation_1-merror' will be used for early stopping.\n",
            "\n",
            "Will train until validation_1-merror hasn't improved in 20 rounds.\n",
            "[1]\tvalidation_0-merror:0.671\tvalidation_1-merror:0.680162\n",
            "[2]\tvalidation_0-merror:0.641\tvalidation_1-merror:0.706478\n",
            "[3]\tvalidation_0-merror:0.639\tvalidation_1-merror:0.698381\n",
            "[4]\tvalidation_0-merror:0.63\tvalidation_1-merror:0.700405\n",
            "[5]\tvalidation_0-merror:0.639\tvalidation_1-merror:0.694332\n",
            "[6]\tvalidation_0-merror:0.653\tvalidation_1-merror:0.665992\n",
            "[7]\tvalidation_0-merror:0.651\tvalidation_1-merror:0.678138\n",
            "[8]\tvalidation_0-merror:0.663\tvalidation_1-merror:0.688259\n",
            "[9]\tvalidation_0-merror:0.664\tvalidation_1-merror:0.686235\n",
            "[10]\tvalidation_0-merror:0.663\tvalidation_1-merror:0.690283\n",
            "[11]\tvalidation_0-merror:0.658\tvalidation_1-merror:0.694332\n",
            "[12]\tvalidation_0-merror:0.648\tvalidation_1-merror:0.694332\n",
            "[13]\tvalidation_0-merror:0.648\tvalidation_1-merror:0.698381\n",
            "[14]\tvalidation_0-merror:0.642\tvalidation_1-merror:0.700405\n",
            "[15]\tvalidation_0-merror:0.643\tvalidation_1-merror:0.694332\n",
            "[16]\tvalidation_0-merror:0.645\tvalidation_1-merror:0.706478\n",
            "[17]\tvalidation_0-merror:0.654\tvalidation_1-merror:0.700405\n",
            "[18]\tvalidation_0-merror:0.647\tvalidation_1-merror:0.694332\n",
            "[19]\tvalidation_0-merror:0.65\tvalidation_1-merror:0.702429\n",
            "[20]\tvalidation_0-merror:0.654\tvalidation_1-merror:0.702429\n",
            "[21]\tvalidation_0-merror:0.654\tvalidation_1-merror:0.686235\n",
            "[22]\tvalidation_0-merror:0.655\tvalidation_1-merror:0.708502\n",
            "[23]\tvalidation_0-merror:0.644\tvalidation_1-merror:0.698381\n",
            "[24]\tvalidation_0-merror:0.652\tvalidation_1-merror:0.710526\n",
            "[25]\tvalidation_0-merror:0.646\tvalidation_1-merror:0.690283\n",
            "[26]\tvalidation_0-merror:0.642\tvalidation_1-merror:0.694332\n",
            "Stopping. Best iteration:\n",
            "[6]\tvalidation_0-merror:0.653\tvalidation_1-merror:0.665992\n",
            "\n"
          ]
        },
        {
          "output_type": "execute_result",
          "data": {
            "text/plain": [
              "XGBClassifier(colsample_bytree=0.1, learning_rate=0.05, max_depth=4,\n",
              "              n_estimators=40, nthread=3, objective='multi:softprob', seed=2022,\n",
              "              subsample=0.1)"
            ]
          },
          "metadata": {},
          "execution_count": 30
        }
      ]
    },
    {
      "cell_type": "code",
      "source": [
        "pred_modelo_train = xgb_selecc.predict(X_train)\n",
        "pred_modelo_test = xgb_selecc.predict(X_test)"
      ],
      "metadata": {
        "id": "ijDv1HNMwF7T"
      },
      "execution_count": 31,
      "outputs": []
    },
    {
      "cell_type": "code",
      "source": [
        "class_names = ['1','2','3','4']"
      ],
      "metadata": {
        "id": "GXdwpGtmwmiO"
      },
      "execution_count": 32,
      "outputs": []
    },
    {
      "cell_type": "code",
      "source": [
        "print(classification_report(y_train,pred_modelo_train,target_names=list(class_names)))"
      ],
      "metadata": {
        "id": "zGnW-lYOw0PY",
        "colab": {
          "base_uri": "https://localhost:8080/"
        },
        "outputId": "e78fb264-2f41-4e92-a3ee-01ff9fe21b2d"
      },
      "execution_count": 33,
      "outputs": [
        {
          "output_type": "stream",
          "name": "stdout",
          "text": [
            "              precision    recall  f1-score   support\n",
            "\n",
            "           1       0.14      0.01      0.01       190\n",
            "           2       0.35      0.06      0.11       191\n",
            "           3       0.35      0.58      0.43       314\n",
            "           4       0.35      0.50      0.41       305\n",
            "\n",
            "    accuracy                           0.35      1000\n",
            "   macro avg       0.30      0.29      0.24      1000\n",
            "weighted avg       0.31      0.35      0.28      1000\n",
            "\n"
          ]
        }
      ]
    },
    {
      "cell_type": "code",
      "source": [
        "print(classification_report(y_test,pred_modelo_test,target_names=list(class_names)))"
      ],
      "metadata": {
        "id": "yh0T9y0nwQHu",
        "colab": {
          "base_uri": "https://localhost:8080/"
        },
        "outputId": "f51a9bf6-9dc9-4461-a99b-9a0482fa6ec9"
      },
      "execution_count": 34,
      "outputs": [
        {
          "output_type": "stream",
          "name": "stdout",
          "text": [
            "              precision    recall  f1-score   support\n",
            "\n",
            "           1       0.33      0.02      0.04        98\n",
            "           2       0.22      0.05      0.08        88\n",
            "           3       0.32      0.56      0.40       140\n",
            "           4       0.36      0.48      0.41       168\n",
            "\n",
            "    accuracy                           0.33       494\n",
            "   macro avg       0.31      0.28      0.23       494\n",
            "weighted avg       0.32      0.33      0.28       494\n",
            "\n"
          ]
        }
      ]
    },
    {
      "cell_type": "code",
      "source": [
        "accuracy_score(y_train, pred_modelo_train), accuracy_score(y_test, pred_modelo_test)"
      ],
      "metadata": {
        "id": "UE1ZDrCkyfyR",
        "colab": {
          "base_uri": "https://localhost:8080/"
        },
        "outputId": "d221787b-678f-47e4-e3d4-9689476bdd0d"
      },
      "execution_count": 35,
      "outputs": [
        {
          "output_type": "execute_result",
          "data": {
            "text/plain": [
              "(0.347, 0.3340080971659919)"
            ]
          },
          "metadata": {},
          "execution_count": 35
        }
      ]
    },
    {
      "cell_type": "markdown",
      "source": [
        "# **Importancia de variables (este es el modelo seleccionado, más adelante se justifica)**"
      ],
      "metadata": {
        "id": "z9yCrdseU0TX"
      }
    },
    {
      "cell_type": "code",
      "source": [
        "plot_importance(xgb_selecc, height = 1, max_num_features = 15)\n",
        "pyplot.show()"
      ],
      "metadata": {
        "id": "zLRvojRszySj",
        "colab": {
          "base_uri": "https://localhost:8080/",
          "height": 325
        },
        "outputId": "3ae3c928-570a-44ba-e612-6b80f9e6d507"
      },
      "execution_count": 36,
      "outputs": [
        {
          "output_type": "display_data",
          "data": {
            "text/plain": [
              "<Figure size 432x288 with 1 Axes>"
            ],
            "image/png": "[encoded data removed]"
          },
          "metadata": {}
        }
      ]
    },
    {
      "cell_type": "markdown",
      "source": [
        "#*Random Forest*"
      ],
      "metadata": {
        "id": "TQ7W7dq1kRKg"
      }
    },
    {
      "cell_type": "code",
      "source": [
        "parameters = {\n",
        "    'n_estimators': [10,20,30],\n",
        "    'max_depth': [2,5,7],\n",
        "    'max_features': ['auto', 'sqrt', 'log2'],\n",
        "    'min_samples_split': [3,5,7]\n",
        "}\n",
        "regr = RandomForestClassifier(random_state=0)\n",
        "\n",
        "clf = GridSearchCV(regr, \n",
        "                   parameters,\n",
        "                   cv = 5)\n",
        "clf.fit(X_train, y_train)"
      ],
      "metadata": {
        "id": "fcn6uRrLfhVi",
        "colab": {
          "base_uri": "https://localhost:8080/"
        },
        "outputId": "7681b778-f9b5-40b5-ee8c-b31e1c54610a"
      },
      "execution_count": 37,
      "outputs": [
        {
          "output_type": "execute_result",
          "data": {
            "text/plain": [
              "GridSearchCV(cv=5, estimator=RandomForestClassifier(random_state=0),\n",
              "             param_grid={'max_depth': [2, 5, 7],\n",
              "                         'max_features': ['auto', 'sqrt', 'log2'],\n",
              "                         'min_samples_split': [3, 5, 7],\n",
              "                         'n_estimators': [10, 20, 30]})"
            ]
          },
          "metadata": {},
          "execution_count": 37
        }
      ]
    },
    {
      "cell_type": "code",
      "source": [
        "print(clf.best_score_)\n",
        "print(clf.best_params_)"
      ],
      "metadata": {
        "id": "tBi5uk-tkt3K",
        "colab": {
          "base_uri": "https://localhost:8080/"
        },
        "outputId": "60b13c3b-5c06-4870-a5b9-072db0ce84f4"
      },
      "execution_count": 38,
      "outputs": [
        {
          "output_type": "stream",
          "name": "stdout",
          "text": [
            "0.329\n",
            "{'max_depth': 7, 'max_features': 'auto', 'min_samples_split': 5, 'n_estimators': 30}\n"
          ]
        }
      ]
    },
    {
      "cell_type": "markdown",
      "source": [
        "Mejor RandomForest"
      ],
      "metadata": {
        "id": "Qt7VcdjUYvaC"
      }
    },
    {
      "cell_type": "code",
      "source": [
        "rf_selecc = RandomForestClassifier(\n",
        "         n_estimators= 30, #so called `eta` value\n",
        "         max_features = 'auto',\n",
        "         max_depth=7,\n",
        "         min_samples_split = 3)\n",
        "\n",
        "rf_selecc.fit(X_train,\n",
        "         y_train)"
      ],
      "metadata": {
        "id": "QVYo-3GLk6VJ",
        "colab": {
          "base_uri": "https://localhost:8080/"
        },
        "outputId": "9bfc83a7-655d-456f-d40e-2792df7abfbd"
      },
      "execution_count": 39,
      "outputs": [
        {
          "output_type": "execute_result",
          "data": {
            "text/plain": [
              "RandomForestClassifier(max_depth=7, min_samples_split=3, n_estimators=30)"
            ]
          },
          "metadata": {},
          "execution_count": 39
        }
      ]
    },
    {
      "cell_type": "code",
      "source": [
        "pred_modelo_train = rf_selecc.predict(X_train)\n",
        "pred_modelo_test = rf_selecc.predict(X_test)"
      ],
      "metadata": {
        "id": "_BbrvSzuniBu"
      },
      "execution_count": 40,
      "outputs": []
    },
    {
      "cell_type": "code",
      "source": [
        "print(classification_report(y_train,pred_modelo_train,target_names=list(class_names)))"
      ],
      "metadata": {
        "id": "nJd9MVkEnk1z",
        "colab": {
          "base_uri": "https://localhost:8080/"
        },
        "outputId": "841ed79b-ae6c-4e06-bff5-3ca26b9b4d20"
      },
      "execution_count": 41,
      "outputs": [
        {
          "output_type": "stream",
          "name": "stdout",
          "text": [
            "              precision    recall  f1-score   support\n",
            "\n",
            "           1       0.99      0.41      0.58       190\n",
            "           2       1.00      0.45      0.62       191\n",
            "           3       0.66      0.88      0.75       314\n",
            "           4       0.66      0.90      0.76       305\n",
            "\n",
            "    accuracy                           0.71      1000\n",
            "   macro avg       0.83      0.66      0.68      1000\n",
            "weighted avg       0.79      0.71      0.70      1000\n",
            "\n"
          ]
        }
      ]
    },
    {
      "cell_type": "code",
      "source": [
        "print(classification_report(y_test,pred_modelo_test,target_names=list(class_names)))"
      ],
      "metadata": {
        "id": "rQJ9CzxKnmiU",
        "colab": {
          "base_uri": "https://localhost:8080/"
        },
        "outputId": "187366d7-56d7-4a38-e579-c71925551eb6"
      },
      "execution_count": 42,
      "outputs": [
        {
          "output_type": "stream",
          "name": "stdout",
          "text": [
            "              precision    recall  f1-score   support\n",
            "\n",
            "           1       0.17      0.02      0.04        98\n",
            "           2       0.11      0.02      0.04        88\n",
            "           3       0.28      0.46      0.35       140\n",
            "           4       0.34      0.48      0.40       168\n",
            "\n",
            "    accuracy                           0.30       494\n",
            "   macro avg       0.23      0.25      0.21       494\n",
            "weighted avg       0.25      0.30      0.25       494\n",
            "\n"
          ]
        }
      ]
    },
    {
      "cell_type": "code",
      "source": [
        "accuracy_score(y_train, pred_modelo_train), accuracy_score(y_test, pred_modelo_test)"
      ],
      "metadata": {
        "id": "2Uz9JGPwyv0Z",
        "colab": {
          "base_uri": "https://localhost:8080/"
        },
        "outputId": "e5036979-3599-4453-dc2d-c0b01d558732"
      },
      "execution_count": 43,
      "outputs": [
        {
          "output_type": "execute_result",
          "data": {
            "text/plain": [
              "(0.714, 0.3016194331983806)"
            ]
          },
          "metadata": {},
          "execution_count": 43
        }
      ]
    },
    {
      "cell_type": "markdown",
      "source": [
        "#*Arbol de decisión*"
      ],
      "metadata": {
        "id": "O-5eGlull-u4"
      }
    },
    {
      "cell_type": "code",
      "source": [
        "parameters = {\n",
        "    'max_depth': [2,5,7],\n",
        "    'min_samples_split': [3,5,7],\n",
        "    'max_features': ['auto', 'sqrt', 'log2']\n",
        "}\n",
        "regr_arb = DecisionTreeClassifier(random_state=0)\n",
        "\n",
        "arbol = GridSearchCV(regr_arb, \n",
        "                   parameters,\n",
        "                   cv = 5)\n",
        "arbol.fit(X_train, y_train)"
      ],
      "metadata": {
        "id": "U-anqkGUmBkO",
        "colab": {
          "base_uri": "https://localhost:8080/"
        },
        "outputId": "0aa456ef-02d9-485b-fcc4-58c1da3b3217"
      },
      "execution_count": 44,
      "outputs": [
        {
          "output_type": "execute_result",
          "data": {
            "text/plain": [
              "GridSearchCV(cv=5, estimator=DecisionTreeClassifier(random_state=0),\n",
              "             param_grid={'max_depth': [2, 5, 7],\n",
              "                         'max_features': ['auto', 'sqrt', 'log2'],\n",
              "                         'min_samples_split': [3, 5, 7]})"
            ]
          },
          "metadata": {},
          "execution_count": 44
        }
      ]
    },
    {
      "cell_type": "code",
      "source": [
        "print(arbol.best_score_)\n",
        "print(arbol.best_params_)"
      ],
      "metadata": {
        "id": "a-_DUPxEojem",
        "colab": {
          "base_uri": "https://localhost:8080/"
        },
        "outputId": "716447be-0558-40ed-84de-a1b032a3c446"
      },
      "execution_count": 45,
      "outputs": [
        {
          "output_type": "stream",
          "name": "stdout",
          "text": [
            "0.324\n",
            "{'max_depth': 2, 'max_features': 'auto', 'min_samples_split': 3}\n"
          ]
        }
      ]
    },
    {
      "cell_type": "markdown",
      "source": [
        "Mejor árbol de decisión:"
      ],
      "metadata": {
        "id": "QXPvYFqRYy9S"
      }
    },
    {
      "cell_type": "code",
      "source": [
        "arbol_selecc = DecisionTreeClassifier(\n",
        "         max_depth= 2, #so called `eta` value\n",
        "         min_samples_split = 3,\n",
        "         max_features = 'auto')\n",
        "\n",
        "arbol_selecc.fit(X_train,\n",
        "         y_train)"
      ],
      "metadata": {
        "id": "E6yVFi4romGG",
        "colab": {
          "base_uri": "https://localhost:8080/"
        },
        "outputId": "8d96e041-2b52-4c9e-a3bb-e416be6c9cca"
      },
      "execution_count": 46,
      "outputs": [
        {
          "output_type": "execute_result",
          "data": {
            "text/plain": [
              "DecisionTreeClassifier(max_depth=2, max_features='auto', min_samples_split=3)"
            ]
          },
          "metadata": {},
          "execution_count": 46
        }
      ]
    },
    {
      "cell_type": "code",
      "source": [
        "pred_modelo_train = arbol_selecc.predict(X_train)\n",
        "pred_modelo_test = arbol_selecc.predict(X_test)"
      ],
      "metadata": {
        "id": "H8lKbooZo8oa"
      },
      "execution_count": 47,
      "outputs": []
    },
    {
      "cell_type": "code",
      "source": [
        "print(classification_report(y_train,pred_modelo_train,target_names=list(class_names)))"
      ],
      "metadata": {
        "id": "cpSVwcpapB4B",
        "colab": {
          "base_uri": "https://localhost:8080/"
        },
        "outputId": "16dc1eec-65ee-415d-893b-9996299e09c4"
      },
      "execution_count": 48,
      "outputs": [
        {
          "output_type": "stream",
          "name": "stdout",
          "text": [
            "              precision    recall  f1-score   support\n",
            "\n",
            "           1       0.00      0.00      0.00       190\n",
            "           2       0.50      0.01      0.01       191\n",
            "           3       0.32      0.99      0.48       314\n",
            "           4       0.80      0.03      0.05       305\n",
            "\n",
            "    accuracy                           0.32      1000\n",
            "   macro avg       0.40      0.26      0.14      1000\n",
            "weighted avg       0.44      0.32      0.17      1000\n",
            "\n"
          ]
        }
      ]
    },
    {
      "cell_type": "code",
      "source": [
        "print(classification_report(y_test,pred_modelo_test,target_names=list(class_names)))"
      ],
      "metadata": {
        "id": "UtT-i8wRpPhK",
        "colab": {
          "base_uri": "https://localhost:8080/"
        },
        "outputId": "74a04b43-b11e-44df-ddc3-c77253fcaa6b"
      },
      "execution_count": 49,
      "outputs": [
        {
          "output_type": "stream",
          "name": "stdout",
          "text": [
            "              precision    recall  f1-score   support\n",
            "\n",
            "           1       0.00      0.00      0.00        98\n",
            "           2       0.00      0.00      0.00        88\n",
            "           3       0.28      0.99      0.44       140\n",
            "           4       0.00      0.00      0.00       168\n",
            "\n",
            "    accuracy                           0.28       494\n",
            "   macro avg       0.07      0.25      0.11       494\n",
            "weighted avg       0.08      0.28      0.12       494\n",
            "\n"
          ]
        }
      ]
    },
    {
      "cell_type": "code",
      "source": [
        "accuracy_score(y_train, pred_modelo_train), accuracy_score(y_test, pred_modelo_test)"
      ],
      "metadata": {
        "id": "NP3Mby9-y0w7",
        "colab": {
          "base_uri": "https://localhost:8080/"
        },
        "outputId": "4b080a78-11e2-4f9f-cc42-dc312c212d75"
      },
      "execution_count": 50,
      "outputs": [
        {
          "output_type": "execute_result",
          "data": {
            "text/plain": [
              "(0.321, 0.2813765182186235)"
            ]
          },
          "metadata": {},
          "execution_count": 50
        }
      ]
    },
    {
      "cell_type": "markdown",
      "source": [
        "#*Red Neuronal*"
      ],
      "metadata": {
        "id": "ndukGG0JlQ9X"
      }
    },
    {
      "cell_type": "code",
      "source": [
        "y_dict = [{'':str(x)} for x in y_train.tolist()]\n",
        "y_dict_test = [{'':str(x)} for x in y_test.tolist()]\n"
      ],
      "metadata": {
        "id": "wJu6kcX_v8cA"
      },
      "execution_count": 51,
      "outputs": []
    },
    {
      "cell_type": "code",
      "source": [
        "vec = DictVectorizer(sparse=False, dtype=int)\n",
        "M_train = vec.fit_transform(y_dict)\n",
        "M_test = vec.fit_transform(y_dict_test)"
      ],
      "metadata": {
        "id": "sJqzNFcNvioq"
      },
      "execution_count": 52,
      "outputs": []
    },
    {
      "cell_type": "code",
      "source": [
        "model = Sequential(name=\"RedNeuronal\")\n",
        "model.add(Input(shape=(13),name='Capa_Entrada'))\n",
        "model.add(Dense(16,activation='relu',name='Capa_Densa_3'))\n",
        "model.add(Dense(8,activation='relu',name='Capa_Densa_4'))\n",
        "model.add(Dense(len(class_names),activation='softmax',name='Capa_Respuesta'))\n",
        "model.compile(loss='categorical_crossentropy', optimizer='sgd',metrics=[tf.keras.metrics.Precision(), tf.keras.metrics.Recall()])\n",
        "model.summary()"
      ],
      "metadata": {
        "id": "b5fJldRdlTNi",
        "colab": {
          "base_uri": "https://localhost:8080/"
        },
        "outputId": "9f611eb2-9b5d-4a63-f14f-d4f25b883663"
      },
      "execution_count": 53,
      "outputs": [
        {
          "output_type": "stream",
          "name": "stdout",
          "text": [
            "Model: \"RedNeuronal\"\n",
            "_________________________________________________________________\n",
            " Layer (type)                Output Shape              Param #   \n",
            "=================================================================\n",
            " Capa_Densa_3 (Dense)        (None, 16)                224       \n",
            "                                                                 \n",
            " Capa_Densa_4 (Dense)        (None, 8)                 136       \n",
            "                                                                 \n",
            " Capa_Respuesta (Dense)      (None, 4)                 36        \n",
            "                                                                 \n",
            "=================================================================\n",
            "Total params: 396\n",
            "Trainable params: 396\n",
            "Non-trainable params: 0\n",
            "_________________________________________________________________\n"
          ]
        }
      ]
    },
    {
      "cell_type": "code",
      "source": [
        "my_callbacks = [\n",
        "    tf.keras.callbacks.EarlyStopping(patience=4)\n",
        "]"
      ],
      "metadata": {
        "id": "am8mx796rKJH"
      },
      "execution_count": 54,
      "outputs": []
    },
    {
      "cell_type": "code",
      "source": [
        "history = model.fit(X_train, \n",
        "        M_train,           \n",
        "        validation_data=([X_test, M_test]),\n",
        "        epochs=50,\n",
        "        callbacks=my_callbacks\n",
        "    )"
      ],
      "metadata": {
        "id": "-sqp2IFqrMem",
        "colab": {
          "base_uri": "https://localhost:8080/"
        },
        "outputId": "4c17be9f-ecd6-4acf-8b1c-58d2e1ffe2cb"
      },
      "execution_count": 55,
      "outputs": [
        {
          "output_type": "stream",
          "name": "stdout",
          "text": [
            "Epoch 1/50\n",
            "32/32 [==============================] - 2s 20ms/step - loss: 1.4330 - precision: 0.0000e+00 - recall: 0.0000e+00 - val_loss: 1.4096 - val_precision: 0.0000e+00 - val_recall: 0.0000e+00\n",
            "Epoch 2/50\n",
            "32/32 [==============================] - 0s 3ms/step - loss: 1.4114 - precision: 0.0000e+00 - recall: 0.0000e+00 - val_loss: 1.3984 - val_precision: 0.0000e+00 - val_recall: 0.0000e+00\n",
            "Epoch 3/50\n",
            "32/32 [==============================] - 0s 5ms/step - loss: 1.3984 - precision: 0.0000e+00 - recall: 0.0000e+00 - val_loss: 1.3920 - val_precision: 0.0000e+00 - val_recall: 0.0000e+00\n",
            "Epoch 4/50\n",
            "32/32 [==============================] - 0s 4ms/step - loss: 1.3906 - precision: 0.0000e+00 - recall: 0.0000e+00 - val_loss: 1.3878 - val_precision: 0.0000e+00 - val_recall: 0.0000e+00\n",
            "Epoch 5/50\n",
            "32/32 [==============================] - 0s 4ms/step - loss: 1.3848 - precision: 0.0000e+00 - recall: 0.0000e+00 - val_loss: 1.3854 - val_precision: 0.0000e+00 - val_recall: 0.0000e+00\n",
            "Epoch 6/50\n",
            "32/32 [==============================] - 0s 3ms/step - loss: 1.3808 - precision: 0.0000e+00 - recall: 0.0000e+00 - val_loss: 1.3835 - val_precision: 0.5000 - val_recall: 0.0020\n",
            "Epoch 7/50\n",
            "32/32 [==============================] - 0s 3ms/step - loss: 1.3775 - precision: 0.0000e+00 - recall: 0.0000e+00 - val_loss: 1.3820 - val_precision: 0.5000 - val_recall: 0.0020\n",
            "Epoch 8/50\n",
            "32/32 [==============================] - 0s 5ms/step - loss: 1.3749 - precision: 0.0000e+00 - recall: 0.0000e+00 - val_loss: 1.3810 - val_precision: 0.5000 - val_recall: 0.0020\n",
            "Epoch 9/50\n",
            "32/32 [==============================] - 0s 4ms/step - loss: 1.3727 - precision: 0.2000 - recall: 0.0010 - val_loss: 1.3794 - val_precision: 0.5000 - val_recall: 0.0020\n",
            "Epoch 10/50\n",
            "32/32 [==============================] - 0s 4ms/step - loss: 1.3707 - precision: 0.2000 - recall: 0.0010 - val_loss: 1.3790 - val_precision: 0.5000 - val_recall: 0.0020\n",
            "Epoch 11/50\n",
            "32/32 [==============================] - 0s 5ms/step - loss: 1.3693 - precision: 0.0000e+00 - recall: 0.0000e+00 - val_loss: 1.3777 - val_precision: 0.0000e+00 - val_recall: 0.0000e+00\n",
            "Epoch 12/50\n",
            "32/32 [==============================] - 0s 4ms/step - loss: 1.3681 - precision: 0.0000e+00 - recall: 0.0000e+00 - val_loss: 1.3774 - val_precision: 0.0000e+00 - val_recall: 0.0000e+00\n",
            "Epoch 13/50\n",
            "32/32 [==============================] - 0s 3ms/step - loss: 1.3666 - precision: 0.2000 - recall: 0.0010 - val_loss: 1.3772 - val_precision: 0.0000e+00 - val_recall: 0.0000e+00\n",
            "Epoch 14/50\n",
            "32/32 [==============================] - 0s 3ms/step - loss: 1.3654 - precision: 0.0000e+00 - recall: 0.0000e+00 - val_loss: 1.3762 - val_precision: 0.0000e+00 - val_recall: 0.0000e+00\n",
            "Epoch 15/50\n",
            "32/32 [==============================] - 0s 5ms/step - loss: 1.3647 - precision: 0.0000e+00 - recall: 0.0000e+00 - val_loss: 1.3759 - val_precision: 0.0000e+00 - val_recall: 0.0000e+00\n",
            "Epoch 16/50\n",
            "32/32 [==============================] - 0s 3ms/step - loss: 1.3634 - precision: 0.0000e+00 - recall: 0.0000e+00 - val_loss: 1.3763 - val_precision: 0.0000e+00 - val_recall: 0.0000e+00\n",
            "Epoch 17/50\n",
            "32/32 [==============================] - 0s 5ms/step - loss: 1.3622 - precision: 0.0000e+00 - recall: 0.0000e+00 - val_loss: 1.3763 - val_precision: 0.0000e+00 - val_recall: 0.0000e+00\n",
            "Epoch 18/50\n",
            "32/32 [==============================] - 0s 4ms/step - loss: 1.3612 - precision: 0.0000e+00 - recall: 0.0000e+00 - val_loss: 1.3760 - val_precision: 0.0000e+00 - val_recall: 0.0000e+00\n",
            "Epoch 19/50\n",
            "32/32 [==============================] - 0s 3ms/step - loss: 1.3603 - precision: 0.0000e+00 - recall: 0.0000e+00 - val_loss: 1.3758 - val_precision: 1.0000 - val_recall: 0.0020\n",
            "Epoch 20/50\n",
            "32/32 [==============================] - 0s 6ms/step - loss: 1.3595 - precision: 0.0000e+00 - recall: 0.0000e+00 - val_loss: 1.3757 - val_precision: 1.0000 - val_recall: 0.0020\n",
            "Epoch 21/50\n",
            "32/32 [==============================] - 0s 3ms/step - loss: 1.3587 - precision: 0.0000e+00 - recall: 0.0000e+00 - val_loss: 1.3758 - val_precision: 1.0000 - val_recall: 0.0020\n",
            "Epoch 22/50\n",
            "32/32 [==============================] - 0s 4ms/step - loss: 1.3578 - precision: 0.0000e+00 - recall: 0.0000e+00 - val_loss: 1.3749 - val_precision: 1.0000 - val_recall: 0.0020\n",
            "Epoch 23/50\n",
            "32/32 [==============================] - 0s 4ms/step - loss: 1.3569 - precision: 0.0000e+00 - recall: 0.0000e+00 - val_loss: 1.3748 - val_precision: 0.0000e+00 - val_recall: 0.0000e+00\n",
            "Epoch 24/50\n",
            "32/32 [==============================] - 0s 5ms/step - loss: 1.3564 - precision: 0.0000e+00 - recall: 0.0000e+00 - val_loss: 1.3747 - val_precision: 1.0000 - val_recall: 0.0020\n",
            "Epoch 25/50\n",
            "32/32 [==============================] - 0s 4ms/step - loss: 1.3557 - precision: 0.0000e+00 - recall: 0.0000e+00 - val_loss: 1.3740 - val_precision: 0.0000e+00 - val_recall: 0.0000e+00\n",
            "Epoch 26/50\n",
            "32/32 [==============================] - 0s 5ms/step - loss: 1.3549 - precision: 0.0000e+00 - recall: 0.0000e+00 - val_loss: 1.3743 - val_precision: 1.0000 - val_recall: 0.0020\n",
            "Epoch 27/50\n",
            "32/32 [==============================] - 0s 5ms/step - loss: 1.3542 - precision: 0.0000e+00 - recall: 0.0000e+00 - val_loss: 1.3737 - val_precision: 0.0000e+00 - val_recall: 0.0000e+00\n",
            "Epoch 28/50\n",
            "32/32 [==============================] - 0s 4ms/step - loss: 1.3536 - precision: 0.0000e+00 - recall: 0.0000e+00 - val_loss: 1.3738 - val_precision: 1.0000 - val_recall: 0.0020\n",
            "Epoch 29/50\n",
            "32/32 [==============================] - 0s 5ms/step - loss: 1.3528 - precision: 0.0000e+00 - recall: 0.0000e+00 - val_loss: 1.3737 - val_precision: 1.0000 - val_recall: 0.0020\n",
            "Epoch 30/50\n",
            "32/32 [==============================] - 0s 4ms/step - loss: 1.3523 - precision: 0.0000e+00 - recall: 0.0000e+00 - val_loss: 1.3737 - val_precision: 0.0000e+00 - val_recall: 0.0000e+00\n",
            "Epoch 31/50\n",
            "32/32 [==============================] - 0s 4ms/step - loss: 1.3518 - precision: 0.0000e+00 - recall: 0.0000e+00 - val_loss: 1.3740 - val_precision: 1.0000 - val_recall: 0.0020\n",
            "Epoch 32/50\n",
            "32/32 [==============================] - 0s 4ms/step - loss: 1.3511 - precision: 0.0000e+00 - recall: 0.0000e+00 - val_loss: 1.3736 - val_precision: 1.0000 - val_recall: 0.0020\n",
            "Epoch 33/50\n",
            "32/32 [==============================] - 0s 3ms/step - loss: 1.3506 - precision: 0.0000e+00 - recall: 0.0000e+00 - val_loss: 1.3732 - val_precision: 0.0000e+00 - val_recall: 0.0000e+00\n",
            "Epoch 34/50\n",
            "32/32 [==============================] - 0s 5ms/step - loss: 1.3501 - precision: 0.0000e+00 - recall: 0.0000e+00 - val_loss: 1.3735 - val_precision: 0.0000e+00 - val_recall: 0.0000e+00\n",
            "Epoch 35/50\n",
            "32/32 [==============================] - 0s 4ms/step - loss: 1.3495 - precision: 0.0000e+00 - recall: 0.0000e+00 - val_loss: 1.3735 - val_precision: 0.0000e+00 - val_recall: 0.0000e+00\n",
            "Epoch 36/50\n",
            "32/32 [==============================] - 0s 4ms/step - loss: 1.3490 - precision: 0.0000e+00 - recall: 0.0000e+00 - val_loss: 1.3736 - val_precision: 1.0000 - val_recall: 0.0020\n",
            "Epoch 37/50\n",
            "32/32 [==============================] - 0s 4ms/step - loss: 1.3484 - precision: 0.0000e+00 - recall: 0.0000e+00 - val_loss: 1.3736 - val_precision: 1.0000 - val_recall: 0.0020\n"
          ]
        }
      ]
    },
    {
      "cell_type": "code",
      "source": [
        "pred_train = model.predict(X_train)\n",
        "y_pred = list()\n",
        "for i in range(len(pred_train)):\n",
        "    y_pred.append((pred_train[i] == pred_train[i].max()).astype(int))"
      ],
      "metadata": {
        "id": "bMpS8WVSw9f1",
        "colab": {
          "base_uri": "https://localhost:8080/"
        },
        "outputId": "73701fbb-ad51-47e9-d69a-a8388be72081"
      },
      "execution_count": 56,
      "outputs": [
        {
          "output_type": "stream",
          "name": "stdout",
          "text": [
            "32/32 [==============================] - 0s 1ms/step\n"
          ]
        }
      ]
    },
    {
      "cell_type": "code",
      "source": [
        "y_pred = np.array(y_pred)\n",
        "print(classification_report(M_train,y_pred,target_names=list(class_names)))"
      ],
      "metadata": {
        "id": "xH5wfSB4xd1l",
        "colab": {
          "base_uri": "https://localhost:8080/"
        },
        "outputId": "f3219856-42ae-4222-d254-2411439eecf4"
      },
      "execution_count": 57,
      "outputs": [
        {
          "output_type": "stream",
          "name": "stdout",
          "text": [
            "              precision    recall  f1-score   support\n",
            "\n",
            "           1       0.00      0.00      0.00       190\n",
            "           2       0.00      0.00      0.00       191\n",
            "           3       0.36      0.65      0.47       314\n",
            "           4       0.33      0.47      0.39       305\n",
            "\n",
            "   micro avg       0.35      0.35      0.35      1000\n",
            "   macro avg       0.17      0.28      0.21      1000\n",
            "weighted avg       0.21      0.35      0.26      1000\n",
            " samples avg       0.35      0.35      0.35      1000\n",
            "\n"
          ]
        }
      ]
    },
    {
      "cell_type": "code",
      "source": [
        "accuracy_score(M_train, y_pred)"
      ],
      "metadata": {
        "id": "rRMjx0k6y4XX",
        "colab": {
          "base_uri": "https://localhost:8080/"
        },
        "outputId": "d937af09-3cf5-43d1-8583-ff4fd13c6790"
      },
      "execution_count": 58,
      "outputs": [
        {
          "output_type": "execute_result",
          "data": {
            "text/plain": [
              "0.347"
            ]
          },
          "metadata": {},
          "execution_count": 58
        }
      ]
    },
    {
      "cell_type": "code",
      "source": [
        "pred_test = model.predict(X_test)\n",
        "y_pred_test = list()\n",
        "for i in range(len(pred_test)):\n",
        "    y_pred_test.append((pred_test[i] == pred_test[i].max()).astype(int))"
      ],
      "metadata": {
        "id": "7TZHjQpezBnn",
        "colab": {
          "base_uri": "https://localhost:8080/"
        },
        "outputId": "3914f173-605d-48b9-c86e-f35c815a2e8f"
      },
      "execution_count": 59,
      "outputs": [
        {
          "output_type": "stream",
          "name": "stdout",
          "text": [
            "16/16 [==============================] - 0s 1ms/step\n"
          ]
        }
      ]
    },
    {
      "cell_type": "code",
      "source": [
        "y_pred_test = np.array(y_pred_test)\n",
        "print(classification_report(M_test,y_pred_test,target_names=list(class_names)))"
      ],
      "metadata": {
        "id": "tcp27_IEzJ87",
        "colab": {
          "base_uri": "https://localhost:8080/"
        },
        "outputId": "a5875499-dceb-42b8-b50f-e662e5977f13"
      },
      "execution_count": 60,
      "outputs": [
        {
          "output_type": "stream",
          "name": "stdout",
          "text": [
            "              precision    recall  f1-score   support\n",
            "\n",
            "           1       0.00      0.00      0.00        98\n",
            "           2       0.00      0.00      0.00        88\n",
            "           3       0.30      0.60      0.40       140\n",
            "           4       0.33      0.41      0.37       168\n",
            "\n",
            "   micro avg       0.31      0.31      0.31       494\n",
            "   macro avg       0.16      0.25      0.19       494\n",
            "weighted avg       0.20      0.31      0.24       494\n",
            " samples avg       0.31      0.31      0.31       494\n",
            "\n"
          ]
        }
      ]
    },
    {
      "cell_type": "code",
      "source": [
        "accuracy_score(M_test, y_pred_test)"
      ],
      "metadata": {
        "id": "7lWSaIlkzO1I",
        "colab": {
          "base_uri": "https://localhost:8080/"
        },
        "outputId": "053790fb-be01-4dc0-ada1-3436482998a6"
      },
      "execution_count": 61,
      "outputs": [
        {
          "output_type": "execute_result",
          "data": {
            "text/plain": [
              "0.3097165991902834"
            ]
          },
          "metadata": {},
          "execution_count": 61
        }
      ]
    },
    {
      "cell_type": "markdown",
      "source": [
        "# *Se selecciona el XGBoost con los hiperparámetros mostrados anteriormente, ya que no presenta sobreajuste y además, predice de una forma estable las 4 categorías* (Esto se aprecia en el classification_report())"
      ],
      "metadata": {
        "id": "ir8sw7l_RAg_"
      }
    },
    {
      "cell_type": "markdown",
      "source": [
        "# **Interpretación**\n",
        "*Se puede apreciar en la matriz de importancia que en el top aparecen tanto la edad como el MonthlyIncome, por lo tanto, son features significativas para el modelo*"
      ],
      "metadata": {
        "id": "aMAqk1YOP-iv"
      }
    },
    {
      "cell_type": "code",
      "source": [
        "explainer = shap.Explainer(xgb_grid.best_estimator_.predict, X_train)\n",
        "shap_values = explainer(X_train)"
      ],
      "metadata": {
        "id": "-BT-1U65SPnp",
        "colab": {
          "base_uri": "https://localhost:8080/"
        },
        "outputId": "25e99e7b-1042-4c16-9073-64ec6866487e"
      },
      "execution_count": 62,
      "outputs": [
        {
          "output_type": "stream",
          "name": "stderr",
          "text": [
            "Permutation explainer: 1001it [01:26, 10.67it/s]\n"
          ]
        }
      ]
    },
    {
      "cell_type": "code",
      "source": [
        "shap.summary_plot(shap_values, plot_type = 'violin')"
      ],
      "metadata": {
        "id": "qwfvO5z0EoMA",
        "colab": {
          "base_uri": "https://localhost:8080/",
          "height": 483
        },
        "outputId": "62bbb4b0-2fb2-457a-f689-89aa16f028b6"
      },
      "execution_count": 63,
      "outputs": [
        {
          "output_type": "display_data",
          "data": {
            "text/plain": [
              "<Figure size 576x482.4 with 2 Axes>"
            ],
            "image/png": "[encoded data removed]"
          },
          "metadata": {}
        }
      ]
    },
    {
      "cell_type": "markdown",
      "source": [
        "Con el shap se puede apreciar claramente que: \\\\\n",
        "1. Valores altos de MonthlyRate afectan negativamente el output, mientras que valores bajos lo afectan positivamente. \\\\\n",
        "2. Se apreciar también que con la reducción de dimensionalidad, trabajadores en el cluster 0 tienden a estar menos satisfechos que trabajadores que no pertenecen a este cluster. \\\\\n",
        "3. Además, es interesante también, ver como a mayor cantidad de años desde la última promoción (YearsSinceLastPromotion) la satisfacción es más baja."
      ],
      "metadata": {
        "id": "eQqx9zbzTaZc"
      }
    },
    {
      "cell_type": "markdown",
      "source": [
        "# **Evaluación**"
      ],
      "metadata": {
        "id": "WV4Uq1ttVDhf"
      }
    },
    {
      "cell_type": "markdown",
      "source": [
        "Los siguientes son los acc de los diferentes modelos:\n",
        "1. XGBoost -> train: 34.7% , test: 33.4%\n",
        "2. RandomForest -> train: 68.8%, test_28.7%\n",
        "3. DecisionTree -> train: 32.6%, test: 34.1%\n",
        "4. Red Neuronal -> train: 33.4%, test: 29.4%\n",
        "\n",
        "Y se selecciona el XGBoost como se comenta antes, ya que es el único que predice sobre las 4 variables, además de no presentar sobreajuste."
      ],
      "metadata": {
        "id": "hFVwjmJFVIH4"
      }
    },
    {
      "cell_type": "markdown",
      "source": [
        "Estrategias:\n",
        "1. Tomar algún tipo de iniciativa con los trabajadores de mayor edad, ya que esta variable, al incrementar afecta negativamente la satisfacción.\n",
        "2. Mayor promoción interna, antes de contratación de nuevos empleados.\n",
        "3. Permitir, de ser posible el trabajo remoto, ya que se aprecia que a mayor distancia del hogar, esto afecta negativamente."
      ],
      "metadata": {
        "id": "FUJt8uKxV7rp"
      }
    },
    {
      "cell_type": "markdown",
      "source": [
        "# **Estimación de nuevos empleados**"
      ],
      "metadata": {
        "id": "3EXUBUNRWciY"
      }
    },
    {
      "cell_type": "code",
      "source": [
        "X_new_model = X_base[X_base['NewEmployee'] == 1]"
      ],
      "metadata": {
        "id": "eBpVIZZZTWrE"
      },
      "execution_count": 64,
      "outputs": []
    },
    {
      "cell_type": "code",
      "source": [
        "X_new_model = X_new_model.drop(columns=['NewEmployee'])"
      ],
      "metadata": {
        "id": "mzUp34BkWyOs"
      },
      "execution_count": 65,
      "outputs": []
    },
    {
      "cell_type": "code",
      "source": [
        "pred_modelo_new = xgb_selecc.predict(X_new_model)"
      ],
      "metadata": {
        "id": "Djzqs3-rWrI-"
      },
      "execution_count": 66,
      "outputs": []
    },
    {
      "cell_type": "code",
      "source": [
        "pred_modelo_new"
      ],
      "metadata": {
        "id": "_wvFQ6OJW1E5",
        "colab": {
          "base_uri": "https://localhost:8080/"
        },
        "outputId": "bd27c55d-1a5a-4d78-c6a3-f8442a8fa239"
      },
      "execution_count": 67,
      "outputs": [
        {
          "output_type": "execute_result",
          "data": {
            "text/plain": [
              "array([4, 3, 4, 4, 3, 3, 4, 3, 3, 4, 3, 4])"
            ]
          },
          "metadata": {},
          "execution_count": 67
        }
      ]
    },
    {
      "cell_type": "markdown",
      "source": [
        "# **Bono: Ya se realizó anteriormente**"
      ],
      "metadata": {
        "id": "mlG3t5GtW5rb"
      }
    },
    {
      "cell_type": "code",
      "source": [],
      "metadata": {
        "id": "m70Um9FsZZ3h"
      },
      "execution_count": 67,
      "outputs": []
    }
  ]
}