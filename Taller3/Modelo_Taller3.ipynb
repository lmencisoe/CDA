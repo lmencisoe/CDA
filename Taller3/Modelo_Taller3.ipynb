{
  "nbformat": 4,
  "nbformat_minor": 0,
  "metadata": {
    "colab": {
      "private_outputs": true,
      "provenance": [],
      "authorship_tag": "ABX9TyPPQiW1Qrenk22h/hydkrAD",
      "include_colab_link": true
    },
    "kernelspec": {
      "name": "python3",
      "display_name": "Python 3"
    },
    "language_info": {
      "name": "python"
    },
    "accelerator": "GPU",
    "gpuClass": "standard"
  },
  "cells": [
    {
      "cell_type": "markdown",
      "metadata": {
        "id": "view-in-github",
        "colab_type": "text"
      },
      "source": [
        "<a href=\"https://colab.research.google.com/github/lmencisoe/CDA/blob/main/Taller3/Modelo_Taller3.ipynb\" target=\"_parent\"><img src=\"https://colab.research.google.com/assets/colab-badge.svg\" alt=\"Open In Colab\"/></a>"
      ]
    },
    {
      "cell_type": "code",
      "source": [
        "!pip install --upgrade pandas-profiling"
      ],
      "metadata": {
        "id": "yu5F5ha9UDt8"
      },
      "execution_count": null,
      "outputs": []
    },
    {
      "cell_type": "code",
      "source": [
        "!pip install shap"
      ],
      "metadata": {
        "id": "tcL-ixISSvFD"
      },
      "execution_count": null,
      "outputs": []
    },
    {
      "cell_type": "code",
      "execution_count": null,
      "metadata": {
        "id": "Fhk7Dw51S3nK"
      },
      "outputs": [],
      "source": [
        "import pandas as pd\n",
        "import numpy as np\n",
        "from google.colab import drive\n",
        "drive.mount('/content/drive')\n",
        "import xgboost as xgb\n",
        "import pandas as pd\n",
        "import matplotlib.pyplot as plt\n",
        "%matplotlib inline\n",
        "from sklearn.decomposition import PCA\n",
        "from pandas_profiling import ProfileReport\n",
        "import tensorflow as tf\n",
        "from sklearn.feature_extraction import DictVectorizer\n",
        "from sklearn.datasets import make_blobs\n",
        "from sklearn.cluster import KMeans\n",
        "from sklearn.metrics import silhouette_score\n",
        "from sklearn import preprocessing\n",
        "from sklearn.linear_model import LogisticRegression\n",
        "from keras.models import Sequential\n",
        "from xgboost import plot_importance\n",
        "from keras.layers import Dropout, Flatten, Dense, Input, Rescaling, Lambda, MaxPooling2D, Conv2D, AveragePooling2D\n",
        "from sklearn.neural_network import MLPClassifier\n",
        "from sklearn.svm import SVC\n",
        "from sklearn.ensemble import RandomForestClassifier\n",
        "from sklearn.metrics import accuracy_score\n",
        "from sklearn.metrics import ConfusionMatrixDisplay, precision_score, recall_score, f1_score\n",
        "from sklearn.preprocessing import StandardScaler\n",
        "from sklearn.metrics import classification_report, confusion_matrix\n",
        "from sklearn.model_selection import train_test_split\n",
        "from sklearn.tree import DecisionTreeClassifier, plot_tree\n",
        "from sklearn.model_selection  import GridSearchCV\n",
        "from matplotlib import pyplot\n",
        "import seaborn as sns\n",
        "import shap\n",
        "import warnings\n",
        "import re\n",
        "warnings.filterwarnings('ignore')"
      ]
    },
    {
      "cell_type": "code",
      "source": [
        "df=pd.read_csv(\"/content/drive/MyDrive/Taller3_CDA/Data_Taller_3_modelo.csv\",sep=\";\")"
      ],
      "metadata": {
        "id": "3Bb9P7cgTK6g"
      },
      "execution_count": null,
      "outputs": []
    },
    {
      "cell_type": "code",
      "source": [
        "df2 = df.copy()\n",
        "df2 = df2[df2['NewEmployee']==0]"
      ],
      "metadata": {
        "id": "kAtPoOf-JwWU"
      },
      "execution_count": null,
      "outputs": []
    },
    {
      "cell_type": "code",
      "source": [
        "df.info()"
      ],
      "metadata": {
        "id": "l1P4MLggegCO"
      },
      "execution_count": null,
      "outputs": []
    },
    {
      "cell_type": "code",
      "source": [
        "X_total = df2.drop(['JobSatisfaction'], axis=1)\n",
        "Y_total = df2['JobSatisfaction']"
      ],
      "metadata": {
        "id": "skviZXbfibr8"
      },
      "execution_count": null,
      "outputs": []
    },
    {
      "cell_type": "code",
      "source": [
        "#multi:softprob"
      ],
      "metadata": {
        "id": "bw36fgrKpCa2"
      },
      "execution_count": null,
      "outputs": []
    },
    {
      "cell_type": "markdown",
      "source": [
        "#*Entrena modelo base para selección de mejores variables (XgBoost)*"
      ],
      "metadata": {
        "id": "HW0uWRd018xD"
      }
    },
    {
      "cell_type": "code",
      "source": [
        "xgb_base = xgb.XGBClassifier(objective='multi:softprob',\n",
        "         seed = 2022)\n",
        "\n",
        "xgb_base.fit(X_total,\n",
        "         Y_total,  \n",
        "         eval_metric=\"merror\")"
      ],
      "metadata": {
        "id": "Ub8PcSn518EO"
      },
      "execution_count": null,
      "outputs": []
    },
    {
      "cell_type": "code",
      "source": [
        "plot_importance(xgb_base, height = 1, max_num_features = 15)\n",
        "pyplot.show()"
      ],
      "metadata": {
        "id": "zncOTa4I2ZcS"
      },
      "execution_count": null,
      "outputs": []
    },
    {
      "cell_type": "markdown",
      "source": [
        "# *Se decide dejar las variables: MonhtlyIncome, MonthlyRate, DailyRate, HourlyRate, Age, DistanceFromHome, PercentSalaryHike y YearsSinceLastPromotion*\\\\\n",
        "*Con las demás se decide construir kmeans y grupos para reducir dimensionalidad*"
      ],
      "metadata": {
        "id": "mEW5fK_k2czd"
      }
    },
    {
      "cell_type": "code",
      "source": [
        "df3 = df.copy()\n",
        "df3.shape"
      ],
      "metadata": {
        "id": "j2woC_yIKFv_"
      },
      "execution_count": null,
      "outputs": []
    },
    {
      "cell_type": "code",
      "source": [
        "X_total = df3.drop(['JobSatisfaction'], axis=1)"
      ],
      "metadata": {
        "id": "RZAJ-kd5KbsJ"
      },
      "execution_count": null,
      "outputs": []
    },
    {
      "cell_type": "code",
      "source": [
        "X_base = X_total[['MonthlyIncome','MonthlyRate', 'DailyRate', 'HourlyRate', 'Age', 'DistanceFromHome', 'PercentSalaryHike', 'YearsSinceLastPromotion','NewEmployee']]\n",
        "X_resto = X_total.drop(['MonthlyIncome','MonthlyRate', 'DailyRate', 'HourlyRate', 'Age', 'DistanceFromHome', 'PercentSalaryHike', 'YearsSinceLastPromotion'], axis=1)"
      ],
      "metadata": {
        "id": "ha76-J4H3t1S"
      },
      "execution_count": null,
      "outputs": []
    },
    {
      "cell_type": "markdown",
      "source": [
        "# **Se construye un PCA con las demás variables (Esto hace parte del bono)**"
      ],
      "metadata": {
        "id": "kRCbj2LZ3qFf"
      }
    },
    {
      "cell_type": "code",
      "source": [
        "pca = PCA(n_components=10)\n",
        "principalComponents = pca.fit_transform(X_resto)\n",
        "principalDf = pd.DataFrame(data = principalComponents\n",
        "             , columns = ['pc1', 'pc2','pc3', 'pc4','pc5', 'pc6','pc7', 'pc8','pc9', 'pc10'])"
      ],
      "metadata": {
        "id": "BdpGrZ9n3Twm"
      },
      "execution_count": null,
      "outputs": []
    },
    {
      "cell_type": "markdown",
      "source": [
        "# Se usa un kmeans y método del codo para seleccionar 5 grupos, con el fin de resumir las variables restantes en estos 5 grupos y que sean features del nuevo modelo."
      ],
      "metadata": {
        "id": "YWS9QFZLYRxa"
      }
    },
    {
      "cell_type": "code",
      "source": [
        "kmeans_kwargs = {\n",
        "    \"init\": \"random\",\n",
        "    \"n_init\": 10,\n",
        "    \"max_iter\": 300,\n",
        "    \"random_state\": 42,\n",
        "}\n",
        "\n",
        "# A list holds the SSE values for each k\n",
        "sse = []\n",
        "for k in range(1, 11):\n",
        "    kmeans = KMeans(n_clusters=k, **kmeans_kwargs)\n",
        "    kmeans.fit(principalDf)\n",
        "    sse.append(kmeans.inertia_)"
      ],
      "metadata": {
        "id": "gVYyU6rr5IWh"
      },
      "execution_count": null,
      "outputs": []
    },
    {
      "cell_type": "code",
      "source": [
        "plt.style.use(\"fivethirtyeight\")\n",
        "plt.plot(range(1, 11), sse)\n",
        "plt.xticks(range(1, 11))\n",
        "plt.xlabel(\"Number of Clusters\")\n",
        "plt.ylabel(\"SSE\")\n",
        "plt.show()"
      ],
      "metadata": {
        "id": "3RBI-LvW5XbQ"
      },
      "execution_count": null,
      "outputs": []
    },
    {
      "cell_type": "code",
      "source": [
        "kmeans = KMeans(\n",
        "     init=\"random\",\n",
        "     n_clusters=5,\n",
        "     n_init=10,\n",
        "     max_iter=300,\n",
        "     random_state=42)\n",
        "kmeans.fit(principalDf)\n",
        "kmeans.labels_[:5]"
      ],
      "metadata": {
        "id": "JBTcI5QS3n_Z"
      },
      "execution_count": null,
      "outputs": []
    },
    {
      "cell_type": "code",
      "source": [
        "X_base['new'] = kmeans.labels_"
      ],
      "metadata": {
        "id": "ATiqdbK75hpg"
      },
      "execution_count": null,
      "outputs": []
    },
    {
      "cell_type": "code",
      "source": [
        "dummies_1 = pd.get_dummies(X_base['new'], prefix='cluster_g_').reset_index(drop=True)\n",
        "X_base = pd.concat([X_base.reset_index(drop=True), dummies_1], axis=1)"
      ],
      "metadata": {
        "id": "gOK6lkew6WPS"
      },
      "execution_count": null,
      "outputs": []
    },
    {
      "cell_type": "code",
      "source": [
        "X_base = X_base.drop(columns=['new'])"
      ],
      "metadata": {
        "id": "vn77ItNy6hVS"
      },
      "execution_count": null,
      "outputs": []
    },
    {
      "cell_type": "markdown",
      "source": [
        "Nuevas X con las variables seleccionadas y los grupos del kmeans con la reducción de dimensionalidad:"
      ],
      "metadata": {
        "id": "npf89ZHFYd1N"
      }
    },
    {
      "cell_type": "code",
      "source": [
        "X_base"
      ],
      "metadata": {
        "id": "vv7auO7L6vbB"
      },
      "execution_count": null,
      "outputs": []
    },
    {
      "cell_type": "code",
      "source": [
        "X_base_model = X_base[X_base['NewEmployee'] == 0]\n",
        "X_base_model = X_base_model.drop(columns=['NewEmployee'])\n",
        "Y_model = df2[df2['NewEmployee']==0]['JobSatisfaction']\n",
        "Y_model"
      ],
      "metadata": {
        "id": "3BhXJDlGB1Yi"
      },
      "execution_count": null,
      "outputs": []
    },
    {
      "cell_type": "code",
      "source": [
        "X_base_model"
      ],
      "metadata": {
        "id": "R1Knw_NVPu99"
      },
      "execution_count": null,
      "outputs": []
    },
    {
      "cell_type": "code",
      "source": [
        "Y_model = Y_model.apply(int)\n",
        "Y_model"
      ],
      "metadata": {
        "id": "W_TC318kLS0R"
      },
      "execution_count": null,
      "outputs": []
    },
    {
      "cell_type": "code",
      "source": [
        "X_train, X_test, y_train, y_test = train_test_split(X_base_model, Y_model, test_size=0.33, random_state=2022)"
      ],
      "metadata": {
        "id": "5_KmZmmn5rNk"
      },
      "execution_count": null,
      "outputs": []
    },
    {
      "cell_type": "markdown",
      "source": [
        "# **Tunning de hiperparámetros del XGBoost (Esto hace parte del bono)**"
      ],
      "metadata": {
        "id": "PloOs52qUqHI"
      }
    },
    {
      "cell_type": "code",
      "source": [
        "xgb_model = xgb.XGBClassifier()\n",
        "\n",
        "parameters = {'nthread':[3], #when use hyperthread, xgboost may become slower\n",
        "              'objective':['multi:softprob'],\n",
        "              'learning_rate': [0.01,0.05,0.1], #so called `eta` value\n",
        "              'max_depth': [2,4,6],\n",
        "              'subsample': [0.1,0.15],\n",
        "              'colsample_bytree': [0.1,0.15],\n",
        "              'n_estimators': [40,80], #number of trees, change it to 1000 for better results\n",
        "              'seed': [2022]}\n",
        "\n",
        "\n",
        "xgb_grid = GridSearchCV(xgb_model,\n",
        "                        parameters,\n",
        "                        cv = 3,\n",
        "                        n_jobs = 3,\n",
        "                        verbose=True)"
      ],
      "metadata": {
        "id": "YoIuyBimpO3K"
      },
      "execution_count": null,
      "outputs": []
    },
    {
      "cell_type": "code",
      "source": [
        "with tf.device('/device:GPU:0'): \n",
        "    xgb_grid.fit(X_train, \n",
        "                 y_train,\n",
        "                 eval_metric=\"merror\",\n",
        "                 early_stopping_rounds=20,\n",
        "                 eval_set = [(X_train, y_train),(X_test, y_test)])    "
      ],
      "metadata": {
        "id": "-oCfgj3Qseh0"
      },
      "execution_count": null,
      "outputs": []
    },
    {
      "cell_type": "code",
      "source": [
        "print(xgb_grid.best_score_)\n",
        "print(xgb_grid.best_params_)"
      ],
      "metadata": {
        "id": "VjG2U956vN4K"
      },
      "execution_count": null,
      "outputs": []
    },
    {
      "cell_type": "markdown",
      "source": [
        "Mejor modelo del XGBoost:"
      ],
      "metadata": {
        "id": "Nl35GQe6Yp1z"
      }
    },
    {
      "cell_type": "code",
      "source": [
        "xgb_selecc = xgb.XGBClassifier(nthread=3, #when use hyperthread, xgboost may become slower\n",
        "         objective='multi:softprob',\n",
        "         learning_rate= 0.05, #so called `eta` value\n",
        "         max_depth= 4,\n",
        "         n_estimators = 40,\n",
        "         subsample= 0.1,\n",
        "         colsample_bytree= 0.1,\n",
        "         seed = 2022)\n",
        "\n",
        "xgb_selecc.fit(X_train,\n",
        "         y_train,  \n",
        "         eval_metric=\"merror\",\n",
        "         early_stopping_rounds=20,\n",
        "         eval_set = [(X_train, y_train),(X_test, y_test)])"
      ],
      "metadata": {
        "id": "7A7myy3yvt32"
      },
      "execution_count": null,
      "outputs": []
    },
    {
      "cell_type": "code",
      "source": [
        "pred_modelo_train = xgb_selecc.predict(X_train)\n",
        "pred_modelo_test = xgb_selecc.predict(X_test)"
      ],
      "metadata": {
        "id": "ijDv1HNMwF7T"
      },
      "execution_count": null,
      "outputs": []
    },
    {
      "cell_type": "code",
      "source": [
        "class_names = ['1','2','3','4']"
      ],
      "metadata": {
        "id": "GXdwpGtmwmiO"
      },
      "execution_count": null,
      "outputs": []
    },
    {
      "cell_type": "code",
      "source": [
        "print(classification_report(y_train,pred_modelo_train,target_names=list(class_names)))"
      ],
      "metadata": {
        "id": "zGnW-lYOw0PY"
      },
      "execution_count": null,
      "outputs": []
    },
    {
      "cell_type": "code",
      "source": [
        "print(classification_report(y_test,pred_modelo_test,target_names=list(class_names)))"
      ],
      "metadata": {
        "id": "yh0T9y0nwQHu"
      },
      "execution_count": null,
      "outputs": []
    },
    {
      "cell_type": "code",
      "source": [
        "accuracy_score(y_train, pred_modelo_train), accuracy_score(y_test, pred_modelo_test)"
      ],
      "metadata": {
        "id": "UE1ZDrCkyfyR"
      },
      "execution_count": null,
      "outputs": []
    },
    {
      "cell_type": "markdown",
      "source": [
        "# **Importancia de variables (este es el modelo seleccionado, más adelante se justifica)**"
      ],
      "metadata": {
        "id": "z9yCrdseU0TX"
      }
    },
    {
      "cell_type": "code",
      "source": [
        "plot_importance(xgb_selecc, height = 1, max_num_features = 15)\n",
        "pyplot.show()"
      ],
      "metadata": {
        "id": "zLRvojRszySj"
      },
      "execution_count": null,
      "outputs": []
    },
    {
      "cell_type": "markdown",
      "source": [
        "#*Random Forest*"
      ],
      "metadata": {
        "id": "TQ7W7dq1kRKg"
      }
    },
    {
      "cell_type": "code",
      "source": [
        "parameters = {\n",
        "    'n_estimators': [10,20,30],\n",
        "    'max_depth': [2,5,7],\n",
        "    'max_features': ['auto', 'sqrt', 'log2'],\n",
        "    'min_samples_split': [3,5,7]\n",
        "}\n",
        "regr = RandomForestClassifier(random_state=0)\n",
        "\n",
        "clf = GridSearchCV(regr, \n",
        "                   parameters,\n",
        "                   cv = 5)\n",
        "clf.fit(X_train, y_train)"
      ],
      "metadata": {
        "id": "fcn6uRrLfhVi"
      },
      "execution_count": null,
      "outputs": []
    },
    {
      "cell_type": "code",
      "source": [
        "print(clf.best_score_)\n",
        "print(clf.best_params_)"
      ],
      "metadata": {
        "id": "tBi5uk-tkt3K"
      },
      "execution_count": null,
      "outputs": []
    },
    {
      "cell_type": "markdown",
      "source": [
        "Mejor RandomForest"
      ],
      "metadata": {
        "id": "Qt7VcdjUYvaC"
      }
    },
    {
      "cell_type": "code",
      "source": [
        "rf_selecc = RandomForestClassifier(\n",
        "         n_estimators= 30, #so called `eta` value\n",
        "         max_features = 'auto',\n",
        "         max_depth=7,\n",
        "         min_samples_split = 3)\n",
        "\n",
        "rf_selecc.fit(X_train,\n",
        "         y_train)"
      ],
      "metadata": {
        "id": "QVYo-3GLk6VJ"
      },
      "execution_count": null,
      "outputs": []
    },
    {
      "cell_type": "code",
      "source": [
        "pred_modelo_train = rf_selecc.predict(X_train)\n",
        "pred_modelo_test = rf_selecc.predict(X_test)"
      ],
      "metadata": {
        "id": "_BbrvSzuniBu"
      },
      "execution_count": null,
      "outputs": []
    },
    {
      "cell_type": "code",
      "source": [
        "print(classification_report(y_train,pred_modelo_train,target_names=list(class_names)))"
      ],
      "metadata": {
        "id": "nJd9MVkEnk1z"
      },
      "execution_count": null,
      "outputs": []
    },
    {
      "cell_type": "code",
      "source": [
        "print(classification_report(y_test,pred_modelo_test,target_names=list(class_names)))"
      ],
      "metadata": {
        "id": "rQJ9CzxKnmiU"
      },
      "execution_count": null,
      "outputs": []
    },
    {
      "cell_type": "code",
      "source": [
        "accuracy_score(y_train, pred_modelo_train), accuracy_score(y_test, pred_modelo_test)"
      ],
      "metadata": {
        "id": "2Uz9JGPwyv0Z"
      },
      "execution_count": null,
      "outputs": []
    },
    {
      "cell_type": "markdown",
      "source": [
        "#*Arbol de decisión*"
      ],
      "metadata": {
        "id": "O-5eGlull-u4"
      }
    },
    {
      "cell_type": "code",
      "source": [
        "parameters = {\n",
        "    'max_depth': [2,5,7],\n",
        "    'min_samples_split': [3,5,7],\n",
        "    'max_features': ['auto', 'sqrt', 'log2']\n",
        "}\n",
        "regr_arb = DecisionTreeClassifier(random_state=0)\n",
        "\n",
        "arbol = GridSearchCV(regr_arb, \n",
        "                   parameters,\n",
        "                   cv = 5)\n",
        "arbol.fit(X_train, y_train)"
      ],
      "metadata": {
        "id": "U-anqkGUmBkO"
      },
      "execution_count": null,
      "outputs": []
    },
    {
      "cell_type": "code",
      "source": [
        "print(arbol.best_score_)\n",
        "print(arbol.best_params_)"
      ],
      "metadata": {
        "id": "a-_DUPxEojem"
      },
      "execution_count": null,
      "outputs": []
    },
    {
      "cell_type": "markdown",
      "source": [
        "Mejor árbol de decisión:"
      ],
      "metadata": {
        "id": "QXPvYFqRYy9S"
      }
    },
    {
      "cell_type": "code",
      "source": [
        "arbol_selecc = DecisionTreeClassifier(\n",
        "         max_depth= 2, #so called `eta` value\n",
        "         min_samples_split = 3,\n",
        "         max_features = 'auto')\n",
        "\n",
        "arbol_selecc.fit(X_train,\n",
        "         y_train)"
      ],
      "metadata": {
        "id": "E6yVFi4romGG"
      },
      "execution_count": null,
      "outputs": []
    },
    {
      "cell_type": "code",
      "source": [
        "pred_modelo_train = arbol_selecc.predict(X_train)\n",
        "pred_modelo_test = arbol_selecc.predict(X_test)"
      ],
      "metadata": {
        "id": "H8lKbooZo8oa"
      },
      "execution_count": null,
      "outputs": []
    },
    {
      "cell_type": "code",
      "source": [
        "print(classification_report(y_train,pred_modelo_train,target_names=list(class_names)))"
      ],
      "metadata": {
        "id": "cpSVwcpapB4B"
      },
      "execution_count": null,
      "outputs": []
    },
    {
      "cell_type": "code",
      "source": [
        "print(classification_report(y_test,pred_modelo_test,target_names=list(class_names)))"
      ],
      "metadata": {
        "id": "UtT-i8wRpPhK"
      },
      "execution_count": null,
      "outputs": []
    },
    {
      "cell_type": "code",
      "source": [
        "accuracy_score(y_train, pred_modelo_train), accuracy_score(y_test, pred_modelo_test)"
      ],
      "metadata": {
        "id": "NP3Mby9-y0w7"
      },
      "execution_count": null,
      "outputs": []
    },
    {
      "cell_type": "markdown",
      "source": [
        "#*Red Neuronal*"
      ],
      "metadata": {
        "id": "ndukGG0JlQ9X"
      }
    },
    {
      "cell_type": "code",
      "source": [
        "y_dict = [{'':str(x)} for x in y_train.tolist()]\n",
        "y_dict_test = [{'':str(x)} for x in y_test.tolist()]\n"
      ],
      "metadata": {
        "id": "wJu6kcX_v8cA"
      },
      "execution_count": null,
      "outputs": []
    },
    {
      "cell_type": "code",
      "source": [
        "vec = DictVectorizer(sparse=False, dtype=int)\n",
        "M_train = vec.fit_transform(y_dict)\n",
        "M_test = vec.fit_transform(y_dict_test)"
      ],
      "metadata": {
        "id": "sJqzNFcNvioq"
      },
      "execution_count": null,
      "outputs": []
    },
    {
      "cell_type": "code",
      "source": [
        "model = Sequential(name=\"RedNeuronal\")\n",
        "model.add(Input(shape=(13),name='Capa_Entrada'))\n",
        "model.add(Dense(16,activation='relu',name='Capa_Densa_3'))\n",
        "model.add(Dense(8,activation='relu',name='Capa_Densa_4'))\n",
        "model.add(Dense(len(class_names),activation='softmax',name='Capa_Respuesta'))\n",
        "model.compile(loss='categorical_crossentropy', optimizer='sgd',metrics=[tf.keras.metrics.Precision(), tf.keras.metrics.Recall()])\n",
        "model.summary()"
      ],
      "metadata": {
        "id": "b5fJldRdlTNi"
      },
      "execution_count": null,
      "outputs": []
    },
    {
      "cell_type": "code",
      "source": [
        "my_callbacks = [\n",
        "    tf.keras.callbacks.EarlyStopping(patience=4)\n",
        "]"
      ],
      "metadata": {
        "id": "am8mx796rKJH"
      },
      "execution_count": null,
      "outputs": []
    },
    {
      "cell_type": "code",
      "source": [
        "history = model.fit(X_train, \n",
        "        M_train,           \n",
        "        validation_data=([X_test, M_test]),\n",
        "        epochs=50,\n",
        "        callbacks=my_callbacks\n",
        "    )"
      ],
      "metadata": {
        "id": "-sqp2IFqrMem"
      },
      "execution_count": null,
      "outputs": []
    },
    {
      "cell_type": "code",
      "source": [
        "pred_train = model.predict(X_train)\n",
        "y_pred = list()\n",
        "for i in range(len(pred_train)):\n",
        "    y_pred.append((pred_train[i] == pred_train[i].max()).astype(int))"
      ],
      "metadata": {
        "id": "bMpS8WVSw9f1"
      },
      "execution_count": null,
      "outputs": []
    },
    {
      "cell_type": "code",
      "source": [
        "y_pred = np.array(y_pred)\n",
        "print(classification_report(M_train,y_pred,target_names=list(class_names)))"
      ],
      "metadata": {
        "id": "xH5wfSB4xd1l"
      },
      "execution_count": null,
      "outputs": []
    },
    {
      "cell_type": "code",
      "source": [
        "accuracy_score(M_train, y_pred)"
      ],
      "metadata": {
        "id": "rRMjx0k6y4XX"
      },
      "execution_count": null,
      "outputs": []
    },
    {
      "cell_type": "code",
      "source": [
        "pred_test = model.predict(X_test)\n",
        "y_pred_test = list()\n",
        "for i in range(len(pred_test)):\n",
        "    y_pred_test.append((pred_test[i] == pred_test[i].max()).astype(int))"
      ],
      "metadata": {
        "id": "7TZHjQpezBnn"
      },
      "execution_count": null,
      "outputs": []
    },
    {
      "cell_type": "code",
      "source": [
        "y_pred_test = np.array(y_pred_test)\n",
        "print(classification_report(M_test,y_pred_test,target_names=list(class_names)))"
      ],
      "metadata": {
        "id": "tcp27_IEzJ87"
      },
      "execution_count": null,
      "outputs": []
    },
    {
      "cell_type": "code",
      "source": [
        "accuracy_score(M_test, y_pred_test)"
      ],
      "metadata": {
        "id": "7lWSaIlkzO1I"
      },
      "execution_count": null,
      "outputs": []
    },
    {
      "cell_type": "markdown",
      "source": [
        "# *Se selecciona el XGBoost con los hiperparámetros mostrados anteriormente, ya que no presenta sobreajuste y además, predice de una forma estable las 4 categorías* (Esto se aprecia en el classification_report())"
      ],
      "metadata": {
        "id": "ir8sw7l_RAg_"
      }
    },
    {
      "cell_type": "markdown",
      "source": [
        "# **Interpretación**\n",
        "*Se puede apreciar en la matriz de importancia que en el top aparecen tanto la edad como el MonthlyIncome, por lo tanto, son features significativas para el modelo*"
      ],
      "metadata": {
        "id": "aMAqk1YOP-iv"
      }
    },
    {
      "cell_type": "code",
      "source": [
        "explainer = shap.Explainer(xgb_grid.best_estimator_.predict, X_train)\n",
        "shap_values = explainer(X_train)"
      ],
      "metadata": {
        "id": "-BT-1U65SPnp"
      },
      "execution_count": null,
      "outputs": []
    },
    {
      "cell_type": "code",
      "source": [
        "shap.summary_plot(shap_values, plot_type = 'violin')"
      ],
      "metadata": {
        "id": "qwfvO5z0EoMA"
      },
      "execution_count": null,
      "outputs": []
    },
    {
      "cell_type": "markdown",
      "source": [
        "Con el shap se puede apreciar claramente que: \\\\\n",
        "1. Valores altos de MonthlyRate afectan negativamente el output, mientras que valores bajos lo afectan positivamente. \\\\\n",
        "2. Se apreciar también que con la reducción de dimensionalidad, trabajadores en el cluster 0 tienden a estar menos satisfechos que trabajadores que no pertenecen a este cluster. \\\\\n",
        "3. Además, es interesante también, ver como a mayor cantidad de años desde la última promoción (YearsSinceLastPromotion) la satisfacción es más baja."
      ],
      "metadata": {
        "id": "eQqx9zbzTaZc"
      }
    },
    {
      "cell_type": "markdown",
      "source": [
        "# **Evaluación**"
      ],
      "metadata": {
        "id": "WV4Uq1ttVDhf"
      }
    },
    {
      "cell_type": "markdown",
      "source": [
        "Los siguientes son los acc de los diferentes modelos:\n",
        "1. XGBoost -> train: 34.7% , test: 33.4%\n",
        "2. RandomForest -> train: 68.8%, test_28.7%\n",
        "3. DecisionTree -> train: 32.6%, test: 34.1%\n",
        "4. Red Neuronal -> train: 33.4%, test: 29.4%\n",
        "\n",
        "Y se selecciona el XGBoost como se comenta antes, ya que es el único que predice sobre las 4 variables, además de no presentar sobreajuste."
      ],
      "metadata": {
        "id": "hFVwjmJFVIH4"
      }
    },
    {
      "cell_type": "markdown",
      "source": [
        "Estrategias:\n",
        "1. Tomar algún tipo de iniciativa con los trabajadores de mayor edad, ya que esta variable, al incrementar afecta negativamente la satisfacción.\n",
        "2. Mayor promoción interna, antes de contratación de nuevos empleados.\n",
        "3. Permitir, de ser posible el trabajo remoto, ya que se aprecia que a mayor distancia del hogar, esto afecta negativamente."
      ],
      "metadata": {
        "id": "FUJt8uKxV7rp"
      }
    },
    {
      "cell_type": "markdown",
      "source": [
        "# **Estimación de nuevos empleados**"
      ],
      "metadata": {
        "id": "3EXUBUNRWciY"
      }
    },
    {
      "cell_type": "code",
      "source": [
        "X_new_model = X_base[X_base['NewEmployee'] == 1]"
      ],
      "metadata": {
        "id": "eBpVIZZZTWrE"
      },
      "execution_count": null,
      "outputs": []
    },
    {
      "cell_type": "code",
      "source": [
        "X_new_model = X_new_model.drop(columns=['NewEmployee'])"
      ],
      "metadata": {
        "id": "mzUp34BkWyOs"
      },
      "execution_count": null,
      "outputs": []
    },
    {
      "cell_type": "code",
      "source": [
        "pred_modelo_new = xgb_selecc.predict(X_new_model)"
      ],
      "metadata": {
        "id": "Djzqs3-rWrI-"
      },
      "execution_count": null,
      "outputs": []
    },
    {
      "cell_type": "code",
      "source": [
        "pred_modelo_new"
      ],
      "metadata": {
        "id": "_wvFQ6OJW1E5"
      },
      "execution_count": null,
      "outputs": []
    },
    {
      "cell_type": "markdown",
      "source": [
        "# **Bono: Ya se realizó anteriormente**"
      ],
      "metadata": {
        "id": "mlG3t5GtW5rb"
      }
    }
  ]
}