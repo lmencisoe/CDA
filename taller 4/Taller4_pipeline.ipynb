{
  "nbformat": 4,
  "nbformat_minor": 0,
  "metadata": {
    "colab": {
      "provenance": [],
      "authorship_tag": "ABX9TyN4zoub+W/ZeWfTFBCXCGaz",
      "include_colab_link": true
    },
    "kernelspec": {
      "name": "python3",
      "display_name": "Python 3"
    },
    "language_info": {
      "name": "python"
    },
    "accelerator": "GPU",
    "gpuClass": "standard"
  },
  "cells": [
    {
      "cell_type": "markdown",
      "metadata": {
        "id": "view-in-github",
        "colab_type": "text"
      },
      "source": [
        "<a href=\"https://colab.research.google.com/github/lmencisoe/CDA/blob/main/taller%204/Taller4_pipeline.ipynb\" target=\"_parent\"><img src=\"https://colab.research.google.com/assets/colab-badge.svg\" alt=\"Open In Colab\"/></a>"
      ]
    },
    {
      "cell_type": "markdown",
      "source": [
        "# Importa librerías"
      ],
      "metadata": {
        "id": "QNGd1isdXodn"
      }
    },
    {
      "cell_type": "code",
      "execution_count": 1,
      "metadata": {
        "colab": {
          "base_uri": "https://localhost:8080/"
        },
        "id": "SGuEetECoZWJ",
        "outputId": "04ea1ac6-eb3b-4823-a290-3a8b074f756c"
      },
      "outputs": [
        {
          "output_type": "stream",
          "name": "stdout",
          "text": [
            "Mounted at /content/drive\n"
          ]
        }
      ],
      "source": [
        "import pandas as pd\n",
        "import numpy as np\n",
        "import pandas as pd\n",
        "import matplotlib.pyplot as plt\n",
        "%matplotlib inline\n",
        "from pandas_profiling import ProfileReport\n",
        "from sklearn.linear_model import LogisticRegression\n",
        "from sklearn.neural_network import MLPClassifier\n",
        "from sklearn.svm import SVC\n",
        "import joblib\n",
        "from google.colab import drive\n",
        "drive.mount('/content/drive')\n",
        "from sklearn.ensemble import RandomForestClassifier\n",
        "from sklearn import metrics\n",
        "from sklearn.metrics import ConfusionMatrixDisplay, precision_score, recall_score, f1_score, auc\n",
        "from sklearn.preprocessing import StandardScaler\n",
        "from sklearn.preprocessing import OneHotEncoder\n",
        "from sklearn.impute import SimpleImputer\n",
        "from sklearn.compose import make_column_transformer\n",
        "from sklearn.model_selection import train_test_split\n",
        "from sklearn.compose import ColumnTransformer\n",
        "from sklearn.pipeline import Pipeline\n",
        "from sklearn.metrics import classification_report, confusion_matrix, accuracy_score\n",
        "from sklearn.model_selection import RandomizedSearchCV\n",
        "import tensorflow as tf\n",
        "import xgboost as xgb\n",
        "from xgboost import XGBClassifier\n",
        "from sklearn.tree import DecisionTreeClassifier, plot_tree\n",
        "from sklearn.feature_extraction import DictVectorizer\n",
        "from sklearn.pipeline import Pipeline\n",
        "from sklearn.model_selection import cross_val_score\n",
        "import seaborn as sns\n",
        "import warnings\n",
        "import re\n",
        "warnings.filterwarnings('ignore')"
      ]
    },
    {
      "cell_type": "markdown",
      "source": [
        "# Lee la data"
      ],
      "metadata": {
        "id": "Xf5yZWaIXsdt"
      }
    },
    {
      "cell_type": "code",
      "source": [
        "df_1 = pd.read_json('https://raw.githubusercontent.com/lmencisoe/CDA/main/taller%204/DataSet_Entrenamiento_v1.json')\n",
        "#df_2 = pd.read_json('https://raw.githubusercontent.com/lmencisoe/CDA/main/taller%204/DataSet_Entrenamiento_v2.json')"
      ],
      "metadata": {
        "id": "Imey27rtodE8"
      },
      "execution_count": 2,
      "outputs": []
    },
    {
      "cell_type": "markdown",
      "source": [
        "# Convierte a numérica la variable de Total Charges"
      ],
      "metadata": {
        "id": "HEfDT1vlXwrK"
      }
    },
    {
      "cell_type": "code",
      "source": [
        "df_1['TotalCharges'] = df_1['TotalCharges'].replace(\"\", 0)\n",
        "df_1['TotalCharges'] = df_1['TotalCharges'].astype(float)\n",
        "#df_2['TotalCharges'] = df_2['TotalCharges'].replace(\"\", 0)\n",
        "#df_2['TotalCharges'] = df_2['TotalCharges'].astype(float)"
      ],
      "metadata": {
        "id": "lxqpEH9l65DL"
      },
      "execution_count": 4,
      "outputs": []
    },
    {
      "cell_type": "markdown",
      "source": [
        "# Extrae la data entrenamiento 1 (X y Y)"
      ],
      "metadata": {
        "id": "WRPXAVIyYWf5"
      }
    },
    {
      "cell_type": "code",
      "source": [
        "X_total = df_1.drop(['Churn', 'customerID'], axis=1)\n",
        "df_1['target'] = np.where(df_1['Churn']!= 'Yes', 1, 0)\n",
        "Y_total = df_1['target'].astype(float)"
      ],
      "metadata": {
        "id": "ZzDWc_Qfomoh"
      },
      "execution_count": 5,
      "outputs": []
    },
    {
      "cell_type": "markdown",
      "source": [
        "# Train y test"
      ],
      "metadata": {
        "id": "Z6BrNlg0YcQV"
      }
    },
    {
      "cell_type": "code",
      "source": [
        "X_train, X_test, y_train, y_test = train_test_split(X_total, Y_total, test_size=0.2, random_state=2022)"
      ],
      "metadata": {
        "id": "yR1wzOVi_YW6"
      },
      "execution_count": 6,
      "outputs": []
    },
    {
      "cell_type": "markdown",
      "source": [
        "# Pipeline limpieza de datos"
      ],
      "metadata": {
        "id": "DPLss83TYfvO"
      }
    },
    {
      "cell_type": "code",
      "source": [
        "cat_features = X_total.select_dtypes(exclude=[\"float64\", \"int64\"]).columns.to_list()\n",
        "numeric_features = X_total.select_dtypes([\"float64\", \"int64\"]).columns.to_list()\n",
        "\n",
        "categorical_transformer = Pipeline(\n",
        "            steps=[\n",
        "                ('imputer', SimpleImputer(strategy='constant', fill_value='missing')),\n",
        "                ('encoder', OneHotEncoder())\n",
        "            ]\n",
        "        )    \n",
        "\n",
        "numeric_transformer = Pipeline(\n",
        "            steps=[\n",
        "                ('imputer', SimpleImputer(strategy='most_frequent')),\n",
        "                ('scaler', StandardScaler())\n",
        "            ]\n",
        "        )\n",
        "\n",
        "preprocessor = ColumnTransformer(\n",
        "            transformers=[\n",
        "                ('numerical', numeric_transformer, numeric_features),\n",
        "                ('categorical', categorical_transformer, cat_features)\n",
        "            ]\n",
        "        )"
      ],
      "metadata": {
        "id": "rTdOYFG7Un5a"
      },
      "execution_count": 7,
      "outputs": []
    },
    {
      "cell_type": "markdown",
      "source": [
        "# Pipeline XGBoost"
      ],
      "metadata": {
        "id": "_nUlYKFYYjkl"
      }
    },
    {
      "cell_type": "code",
      "source": [
        "xgb_pipeline = Pipeline(\n",
        "            [\n",
        "                (\"preprocessor\", preprocessor),\n",
        "                (\n",
        "                    \"classifier\", XGBClassifier(),\n",
        "                ),\n",
        "            ]\n",
        "        )"
      ],
      "metadata": {
        "id": "XSK9snvXw2sZ"
      },
      "execution_count": 8,
      "outputs": []
    },
    {
      "cell_type": "markdown",
      "source": [
        " # Hiperparámetros de XGBoost"
      ],
      "metadata": {
        "id": "OwDoVjgUYmde"
      }
    },
    {
      "cell_type": "code",
      "source": [
        "xgb_param_grid = {\n",
        "    'classifier__learning_rate': np.arange(0.05, 1, 0.05),\n",
        "    'classifier__max_depth': np.arange(3, 20, 1),\n",
        "    'classifier__n_estimators': np.arange(50, 200, 50),\n",
        "    'classifier__subsample': np.arange(0.05, 1, 0.05)\n",
        "}\n",
        "\n",
        "randomized_roc_auc_xgb = RandomizedSearchCV(estimator=xgb_pipeline, \n",
        "                                            param_distributions=xgb_param_grid,\n",
        "                                            n_iter=100,\n",
        "                                            scoring='roc_auc',\n",
        "                                            cv=3, \n",
        "                                            verbose=1)\n",
        "\n",
        "with tf.device('/device:GPU:0'): \n",
        "  randomized_roc_auc_xgb.fit(X_train, y_train)\n",
        "\n",
        "print('Best AUC: ', randomized_roc_auc_xgb.best_score_)\n",
        "#print('Estimator: ', randomized_roc_auc.best_estimator_)"
      ],
      "metadata": {
        "colab": {
          "base_uri": "https://localhost:8080/"
        },
        "id": "gxYIffhr9FPi",
        "outputId": "9377ca8e-aff0-404f-ca7e-be17fe7441e7"
      },
      "execution_count": 11,
      "outputs": [
        {
          "output_type": "stream",
          "name": "stdout",
          "text": [
            "Fitting 3 folds for each of 100 candidates, totalling 300 fits\n",
            "Best AUC:  0.8436272745515557\n"
          ]
        }
      ]
    },
    {
      "cell_type": "code",
      "source": [
        "randomized_roc_auc_xgb.best_params_"
      ],
      "metadata": {
        "colab": {
          "base_uri": "https://localhost:8080/"
        },
        "id": "am4jBp2qopRI",
        "outputId": "e8aa8adb-d028-4a99-b681-d6b402d2a26c"
      },
      "execution_count": 12,
      "outputs": [
        {
          "output_type": "execute_result",
          "data": {
            "text/plain": [
              "{'classifier__subsample': 0.2,\n",
              " 'classifier__n_estimators': 50,\n",
              " 'classifier__max_depth': 3,\n",
              " 'classifier__learning_rate': 0.05}"
            ]
          },
          "metadata": {},
          "execution_count": 12
        }
      ]
    },
    {
      "cell_type": "code",
      "source": [
        "joblib.dump(randomized_roc_auc_xgb.best_params_, \"/content/drive/MyDrive/CDA_taller4/xgb_best_hp.pkl\")"
      ],
      "metadata": {
        "colab": {
          "base_uri": "https://localhost:8080/"
        },
        "id": "slhYv5yr4hFv",
        "outputId": "395732a5-ee9c-4bda-b6e5-18c617bae72b"
      },
      "execution_count": 13,
      "outputs": [
        {
          "output_type": "execute_result",
          "data": {
            "text/plain": [
              "['/content/drive/MyDrive/CDA_taller4/xgb_best_hp.pkl']"
            ]
          },
          "metadata": {},
          "execution_count": 13
        }
      ]
    },
    {
      "cell_type": "markdown",
      "source": [
        "**AUC Test**"
      ],
      "metadata": {
        "id": "JTt6h7PHYreI"
      }
    },
    {
      "cell_type": "code",
      "source": [
        "predict_xgb = pd.Series(randomized_roc_auc_xgb.predict_proba(X_test)[:,1])\n",
        "metrics.roc_auc_score(y_test, predict_xgb)"
      ],
      "metadata": {
        "colab": {
          "base_uri": "https://localhost:8080/"
        },
        "id": "d3wtpUBUUq5t",
        "outputId": "ffb7c977-caf9-4a75-f0cb-fc94dd3d4eda"
      },
      "execution_count": 29,
      "outputs": [
        {
          "output_type": "execute_result",
          "data": {
            "text/plain": [
              "0.8453394381121484"
            ]
          },
          "metadata": {},
          "execution_count": 29
        }
      ]
    },
    {
      "cell_type": "code",
      "source": [
        "y_pred_train = randomized_roc_auc_xgb.predict(X_train)\n",
        "print(classification_report(y_train, y_pred_train))"
      ],
      "metadata": {
        "colab": {
          "base_uri": "https://localhost:8080/"
        },
        "id": "ZhDuRXDCbbq8",
        "outputId": "54b920f0-79ff-4f6c-d7a0-1ded958337aa"
      },
      "execution_count": 30,
      "outputs": [
        {
          "output_type": "stream",
          "name": "stdout",
          "text": [
            "              precision    recall  f1-score   support\n",
            "\n",
            "         0.0       0.69      0.50      0.58      1276\n",
            "         1.0       0.84      0.92      0.88      3524\n",
            "\n",
            "    accuracy                           0.81      4800\n",
            "   macro avg       0.76      0.71      0.73      4800\n",
            "weighted avg       0.80      0.81      0.80      4800\n",
            "\n"
          ]
        }
      ]
    },
    {
      "cell_type": "code",
      "source": [
        "y_pred_test = randomized_roc_auc_xgb.predict(X_test)\n",
        "print(classification_report(y_test, y_pred_test))"
      ],
      "metadata": {
        "colab": {
          "base_uri": "https://localhost:8080/"
        },
        "id": "IfKpV4h2bxd6",
        "outputId": "bdda188f-9dae-40e4-b250-dcff080a7806"
      },
      "execution_count": 31,
      "outputs": [
        {
          "output_type": "stream",
          "name": "stdout",
          "text": [
            "              precision    recall  f1-score   support\n",
            "\n",
            "         0.0       0.68      0.47      0.55       316\n",
            "         1.0       0.83      0.92      0.87       884\n",
            "\n",
            "    accuracy                           0.80      1200\n",
            "   macro avg       0.76      0.69      0.71      1200\n",
            "weighted avg       0.79      0.80      0.79      1200\n",
            "\n"
          ]
        }
      ]
    },
    {
      "cell_type": "markdown",
      "source": [
        "# Pipeline Decision Tree"
      ],
      "metadata": {
        "id": "eqX8yu0KY1Wi"
      }
    },
    {
      "cell_type": "code",
      "source": [
        "dt_pipeline = Pipeline(\n",
        "            [\n",
        "                (\"preprocessor\", preprocessor),\n",
        "                (\n",
        "                    \"classifier\", DecisionTreeClassifier(),\n",
        "                ),\n",
        "            ]\n",
        "        )"
      ],
      "metadata": {
        "id": "3GN8_ZH8DnT8"
      },
      "execution_count": 13,
      "outputs": []
    },
    {
      "cell_type": "markdown",
      "source": [
        "# Hiperparámetros de Decision Tree"
      ],
      "metadata": {
        "id": "Za9upB4_Y5rT"
      }
    },
    {
      "cell_type": "code",
      "source": [
        "dt_param_grid = {\n",
        "    'classifier__max_depth': np.arange(3, 10, 1),\n",
        "    'classifier__max_features': ['auto', 'sqrt', 'log2'],\n",
        "    'classifier__min_samples_split': np.arange(5, 50, 5)\n",
        "}\n",
        "\n",
        "# Perform RandomizedSearchCV\n",
        "randomized_roc_auc_dt = RandomizedSearchCV(estimator= dt_pipeline, \n",
        "                                            param_distributions=dt_param_grid,\n",
        "                                            n_iter=50,\n",
        "                                            scoring='roc_auc',\n",
        "                                            cv=3, \n",
        "                                            verbose=1)\n",
        "\n",
        "# Fit the estimator\n",
        "with tf.device('/device:GPU:0'): \n",
        "  randomized_roc_auc_dt.fit(X_train, y_train)\n",
        "\n",
        "# Compute metrics\n",
        "print('Best AUC: ', randomized_roc_auc_dt.best_score_)\n",
        "#print('Estimator: ', randomized_roc_auc.best_estimator_)"
      ],
      "metadata": {
        "colab": {
          "base_uri": "https://localhost:8080/"
        },
        "id": "2Vfee6ghJE0P",
        "outputId": "9f8057fa-2b42-4fa6-c991-a64285811d63"
      },
      "execution_count": 14,
      "outputs": [
        {
          "output_type": "stream",
          "name": "stdout",
          "text": [
            "Fitting 3 folds for each of 50 candidates, totalling 150 fits\n",
            "Best AUC:  0.808573046691763\n"
          ]
        }
      ]
    },
    {
      "cell_type": "markdown",
      "source": [
        "**AUC Test**"
      ],
      "metadata": {
        "id": "ydrskIKwZAMS"
      }
    },
    {
      "cell_type": "code",
      "source": [
        "predict = pd.Series(randomized_roc_auc_dt.predict_proba(X_test)[:,1])\n",
        "metrics.roc_auc_score(y_test, predict)"
      ],
      "metadata": {
        "colab": {
          "base_uri": "https://localhost:8080/"
        },
        "id": "rNPs7PExUQpO",
        "outputId": "026fe6c7-a444-49b7-d477-b4ec7247bcc3"
      },
      "execution_count": 15,
      "outputs": [
        {
          "output_type": "execute_result",
          "data": {
            "text/plain": [
              "0.8176030270920442"
            ]
          },
          "metadata": {},
          "execution_count": 15
        }
      ]
    },
    {
      "cell_type": "code",
      "source": [
        "y_pred_train = randomized_roc_auc_dt.predict(X_train)\n",
        "print(classification_report(y_train, y_pred_train))"
      ],
      "metadata": {
        "colab": {
          "base_uri": "https://localhost:8080/"
        },
        "id": "VbWVpy2kb7zg",
        "outputId": "f4e3bbce-3203-490f-9bc8-ff0f3a9b48c7"
      },
      "execution_count": 16,
      "outputs": [
        {
          "output_type": "stream",
          "name": "stdout",
          "text": [
            "              precision    recall  f1-score   support\n",
            "\n",
            "         0.0       0.68      0.46      0.55      1276\n",
            "         1.0       0.83      0.92      0.87      3524\n",
            "\n",
            "    accuracy                           0.80      4800\n",
            "   macro avg       0.75      0.69      0.71      4800\n",
            "weighted avg       0.79      0.80      0.79      4800\n",
            "\n"
          ]
        }
      ]
    },
    {
      "cell_type": "code",
      "source": [
        "y_pred_test = randomized_roc_auc_dt.predict(X_test)\n",
        "print(classification_report(y_test, y_pred_test))"
      ],
      "metadata": {
        "colab": {
          "base_uri": "https://localhost:8080/"
        },
        "id": "loxuCcbPb8YR",
        "outputId": "adcee56a-9643-45cf-c11a-094d87c2bf05"
      },
      "execution_count": 17,
      "outputs": [
        {
          "output_type": "stream",
          "name": "stdout",
          "text": [
            "              precision    recall  f1-score   support\n",
            "\n",
            "         0.0       0.67      0.45      0.53       316\n",
            "         1.0       0.82      0.92      0.87       884\n",
            "\n",
            "    accuracy                           0.80      1200\n",
            "   macro avg       0.74      0.68      0.70      1200\n",
            "weighted avg       0.78      0.80      0.78      1200\n",
            "\n"
          ]
        }
      ]
    },
    {
      "cell_type": "markdown",
      "source": [
        "# Pipeline del Random Forest"
      ],
      "metadata": {
        "id": "I49KZLLbaOnX"
      }
    },
    {
      "cell_type": "code",
      "source": [
        "rf_pipeline = Pipeline(\n",
        "            [\n",
        "                (\"preprocessor\", preprocessor),\n",
        "                (\n",
        "                    \"classifier\", RandomForestClassifier(),\n",
        "                ),\n",
        "            ]\n",
        "        )"
      ],
      "metadata": {
        "id": "-Y-yqCgEaSGX"
      },
      "execution_count": 18,
      "outputs": []
    },
    {
      "cell_type": "markdown",
      "source": [
        "# Hiperparámetros del Random Forest"
      ],
      "metadata": {
        "id": "h0zn4hA-ZwQ7"
      }
    },
    {
      "cell_type": "code",
      "source": [
        "rf_param_grid = {\n",
        "    'classifier__max_depth': np.arange(3, 10, 1),\n",
        "    'classifier__max_features': ['auto', 'sqrt', 'log2'],\n",
        "    'classifier__n_estimators': np.arange(5, 100, 5)\n",
        "}\n",
        "\n",
        "# Perform RandomizedSearchCV\n",
        "randomized_roc_auc_rf = RandomizedSearchCV(estimator= rf_pipeline, \n",
        "                                            param_distributions=rf_param_grid,\n",
        "                                            n_iter=50,\n",
        "                                            scoring='roc_auc',\n",
        "                                            cv=3, \n",
        "                                            verbose=1)\n",
        "\n",
        "# Fit the estimator\n",
        "with tf.device('/device:GPU:0'): \n",
        "  randomized_roc_auc_rf.fit(X_train, y_train)\n",
        "\n",
        "# Compute metrics\n",
        "print('Best AUC: ', randomized_roc_auc_rf.best_score_)\n",
        "#print('Estimator: ', randomized_roc_auc.best_estimator_)"
      ],
      "metadata": {
        "colab": {
          "base_uri": "https://localhost:8080/"
        },
        "id": "IcsHLRT3aMkb",
        "outputId": "e1ae560b-f2f0-499e-b389-684fe0123545"
      },
      "execution_count": 19,
      "outputs": [
        {
          "output_type": "stream",
          "name": "stdout",
          "text": [
            "Fitting 3 folds for each of 50 candidates, totalling 150 fits\n",
            "Best AUC:  0.8417116844844758\n"
          ]
        }
      ]
    },
    {
      "cell_type": "code",
      "source": [
        "predict = pd.Series(randomized_roc_auc_rf.predict_proba(X_test)[:,1])\n",
        "metrics.roc_auc_score(y_test, predict)"
      ],
      "metadata": {
        "colab": {
          "base_uri": "https://localhost:8080/"
        },
        "id": "9Bgm3PBSbLFx",
        "outputId": "53e34290-1c68-421b-9a86-017fb1ce7e1d"
      },
      "execution_count": 20,
      "outputs": [
        {
          "output_type": "execute_result",
          "data": {
            "text/plain": [
              "0.8390962397617274"
            ]
          },
          "metadata": {},
          "execution_count": 20
        }
      ]
    },
    {
      "cell_type": "code",
      "source": [
        "y_pred_train = randomized_roc_auc_rf.predict(X_train)\n",
        "print(classification_report(y_train, y_pred_train))"
      ],
      "metadata": {
        "colab": {
          "base_uri": "https://localhost:8080/"
        },
        "id": "yOBNnsxNa9_b",
        "outputId": "c7d15b16-f41e-440c-ce80-95b25a712db2"
      },
      "execution_count": 21,
      "outputs": [
        {
          "output_type": "stream",
          "name": "stdout",
          "text": [
            "              precision    recall  f1-score   support\n",
            "\n",
            "         0.0       0.70      0.48      0.57      1276\n",
            "         1.0       0.83      0.93      0.88      3524\n",
            "\n",
            "    accuracy                           0.81      4800\n",
            "   macro avg       0.77      0.70      0.72      4800\n",
            "weighted avg       0.80      0.81      0.80      4800\n",
            "\n"
          ]
        }
      ]
    },
    {
      "cell_type": "code",
      "source": [
        "y_pred_test = randomized_roc_auc_rf.predict(X_test)\n",
        "print(classification_report(y_test, y_pred_test))"
      ],
      "metadata": {
        "colab": {
          "base_uri": "https://localhost:8080/"
        },
        "id": "XuZZXjZScLut",
        "outputId": "963dfe6f-52e3-446a-bc8a-819f9f7cc7c2"
      },
      "execution_count": 22,
      "outputs": [
        {
          "output_type": "stream",
          "name": "stdout",
          "text": [
            "              precision    recall  f1-score   support\n",
            "\n",
            "         0.0       0.68      0.45      0.54       316\n",
            "         1.0       0.83      0.93      0.87       884\n",
            "\n",
            "    accuracy                           0.80      1200\n",
            "   macro avg       0.75      0.69      0.71      1200\n",
            "weighted avg       0.79      0.80      0.79      1200\n",
            "\n"
          ]
        }
      ]
    },
    {
      "cell_type": "markdown",
      "source": [
        "# **Guarda el mejor modelo**"
      ],
      "metadata": {
        "id": "m8SZr4yjpOQn"
      }
    },
    {
      "cell_type": "code",
      "source": [
        "joblib.dump(randomized_roc_auc_xgb.best_estimator_, '/content/drive/MyDrive/CDA_taller4/pipeline_seleccionado.pkl')"
      ],
      "metadata": {
        "colab": {
          "base_uri": "https://localhost:8080/"
        },
        "id": "_V3Yx-o8tHpd",
        "outputId": "0693540c-4f68-470c-cbc2-1a82d941cc76"
      },
      "execution_count": 41,
      "outputs": [
        {
          "output_type": "execute_result",
          "data": {
            "text/plain": [
              "['/content/drive/MyDrive/CDA_taller4/pipeline_seleccionado.pkl']"
            ]
          },
          "metadata": {},
          "execution_count": 41
        }
      ]
    },
    {
      "cell_type": "code",
      "source": [],
      "metadata": {
        "id": "d7dNJjNHtKy8"
      },
      "execution_count": null,
      "outputs": []
    }
  ]
}