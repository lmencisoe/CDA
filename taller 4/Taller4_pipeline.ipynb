{
  "nbformat": 4,
  "nbformat_minor": 0,
  "metadata": {
    "colab": {
      "provenance": [],
      "authorship_tag": "ABX9TyOC9onvLcne6sD2/SOl6DUk",
      "include_colab_link": true
    },
    "kernelspec": {
      "name": "python3",
      "display_name": "Python 3"
    },
    "language_info": {
      "name": "python"
    },
    "accelerator": "GPU",
    "gpuClass": "standard"
  },
  "cells": [
    {
      "cell_type": "markdown",
      "metadata": {
        "id": "view-in-github",
        "colab_type": "text"
      },
      "source": [
        "<a href=\"https://colab.research.google.com/github/lmencisoe/CDA/blob/main/taller%204/Taller4_pipeline.ipynb\" target=\"_parent\"><img src=\"https://colab.research.google.com/assets/colab-badge.svg\" alt=\"Open In Colab\"/></a>"
      ]
    },
    {
      "cell_type": "markdown",
      "source": [
        "# Importa librerías"
      ],
      "metadata": {
        "id": "QNGd1isdXodn"
      }
    },
    {
      "cell_type": "code",
      "execution_count": 87,
      "metadata": {
        "id": "SGuEetECoZWJ"
      },
      "outputs": [],
      "source": [
        "import pandas as pd\n",
        "import numpy as np\n",
        "import pandas as pd\n",
        "import matplotlib.pyplot as plt\n",
        "%matplotlib inline\n",
        "from pandas_profiling import ProfileReport\n",
        "from sklearn.linear_model import LogisticRegression\n",
        "from sklearn.neural_network import MLPClassifier\n",
        "from sklearn.svm import SVC\n",
        "from sklearn.ensemble import RandomForestClassifier\n",
        "from sklearn import metrics\n",
        "from sklearn.metrics import ConfusionMatrixDisplay, precision_score, recall_score, f1_score, auc\n",
        "from sklearn.preprocessing import StandardScaler\n",
        "from sklearn.preprocessing import OneHotEncoder\n",
        "from sklearn.impute import SimpleImputer\n",
        "from sklearn.compose import make_column_transformer\n",
        "from sklearn.model_selection import train_test_split\n",
        "from sklearn.compose import ColumnTransformer\n",
        "from sklearn.pipeline import Pipeline\n",
        "from sklearn.metrics import classification_report, confusion_matrix, accuracy_score\n",
        "from sklearn.model_selection import RandomizedSearchCV\n",
        "import tensorflow as tf\n",
        "import xgboost as xgb\n",
        "from xgboost import XGBClassifier\n",
        "from sklearn.tree import DecisionTreeClassifier, plot_tree\n",
        "from sklearn.feature_extraction import DictVectorizer\n",
        "from sklearn.pipeline import Pipeline\n",
        "from sklearn.model_selection import cross_val_score\n",
        "import seaborn as sns\n",
        "import warnings\n",
        "import re\n",
        "warnings.filterwarnings('ignore')"
      ]
    },
    {
      "cell_type": "markdown",
      "source": [
        "# Lee la data"
      ],
      "metadata": {
        "id": "Xf5yZWaIXsdt"
      }
    },
    {
      "cell_type": "code",
      "source": [
        "df_1 = pd.read_json('https://raw.githubusercontent.com/lmencisoe/CDA/main/taller%204/DataSet_Entrenamiento_v1.json')\n",
        "df_2 = pd.read_json('https://raw.githubusercontent.com/lmencisoe/CDA/main/taller%204/DataSet_Entrenamiento_v2.json')"
      ],
      "metadata": {
        "id": "Imey27rtodE8"
      },
      "execution_count": 13,
      "outputs": []
    },
    {
      "cell_type": "markdown",
      "source": [
        "# Convierte a numérica la variable de Total Charges"
      ],
      "metadata": {
        "id": "HEfDT1vlXwrK"
      }
    },
    {
      "cell_type": "code",
      "source": [
        "df_1['TotalCharges'] = df_1['TotalCharges'].replace(\"\", 0)\n",
        "df_1['TotalCharges'] = df_1['TotalCharges'].astype(float)\n",
        "df_2['TotalCharges'] = df_2['TotalCharges'].replace(\"\", 0)\n",
        "df_2['TotalCharges'] = df_2['TotalCharges'].astype(float)"
      ],
      "metadata": {
        "id": "lxqpEH9l65DL"
      },
      "execution_count": 78,
      "outputs": []
    },
    {
      "cell_type": "markdown",
      "source": [
        "# Extrae la data entrenamiento 1 (X y Y)"
      ],
      "metadata": {
        "id": "WRPXAVIyYWf5"
      }
    },
    {
      "cell_type": "code",
      "source": [
        "X_total = df_1.drop(['Churn', 'customerID'], axis=1)\n",
        "df_1['target'] = np.where(df_1['Churn']!= 'Yes', 1, 0)\n",
        "Y_total = df_1['target'].astype(float)"
      ],
      "metadata": {
        "id": "ZzDWc_Qfomoh"
      },
      "execution_count": 15,
      "outputs": []
    },
    {
      "cell_type": "markdown",
      "source": [
        "# Train y test"
      ],
      "metadata": {
        "id": "Z6BrNlg0YcQV"
      }
    },
    {
      "cell_type": "code",
      "source": [
        "X_train, X_test, y_train, y_test = train_test_split(X_total, Y_total, test_size=0.2, random_state=2022)"
      ],
      "metadata": {
        "id": "yR1wzOVi_YW6"
      },
      "execution_count": 17,
      "outputs": []
    },
    {
      "cell_type": "markdown",
      "source": [
        "# Pipeline limpieza de datos"
      ],
      "metadata": {
        "id": "DPLss83TYfvO"
      }
    },
    {
      "cell_type": "code",
      "source": [
        "cat_features = X_total.select_dtypes(exclude=[\"float64\", \"int64\"]).columns.to_list()\n",
        "numeric_features = X_total.select_dtypes([\"float64\", \"int64\"]).columns.to_list()\n",
        "\n",
        "categorical_transformer = Pipeline(\n",
        "            steps=[\n",
        "                ('imputer', SimpleImputer(strategy='constant', fill_value='missing')),\n",
        "                ('encoder', OneHotEncoder())\n",
        "            ]\n",
        "        )    \n",
        "\n",
        "numeric_transformer = Pipeline(\n",
        "            steps=[\n",
        "                ('imputer', SimpleImputer(strategy='most_frequent')),\n",
        "                ('scaler', StandardScaler())\n",
        "            ]\n",
        "        )\n",
        "\n",
        "preprocessor = ColumnTransformer(\n",
        "            transformers=[\n",
        "                ('numerical', numeric_transformer, numeric_features),\n",
        "                ('categorical', categorical_transformer, cat_features)\n",
        "            ]\n",
        "        )"
      ],
      "metadata": {
        "id": "rTdOYFG7Un5a"
      },
      "execution_count": 37,
      "outputs": []
    },
    {
      "cell_type": "markdown",
      "source": [
        "# Pipeline XGBoost"
      ],
      "metadata": {
        "id": "_nUlYKFYYjkl"
      }
    },
    {
      "cell_type": "code",
      "source": [
        "xgb_pipeline = Pipeline(\n",
        "            [\n",
        "                (\"preprocessor\", preprocessor),\n",
        "                (\n",
        "                    \"classifier\", XGBClassifier(),\n",
        "                ),\n",
        "            ]\n",
        "        )"
      ],
      "metadata": {
        "id": "XSK9snvXw2sZ"
      },
      "execution_count": 27,
      "outputs": []
    },
    {
      "cell_type": "markdown",
      "source": [
        " # Hiperparámetros de XGBoost"
      ],
      "metadata": {
        "id": "OwDoVjgUYmde"
      }
    },
    {
      "cell_type": "code",
      "source": [
        "xgb_param_grid = {\n",
        "    'classifier__learning_rate': np.arange(0.05, 1, 0.05),\n",
        "    'classifier__max_depth': np.arange(3, 10, 1),\n",
        "    'classifier__n_estimators': np.arange(50, 200, 50)\n",
        "}\n",
        "\n",
        "randomized_roc_auc_xgb = RandomizedSearchCV(estimator=xgb_pipeline, \n",
        "                                            param_distributions=xgb_param_grid,\n",
        "                                            n_iter=50,\n",
        "                                            scoring='roc_auc',\n",
        "                                            cv=3, \n",
        "                                            verbose=1)\n",
        "\n",
        "with tf.device('/device:GPU:0'): \n",
        "  randomized_roc_auc_xgb.fit(X_train, y_train)\n",
        "  \n",
        "print('Best AUC: ', randomized_roc_auc.best_score_)\n",
        "#print('Estimator: ', randomized_roc_auc.best_estimator_)"
      ],
      "metadata": {
        "colab": {
          "base_uri": "https://localhost:8080/"
        },
        "id": "gxYIffhr9FPi",
        "outputId": "d9698f6f-e59a-4eee-b646-66f9f083279f"
      },
      "execution_count": 76,
      "outputs": [
        {
          "output_type": "stream",
          "name": "stdout",
          "text": [
            "Fitting 3 folds for each of 50 candidates, totalling 150 fits\n",
            "Score:  0.840700712356648\n"
          ]
        }
      ]
    },
    {
      "cell_type": "markdown",
      "source": [
        "**AUC Test**"
      ],
      "metadata": {
        "id": "JTt6h7PHYreI"
      }
    },
    {
      "cell_type": "code",
      "source": [
        "predict_xgb = pd.Series(randomized_roc_auc_xgb.predict_proba(X_test)[:,1])\n",
        "metrics.roc_auc_score(y_test, predict_xgb)"
      ],
      "metadata": {
        "colab": {
          "base_uri": "https://localhost:8080/"
        },
        "id": "d3wtpUBUUq5t",
        "outputId": "7a2010c2-3364-4260-8b37-79e1417866ca"
      },
      "execution_count": 77,
      "outputs": [
        {
          "output_type": "execute_result",
          "data": {
            "text/plain": [
              "0.841886705996907"
            ]
          },
          "metadata": {},
          "execution_count": 77
        }
      ]
    },
    {
      "cell_type": "code",
      "source": [
        "y_pred_train = randomized_roc_auc_xgb.predict(X_train)\n",
        "print(classification_report(y_train, y_pred_train))"
      ],
      "metadata": {
        "colab": {
          "base_uri": "https://localhost:8080/"
        },
        "id": "ZhDuRXDCbbq8",
        "outputId": "ebf8d5ad-1c2c-47c3-de2d-d2c890e226a2"
      },
      "execution_count": 89,
      "outputs": [
        {
          "output_type": "stream",
          "name": "stdout",
          "text": [
            "              precision    recall  f1-score   support\n",
            "\n",
            "         0.0       0.71      0.57      0.63      1276\n",
            "         1.0       0.86      0.92      0.88      3524\n",
            "\n",
            "    accuracy                           0.82      4800\n",
            "   macro avg       0.78      0.74      0.76      4800\n",
            "weighted avg       0.82      0.82      0.82      4800\n",
            "\n"
          ]
        }
      ]
    },
    {
      "cell_type": "code",
      "source": [
        "y_pred_test = randomized_roc_auc_xgb.predict(X_test)\n",
        "print(classification_report(y_test, y_pred_test))"
      ],
      "metadata": {
        "colab": {
          "base_uri": "https://localhost:8080/"
        },
        "id": "IfKpV4h2bxd6",
        "outputId": "46830547-ab72-453e-8caf-150556093bda"
      },
      "execution_count": 90,
      "outputs": [
        {
          "output_type": "stream",
          "name": "stdout",
          "text": [
            "              precision    recall  f1-score   support\n",
            "\n",
            "         0.0       0.67      0.52      0.58       316\n",
            "         1.0       0.84      0.91      0.87       884\n",
            "\n",
            "    accuracy                           0.81      1200\n",
            "   macro avg       0.75      0.71      0.73      1200\n",
            "weighted avg       0.79      0.81      0.80      1200\n",
            "\n"
          ]
        }
      ]
    },
    {
      "cell_type": "markdown",
      "source": [
        "# Pipeline Decision Tree"
      ],
      "metadata": {
        "id": "eqX8yu0KY1Wi"
      }
    },
    {
      "cell_type": "code",
      "source": [
        "dt_pipeline = Pipeline(\n",
        "            [\n",
        "                (\"preprocessor\", preprocessor),\n",
        "                (\n",
        "                    \"classifier\", DecisionTreeClassifier(),\n",
        "                ),\n",
        "            ]\n",
        "        )"
      ],
      "metadata": {
        "id": "3GN8_ZH8DnT8"
      },
      "execution_count": 39,
      "outputs": []
    },
    {
      "cell_type": "markdown",
      "source": [
        "# Hiperparámetros de Decision Tree"
      ],
      "metadata": {
        "id": "Za9upB4_Y5rT"
      }
    },
    {
      "cell_type": "code",
      "source": [
        "dt_param_grid = {\n",
        "    'classifier__max_depth': np.arange(3, 10, 1),\n",
        "    'classifier__max_features': ['auto', 'sqrt', 'log2'],\n",
        "    'classifier__min_samples_split': np.arange(5, 50, 5)\n",
        "}\n",
        "\n",
        "# Perform RandomizedSearchCV\n",
        "randomized_roc_auc_dt = RandomizedSearchCV(estimator= dt_pipeline, \n",
        "                                            param_distributions=dt_param_grid,\n",
        "                                            n_iter=50,\n",
        "                                            scoring='roc_auc',\n",
        "                                            cv=3, \n",
        "                                            verbose=1)\n",
        "\n",
        "# Fit the estimator\n",
        "with tf.device('/device:GPU:0'): \n",
        "  randomized_roc_auc_dt.fit(X_train, y_train)\n",
        "\n",
        "# Compute metrics\n",
        "print('Best AUC: ', randomized_roc_auc_dt.best_score_)\n",
        "#print('Estimator: ', randomized_roc_auc.best_estimator_)"
      ],
      "metadata": {
        "colab": {
          "base_uri": "https://localhost:8080/"
        },
        "id": "2Vfee6ghJE0P",
        "outputId": "9e48fa67-8e1a-4b83-958c-24fe15103084"
      },
      "execution_count": 81,
      "outputs": [
        {
          "output_type": "stream",
          "name": "stdout",
          "text": [
            "Fitting 3 folds for each of 50 candidates, totalling 150 fits\n",
            "Best AUC:  0.814135705593073\n"
          ]
        }
      ]
    },
    {
      "cell_type": "markdown",
      "source": [
        "**AUC Test**"
      ],
      "metadata": {
        "id": "ydrskIKwZAMS"
      }
    },
    {
      "cell_type": "code",
      "source": [
        "predict = pd.Series(randomized_roc_auc_dt.predict_proba(X_test)[:,1])\n",
        "metrics.roc_auc_score(y_test, predict)"
      ],
      "metadata": {
        "colab": {
          "base_uri": "https://localhost:8080/"
        },
        "id": "rNPs7PExUQpO",
        "outputId": "0e2c9eef-d204-41d5-8ed4-bd02c613ee53"
      },
      "execution_count": 75,
      "outputs": [
        {
          "output_type": "execute_result",
          "data": {
            "text/plain": [
              "0.8107297812016725"
            ]
          },
          "metadata": {},
          "execution_count": 75
        }
      ]
    },
    {
      "cell_type": "code",
      "source": [
        "y_pred_train = randomized_roc_auc_dt.predict(X_train)\n",
        "print(classification_report(y_train, y_pred_train))"
      ],
      "metadata": {
        "colab": {
          "base_uri": "https://localhost:8080/"
        },
        "id": "VbWVpy2kb7zg",
        "outputId": "0a3ada7a-1f3f-4cff-8238-f19f8482073c"
      },
      "execution_count": 91,
      "outputs": [
        {
          "output_type": "stream",
          "name": "stdout",
          "text": [
            "              precision    recall  f1-score   support\n",
            "\n",
            "         0.0       0.66      0.43      0.52      1276\n",
            "         1.0       0.82      0.92      0.87      3524\n",
            "\n",
            "    accuracy                           0.79      4800\n",
            "   macro avg       0.74      0.68      0.69      4800\n",
            "weighted avg       0.78      0.79      0.77      4800\n",
            "\n"
          ]
        }
      ]
    },
    {
      "cell_type": "code",
      "source": [
        "y_pred_test = randomized_roc_auc_dt.predict(X_test)\n",
        "print(classification_report(y_test, y_pred_test))"
      ],
      "metadata": {
        "colab": {
          "base_uri": "https://localhost:8080/"
        },
        "id": "loxuCcbPb8YR",
        "outputId": "7b329e04-acf0-4b23-a6fe-36b596f8fd2c"
      },
      "execution_count": 92,
      "outputs": [
        {
          "output_type": "stream",
          "name": "stdout",
          "text": [
            "              precision    recall  f1-score   support\n",
            "\n",
            "         0.0       0.68      0.41      0.51       316\n",
            "         1.0       0.82      0.93      0.87       884\n",
            "\n",
            "    accuracy                           0.79      1200\n",
            "   macro avg       0.75      0.67      0.69      1200\n",
            "weighted avg       0.78      0.79      0.77      1200\n",
            "\n"
          ]
        }
      ]
    },
    {
      "cell_type": "markdown",
      "source": [
        "# Pipeline del Random Forest"
      ],
      "metadata": {
        "id": "I49KZLLbaOnX"
      }
    },
    {
      "cell_type": "code",
      "source": [
        "rf_pipeline = Pipeline(\n",
        "            [\n",
        "                (\"preprocessor\", preprocessor),\n",
        "                (\n",
        "                    \"classifier\", RandomForestClassifier(),\n",
        "                ),\n",
        "            ]\n",
        "        )"
      ],
      "metadata": {
        "id": "-Y-yqCgEaSGX"
      },
      "execution_count": 80,
      "outputs": []
    },
    {
      "cell_type": "markdown",
      "source": [
        "# Hiperparámetros del Random Forest"
      ],
      "metadata": {
        "id": "h0zn4hA-ZwQ7"
      }
    },
    {
      "cell_type": "code",
      "source": [
        "rf_param_grid = {\n",
        "    'classifier__max_depth': np.arange(3, 10, 1),\n",
        "    'classifier__max_features': ['auto', 'sqrt', 'log2'],\n",
        "    'classifier__n_estimators': np.arange(5, 100, 5)\n",
        "}\n",
        "\n",
        "# Perform RandomizedSearchCV\n",
        "randomized_roc_auc_rf = RandomizedSearchCV(estimator= rf_pipeline, \n",
        "                                            param_distributions=rf_param_grid,\n",
        "                                            n_iter=50,\n",
        "                                            scoring='roc_auc',\n",
        "                                            cv=3, \n",
        "                                            verbose=1)\n",
        "\n",
        "# Fit the estimator\n",
        "with tf.device('/device:GPU:0'): \n",
        "  randomized_roc_auc_rf.fit(X_train, y_train)\n",
        "\n",
        "# Compute metrics\n",
        "print('Best AUC: ', randomized_roc_auc_rf.best_score_)\n",
        "#print('Estimator: ', randomized_roc_auc.best_estimator_)"
      ],
      "metadata": {
        "colab": {
          "base_uri": "https://localhost:8080/"
        },
        "id": "IcsHLRT3aMkb",
        "outputId": "0d9272c0-3075-4754-dcb2-bcb9ec3bb4fd"
      },
      "execution_count": 83,
      "outputs": [
        {
          "output_type": "stream",
          "name": "stdout",
          "text": [
            "Fitting 3 folds for each of 50 candidates, totalling 150 fits\n",
            "Best AUC:  0.8408732683249079\n"
          ]
        }
      ]
    },
    {
      "cell_type": "code",
      "source": [
        "predict = pd.Series(randomized_roc_auc_rf.predict_proba(X_test)[:,1])\n",
        "metrics.roc_auc_score(y_test, predict)"
      ],
      "metadata": {
        "colab": {
          "base_uri": "https://localhost:8080/"
        },
        "id": "9Bgm3PBSbLFx",
        "outputId": "a9c56958-f38a-44f9-8212-13f5850389b9"
      },
      "execution_count": 84,
      "outputs": [
        {
          "output_type": "execute_result",
          "data": {
            "text/plain": [
              "0.8388456526719744"
            ]
          },
          "metadata": {},
          "execution_count": 84
        }
      ]
    },
    {
      "cell_type": "code",
      "source": [
        "y_pred_train = randomized_roc_auc_rf.predict(X_train)\n",
        "print(classification_report(y_train, y_pred_train))"
      ],
      "metadata": {
        "colab": {
          "base_uri": "https://localhost:8080/"
        },
        "id": "yOBNnsxNa9_b",
        "outputId": "7978e8d3-f3cc-4fc5-e1e6-6c0fa5345ca9"
      },
      "execution_count": 93,
      "outputs": [
        {
          "output_type": "stream",
          "name": "stdout",
          "text": [
            "              precision    recall  f1-score   support\n",
            "\n",
            "         0.0       0.72      0.54      0.62      1276\n",
            "         1.0       0.85      0.92      0.88      3524\n",
            "\n",
            "    accuracy                           0.82      4800\n",
            "   macro avg       0.78      0.73      0.75      4800\n",
            "weighted avg       0.81      0.82      0.81      4800\n",
            "\n"
          ]
        }
      ]
    },
    {
      "cell_type": "code",
      "source": [
        "y_pred_test = randomized_roc_auc_rf.predict(X_test)\n",
        "print(classification_report(y_test, y_pred_test))"
      ],
      "metadata": {
        "colab": {
          "base_uri": "https://localhost:8080/"
        },
        "id": "XuZZXjZScLut",
        "outputId": "044836a3-618c-453c-cf01-230ed3bf10d0"
      },
      "execution_count": 94,
      "outputs": [
        {
          "output_type": "stream",
          "name": "stdout",
          "text": [
            "              precision    recall  f1-score   support\n",
            "\n",
            "         0.0       0.69      0.50      0.58       316\n",
            "         1.0       0.84      0.92      0.88       884\n",
            "\n",
            "    accuracy                           0.81      1200\n",
            "   macro avg       0.76      0.71      0.73      1200\n",
            "weighted avg       0.80      0.81      0.80      1200\n",
            "\n"
          ]
        }
      ]
    },
    {
      "cell_type": "code",
      "source": [],
      "metadata": {
        "id": "P7tZdX1qcoV0"
      },
      "execution_count": null,
      "outputs": []
    }
  ]
}