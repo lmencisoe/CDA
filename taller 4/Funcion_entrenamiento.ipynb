{
  "nbformat": 4,
  "nbformat_minor": 0,
  "metadata": {
    "colab": {
      "provenance": [],
      "authorship_tag": "ABX9TyOs0izzUh94hNB6vOE6Z2RF",
      "include_colab_link": true
    },
    "kernelspec": {
      "name": "python3",
      "display_name": "Python 3"
    },
    "language_info": {
      "name": "python"
    }
  },
  "cells": [
    {
      "cell_type": "markdown",
      "metadata": {
        "id": "view-in-github",
        "colab_type": "text"
      },
      "source": [
        "<a href=\"https://colab.research.google.com/github/lmencisoe/CDA/blob/main/taller%204/Funcion_entrenamiento.ipynb\" target=\"_parent\"><img src=\"https://colab.research.google.com/assets/colab-badge.svg\" alt=\"Open In Colab\"/></a>"
      ]
    },
    {
      "cell_type": "code",
      "execution_count": 1,
      "metadata": {
        "colab": {
          "base_uri": "https://localhost:8080/"
        },
        "id": "DkOO3_B8yk7t",
        "outputId": "9c7622ff-3ac9-43fc-93d0-27175c9488a1"
      },
      "outputs": [
        {
          "output_type": "stream",
          "name": "stdout",
          "text": [
            "Mounted at /content/drive\n"
          ]
        }
      ],
      "source": [
        "import pandas as pd\n",
        "import numpy as np\n",
        "import pandas as pd\n",
        "import matplotlib.pyplot as plt\n",
        "%matplotlib inline\n",
        "from pandas_profiling import ProfileReport\n",
        "from sklearn.linear_model import LogisticRegression\n",
        "from sklearn.neural_network import MLPClassifier\n",
        "from sklearn.svm import SVC\n",
        "import joblib\n",
        "from google.colab import drive\n",
        "drive.mount('/content/drive')\n",
        "from sklearn.ensemble import RandomForestClassifier\n",
        "from sklearn import metrics\n",
        "from sklearn.metrics import ConfusionMatrixDisplay, precision_score, recall_score, f1_score, auc\n",
        "from sklearn.preprocessing import StandardScaler\n",
        "from sklearn.preprocessing import OneHotEncoder\n",
        "from sklearn.impute import SimpleImputer\n",
        "from sklearn.compose import make_column_transformer\n",
        "from sklearn.model_selection import train_test_split\n",
        "from sklearn.compose import ColumnTransformer\n",
        "from sklearn.pipeline import Pipeline\n",
        "from sklearn.metrics import classification_report, confusion_matrix, accuracy_score\n",
        "from sklearn.model_selection import RandomizedSearchCV\n",
        "import tensorflow as tf\n",
        "import xgboost as xgb\n",
        "from xgboost import XGBClassifier\n",
        "from sklearn.tree import DecisionTreeClassifier, plot_tree\n",
        "from sklearn.feature_extraction import DictVectorizer\n",
        "from sklearn.pipeline import Pipeline\n",
        "from sklearn.model_selection import cross_val_score\n",
        "import seaborn as sns\n",
        "import warnings\n",
        "import re\n",
        "warnings.filterwarnings('ignore')"
      ]
    },
    {
      "cell_type": "code",
      "source": [
        "df_2 = pd.read_json('https://raw.githubusercontent.com/lmencisoe/CDA/main/taller%204/DataSet_Entrenamiento_v2.json')"
      ],
      "metadata": {
        "id": "guz5DdxHynMh"
      },
      "execution_count": 2,
      "outputs": []
    },
    {
      "cell_type": "code",
      "source": [
        "json_modelo = pd.read_json()"
      ],
      "metadata": {
        "id": "CkE_lo6kyx71"
      },
      "execution_count": null,
      "outputs": []
    },
    {
      "cell_type": "code",
      "source": [
        "mejor_modelo = joblib.load('/content/drive/MyDrive/CDA_taller4/pipeline_seleccionado.pkl')"
      ],
      "metadata": {
        "id": "P_1KQR44y35o"
      },
      "execution_count": 3,
      "outputs": []
    },
    {
      "cell_type": "code",
      "source": [
        "def entrenar(data):\n",
        "  mejor_modelo = joblib.load('/content/drive/MyDrive/CDA_taller4/pipeline_seleccionado.pkl')\n",
        "  data['TotalCharges'] = data['TotalCharges'].replace(\"\", 0)\n",
        "  data['TotalCharges'] = data['TotalCharges'].astype(float)\n",
        "  X_total = data.drop(['Churn', 'customerID'], axis=1)\n",
        "  data['target'] = np.where(data['Churn']!= 'Yes', 1, 0)\n",
        "  X_total = X_total.drop(['target'], axis=1)\n",
        "  Y_total = data['target'].astype(float)\n",
        "  X_train, X_test, y_train, y_test = train_test_split(X_total, Y_total, test_size=0.2, random_state=2022)\n",
        "  cat_features = X_total.select_dtypes(exclude=[\"float64\", \"int64\"]).columns.to_list()\n",
        "  numeric_features = X_total.select_dtypes([\"float64\", \"int64\"]).columns.to_list()\n",
        "\n",
        "  categorical_transformer = Pipeline(\n",
        "            steps=[\n",
        "                ('imputer', SimpleImputer(strategy='constant', fill_value='missing')),\n",
        "                ('encoder', OneHotEncoder())\n",
        "            ]\n",
        "        )    \n",
        "\n",
        "  numeric_transformer = Pipeline(\n",
        "            steps=[\n",
        "                ('imputer', SimpleImputer(strategy='most_frequent')),\n",
        "                ('scaler', StandardScaler())\n",
        "            ]\n",
        "        )\n",
        "\n",
        "  preprocessor = ColumnTransformer(\n",
        "            transformers=[\n",
        "                ('numerical', numeric_transformer, numeric_features),\n",
        "                ('categorical', categorical_transformer, cat_features)\n",
        "            ]\n",
        "        )\n",
        "  xgb_pipeline = Pipeline(\n",
        "            [\n",
        "                (\"preprocessor\", preprocessor),\n",
        "                (\n",
        "                    \"classifier\", XGBClassifier(),\n",
        "                ),\n",
        "            ]\n",
        "        )\n",
        "  fit_pipe = xgb_pipeline.fit(X_train, y_train)\n",
        "  resul1 = \" \".join(['AUC anterior modelo train:' , mejor_modelo.score(X_train, y_train).astype(str)])\n",
        "  resul2 = \" \".join(['AUC anterior modelo test:' , mejor_modelo.score(X_test, y_test).astype(str)])\n",
        "  resul3 = \" \".join(['AUC nuevo modelo train:' , fit_pipe.score(X_train, y_train).astype(str)])\n",
        "  resul4 = \" \".join(['AUC nuevo modelo test:' , fit_pipe.score(X_test, y_test).astype(str)])\n",
        "  return resul1, resul2, resul3, resul4  \n",
        "  #return X_train\n"
      ],
      "metadata": {
        "id": "Q-XXfdJbzAZE"
      },
      "execution_count": 48,
      "outputs": []
    },
    {
      "cell_type": "code",
      "source": [
        "entrenar(df_2)"
      ],
      "metadata": {
        "colab": {
          "base_uri": "https://localhost:8080/"
        },
        "id": "zRT2Puz50S-a",
        "outputId": "d788f09f-4ca2-47ca-cb9d-ff47629a9ea9"
      },
      "execution_count": 49,
      "outputs": [
        {
          "output_type": "execute_result",
          "data": {
            "text/plain": [
              "('AUC anterior modelo train: 0.79625',\n",
              " 'AUC anterior modelo test: 0.825',\n",
              " 'AUC nuevo modelo train: 0.8775',\n",
              " 'AUC nuevo modelo test: 0.825')"
            ]
          },
          "metadata": {},
          "execution_count": 49
        }
      ]
    },
    {
      "cell_type": "code",
      "source": [],
      "metadata": {
        "id": "LW2MtWnm0WMu"
      },
      "execution_count": null,
      "outputs": []
    }
  ]
}