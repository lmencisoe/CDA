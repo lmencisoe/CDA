{
  "nbformat": 4,
  "nbformat_minor": 0,
  "metadata": {
    "colab": {
      "provenance": [],
      "authorship_tag": "ABX9TyOljTwBbHUSSDB6l4YjTCsl",
      "include_colab_link": true
    },
    "kernelspec": {
      "name": "python3",
      "display_name": "Python 3"
    },
    "language_info": {
      "name": "python"
    }
  },
  "cells": [
    {
      "cell_type": "markdown",
      "metadata": {
        "id": "view-in-github",
        "colab_type": "text"
      },
      "source": [
        "<a href=\"https://colab.research.google.com/github/lmencisoe/CDA/blob/main/taller%204/Funcion_entrenamiento.ipynb\" target=\"_parent\"><img src=\"https://colab.research.google.com/assets/colab-badge.svg\" alt=\"Open In Colab\"/></a>"
      ]
    },
    {
      "cell_type": "code",
      "execution_count": null,
      "metadata": {
        "colab": {
          "base_uri": "https://localhost:8080/"
        },
        "id": "DkOO3_B8yk7t",
        "outputId": "2ecbff8a-5efb-4432-a5fc-781d873c3da0"
      },
      "outputs": [
        {
          "output_type": "stream",
          "name": "stdout",
          "text": [
            "Drive already mounted at /content/drive; to attempt to forcibly remount, call drive.mount(\"/content/drive\", force_remount=True).\n"
          ]
        }
      ],
      "source": [
        "import pandas as pd\n",
        "import numpy as np\n",
        "import pandas as pd\n",
        "import matplotlib.pyplot as plt\n",
        "%matplotlib inline\n",
        "from pandas_profiling import ProfileReport\n",
        "from sklearn.linear_model import LogisticRegression\n",
        "from sklearn.neural_network import MLPClassifier\n",
        "from sklearn.svm import SVC\n",
        "import joblib\n",
        "from google.colab import drive\n",
        "drive.mount('/content/drive')\n",
        "from sklearn.ensemble import RandomForestClassifier\n",
        "from sklearn import metrics\n",
        "from sklearn.metrics import ConfusionMatrixDisplay, precision_score, recall_score, f1_score, auc\n",
        "from sklearn.preprocessing import StandardScaler\n",
        "from sklearn.preprocessing import OneHotEncoder\n",
        "from sklearn.impute import SimpleImputer\n",
        "from sklearn.compose import make_column_transformer\n",
        "from sklearn.model_selection import train_test_split\n",
        "from sklearn.compose import ColumnTransformer\n",
        "from sklearn.pipeline import Pipeline\n",
        "from sklearn.metrics import classification_report, confusion_matrix, accuracy_score\n",
        "from sklearn.model_selection import RandomizedSearchCV\n",
        "import tensorflow as tf\n",
        "import xgboost as xgb\n",
        "from xgboost import XGBClassifier\n",
        "from sklearn.tree import DecisionTreeClassifier, plot_tree\n",
        "from sklearn.feature_extraction import DictVectorizer\n",
        "from sklearn.pipeline import Pipeline\n",
        "from sklearn.model_selection import cross_val_score\n",
        "import seaborn as sns\n",
        "import warnings\n",
        "import re\n",
        "warnings.filterwarnings('ignore')"
      ]
    },
    {
      "cell_type": "markdown",
      "source": [
        "Data de reentrenamiento"
      ],
      "metadata": {
        "id": "YRwkk-tis6Vy"
      }
    },
    {
      "cell_type": "code",
      "source": [
        "df_2 = pd.read_json('https://raw.githubusercontent.com/lmencisoe/CDA/main/taller%204/DataSet_Entrenamiento_v2.json')"
      ],
      "metadata": {
        "id": "guz5DdxHynMh"
      },
      "execution_count": null,
      "outputs": []
    },
    {
      "cell_type": "markdown",
      "source": [
        "Trae el mejor modelo"
      ],
      "metadata": {
        "id": "eSIDkdffs8v-"
      }
    },
    {
      "cell_type": "code",
      "source": [
        "json_modelo = joblib.load('/content/drive/MyDrive/CDA_taller4/xgb_best_hp.pkl')"
      ],
      "metadata": {
        "id": "CkE_lo6kyx71"
      },
      "execution_count": null,
      "outputs": []
    },
    {
      "cell_type": "markdown",
      "source": [
        "Trae los hiperparámetros del mejor modelo"
      ],
      "metadata": {
        "id": "d5lmse6Zs-id"
      }
    },
    {
      "cell_type": "code",
      "source": [
        "mejor_modelo = joblib.load('/content/drive/MyDrive/CDA_taller4/pipeline_seleccionado.pkl')"
      ],
      "metadata": {
        "id": "P_1KQR44y35o"
      },
      "execution_count": null,
      "outputs": []
    },
    {
      "cell_type": "markdown",
      "source": [
        "Define la función con el mismo pipeline y compara AUC de los modelos para data de train y data de test"
      ],
      "metadata": {
        "id": "1OjEkRQOtBFD"
      }
    },
    {
      "cell_type": "code",
      "source": [
        "def entrenar(data):\n",
        "  with open(\"/content/drive/MyDrive/CDA_taller4/version.txt\", \"r\") as version:\n",
        "     model_version = version.read()\n",
        "  data_f = data.copy()\n",
        "  data_f['target'] = np.where(data_f['Churn']!= 'Yes', 1, 0)\n",
        "  Y_total = data_f['target'].astype(float)\n",
        "  mejor_modelo = joblib.load('/content/drive/MyDrive/CDA_taller4/pipeline_seleccionado.pkl')\n",
        "  data_f['TotalCharges'] = data_f['TotalCharges'].replace(\"\", 0)\n",
        "  data_f['TotalCharges'] = data_f['TotalCharges'].astype(float)\n",
        "  X_total = data_f.drop(['Churn', 'customerID','target'], axis=1)\n",
        "  X_train, X_test, y_train, y_test = train_test_split(X_total, Y_total, test_size=0.2, random_state=2022)\n",
        "  cat_features = X_total.select_dtypes(exclude=[\"float64\", \"int64\"]).columns.to_list()\n",
        "  numeric_features = X_total.select_dtypes([\"float64\", \"int64\"]).columns.to_list()\n",
        "\n",
        "  categorical_transformer = Pipeline(\n",
        "            steps=[\n",
        "               #('imputer', SimpleImputer(strategy='constant', fill_value='missing')),\n",
        "                ('encoder', OneHotEncoder())\n",
        "            ]\n",
        "        )    \n",
        "\n",
        "  numeric_transformer = Pipeline(\n",
        "            steps=[\n",
        "                #('imputer', SimpleImputer(strategy='most_frequent')),\n",
        "                ('scaler', StandardScaler())\n",
        "            ]\n",
        "        )\n",
        "\n",
        "  preprocessor = ColumnTransformer(\n",
        "            transformers=[\n",
        "                ('numerical', numeric_transformer, numeric_features),\n",
        "                ('categorical', categorical_transformer, cat_features)\n",
        "            ]\n",
        "        )\n",
        "  xgb_pipeline = Pipeline(\n",
        "            [\n",
        "                (\"preprocessor\", preprocessor),\n",
        "                (\n",
        "                    \"classifier\", XGBClassifier(**json_modelo),\n",
        "                ),\n",
        "            ]\n",
        "        )\n",
        "  fit_pipe = xgb_pipeline.fit(X_train, y_train)\n",
        "  resul1 = \" \".join(['AUC anterior modelo train:' , mejor_modelo.score(X_train, y_train).astype(str)])\n",
        "  resul2 = \" \".join(['AUC anterior modelo test:' , mejor_modelo.score(X_test, y_test).astype(str)])\n",
        "  resul3 = \" \".join(['AUC nuevo modelo train:' , fit_pipe.score(X_train, y_train).astype(str)])\n",
        "  resul4 = \" \".join(['AUC nuevo modelo test:' , fit_pipe.score(X_test, y_test).astype(str)])\n",
        "  joblib.dump(fit_pipe, f'/content/drive/MyDrive/CDA_taller4/pipeline_seleccionado_{model_version}.pkl')\n",
        "  with open(\"/content/drive/MyDrive/CDA_taller4/version.txt\", \"w\") as version:\n",
        "    version.write(str(int(model_version)+1))\n",
        "\n",
        "  return resul1, resul2, resul3, resul4  \n",
        "  #return xgb_pipeline\n",
        "  #return X_train\n"
      ],
      "metadata": {
        "id": "Q-XXfdJbzAZE"
      },
      "execution_count": null,
      "outputs": []
    },
    {
      "cell_type": "code",
      "source": [
        "entrenar(df_2)"
      ],
      "metadata": {
        "colab": {
          "base_uri": "https://localhost:8080/"
        },
        "id": "zRT2Puz50S-a",
        "outputId": "a651e18c-2d50-4e4f-98a6-4daf66296944"
      },
      "execution_count": null,
      "outputs": [
        {
          "output_type": "execute_result",
          "data": {
            "text/plain": [
              "('AUC anterior modelo train: 0.79625',\n",
              " 'AUC anterior modelo test: 0.825',\n",
              " 'AUC nuevo modelo train: 0.8775',\n",
              " 'AUC nuevo modelo test: 0.825')"
            ]
          },
          "metadata": {},
          "execution_count": 107
        }
      ]
    },
    {
      "cell_type": "code",
      "source": [],
      "metadata": {
        "id": "1Z07axtIDx_9"
      },
      "execution_count": null,
      "outputs": []
    }
  ]
}